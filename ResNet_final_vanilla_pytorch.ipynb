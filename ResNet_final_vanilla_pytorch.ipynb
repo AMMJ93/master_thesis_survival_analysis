{
 "cells": [
  {
   "cell_type": "code",
   "execution_count": 1,
   "metadata": {},
   "outputs": [
    {
     "data": {
      "text/html": [
       "        <script type=\"text/javascript\">\n",
       "        window.PlotlyConfig = {MathJaxConfig: 'local'};\n",
       "        if (window.MathJax) {MathJax.Hub.Config({SVG: {font: \"STIX-Web\"}});}\n",
       "        if (typeof require !== 'undefined') {\n",
       "        require.undef(\"plotly\");\n",
       "        requirejs.config({\n",
       "            paths: {\n",
       "                'plotly': ['https://cdn.plot.ly/plotly-latest.min']\n",
       "            }\n",
       "        });\n",
       "        require(['plotly'], function(Plotly) {\n",
       "            window._Plotly = Plotly;\n",
       "        });\n",
       "        }\n",
       "        </script>\n",
       "        "
      ]
     },
     "metadata": {},
     "output_type": "display_data"
    }
   ],
   "source": [
    "import modules.resnet_3d as resnet\n",
    "from pathlib import Path\n",
    "import numpy as np\n",
    "from modules.mapper import FileMapper as fm\n",
    "from modules.dataset import Dataset\n",
    "from modules.dataset_image_only import Dataset as dataset_2\n",
    "from modules.cnn_model import CNNModel\n",
    "from torch.utils.data import DataLoader\n",
    "import torchtuples as tt\n",
    "from pycox.models import LogisticHazard\n",
    "import pickle\n",
    "import random\n",
    "from modules.mlflow_logger import Logger\n",
    "from modules.utils import getPatientIdentifier, collate_fn, returnMontage, get_optimizer\n",
    "import sys\n",
    "import argparse\n",
    "import datetime\n",
    "from pycox.evaluation import EvalSurv\n",
    "from pycox.utils import kaplan_meier\n",
    "import logging\n",
    "import logging.config\n",
    "import pytz\n",
    "import torch\n",
    "import plotly.graph_objs as go\n",
    "# from lifelines import KaplanMeierFitter\n",
    "import plotly\n",
    "plotly.offline.init_notebook_mode(connected=True)\n",
    "import pandas as pd\n",
    "%load_ext autoreload\n",
    "%autoreload 2\n",
    "import time"
   ]
  },
  {
   "cell_type": "code",
   "execution_count": 2,
   "metadata": {},
   "outputs": [],
   "source": [
    "# from typing import Tuple\n",
    "import torch\n",
    "from torch import Tensor\n",
    "import torch.nn.functional as F\n",
    "from pycox.models import utils\n",
    "from torchtuples import TupleTree\n",
    "\n",
    "\n",
    "def _reduction(loss: Tensor, reduction: str = 'mean') -> Tensor:\n",
    "    if reduction == 'none':\n",
    "        return loss\n",
    "    elif reduction == 'mean':\n",
    "        return loss.mean()\n",
    "    elif reduction == 'sum':\n",
    "        return loss.sum()\n",
    "    raise ValueError(f\"`reduction` = {reduction} is not valid. Use 'none', 'mean' or 'sum'.\")\n",
    "\n",
    "def nll_logistic_hazard(phi: Tensor, idx_durations: Tensor, events: Tensor,\n",
    "                        reduction: str = 'mean') -> Tensor:\n",
    "    \"\"\"Negative log-likelihood of the discrete time hazard parametrized model LogisticHazard [1].\n",
    "    \n",
    "    Arguments:\n",
    "        phi {torch.tensor} -- Estimates in (-inf, inf), where hazard = sigmoid(phi).\n",
    "        idx_durations {torch.tensor} -- Event times represented as indices.\n",
    "        events {torch.tensor} -- Indicator of event (1.) or censoring (0.).\n",
    "            Same length as 'idx_durations'.\n",
    "        reduction {string} -- How to reduce the loss.\n",
    "            'none': No reduction.\n",
    "            'mean': Mean of tensor.\n",
    "            'sum: sum.\n",
    "    \n",
    "    Returns:\n",
    "        torch.tensor -- The negative log-likelihood.\n",
    "    References:\n",
    "    [1] Håvard Kvamme and Ørnulf Borgan. Continuous and Discrete-Time Survival Prediction\n",
    "        with Neural Networks. arXiv preprint arXiv:1910.06724, 2019.\n",
    "        https://arxiv.org/pdf/1910.06724.pdf\n",
    "    \"\"\"\n",
    "    if phi.shape[1] <= idx_durations.max():\n",
    "        raise ValueError(f\"Network output `phi` is too small for `idx_durations`.\"+\n",
    "                         f\" Need at least `phi.shape[1] = {idx_durations.max().item()+1}`,\"+\n",
    "                         f\" but got `phi.shape[1] = {phi.shape[1]}`\")\n",
    "    if events.dtype is torch.bool:\n",
    "        events = events.float()\n",
    "    events = events.view(-1, 1)\n",
    "    events = events.cuda()\n",
    "    idx_durations = idx_durations.view(-1, 1)\n",
    "    idx_durations = idx_durations.cuda()\n",
    "    phi = phi.cuda()\n",
    "    y_bce = torch.zeros_like(phi).scatter(1, idx_durations, events)\n",
    "    bce = F.binary_cross_entropy_with_logits(phi, y_bce, reduction='none')\n",
    "    loss = bce.cumsum(1).gather(1, idx_durations).view(-1)\n",
    "    return _reduction(loss, reduction)"
   ]
  },
  {
   "cell_type": "code",
   "execution_count": 3,
   "metadata": {},
   "outputs": [],
   "source": [
    "class _Loss(torch.nn.Module):\n",
    "    \"\"\"Generic loss function.\n",
    "    \n",
    "    Arguments:\n",
    "        reduction {string} -- How to reduce the loss.\n",
    "            'none': No reduction.\n",
    "            'mean': Mean of tensor.\n",
    "            'sum: sum.\n",
    "    \"\"\"\n",
    "    def __init__(self, reduction: str = 'mean') -> None:\n",
    "        super().__init__()\n",
    "        self.reduction = reduction"
   ]
  },
  {
   "cell_type": "code",
   "execution_count": 4,
   "metadata": {},
   "outputs": [],
   "source": [
    "class NLLLogistiHazardLoss(_Loss):\n",
    "    \"\"\"Negative log-likelihood of the hazard parametrization model.\n",
    "    See `loss.nll_logistic_hazard` for details.\n",
    "    \n",
    "    Arguments:\n",
    "        reduction {string} -- How to reduce the loss.\n",
    "            'none': No reduction.\n",
    "            'mean': Mean of tensor.\n",
    "            'sum: sum.\n",
    "    \n",
    "    Returns:\n",
    "        torch.tensor -- The negative log-likelihood.\n",
    "    \"\"\"\n",
    "    def forward(self, phi: Tensor, idx_durations: Tensor, events: Tensor) -> Tensor:\n",
    "        return nll_logistic_hazard(phi, idx_durations, events, self.reduction)"
   ]
  },
  {
   "cell_type": "code",
   "execution_count": 5,
   "metadata": {},
   "outputs": [],
   "source": [
    "from torch import Tensor\n",
    "\n",
    "\n",
    "\n",
    "def output2surv(output: Tensor, epsilon: float = 1e-7) -> Tensor:\n",
    "    \"\"\"Transform a network output tensor to discrete survival estimates.\n",
    "    Ref: LogisticHazard\n",
    "    \"\"\"\n",
    "    hazards = output2hazard(output)\n",
    "    return hazard2surv(hazards, epsilon)\n",
    "\n",
    "\n",
    "def hazard2surv(hazard: Tensor, epsilon: float = 1e-7) -> Tensor:\n",
    "    \"\"\"Transform discrete hazards to discrete survival estimates.\n",
    "    Ref: LogisticHazard\n",
    "    \"\"\"\n",
    "    return (1 - hazard).add(epsilon).log().cumsum(1).exp()\n",
    "\n",
    "\n",
    "def output2hazard(output: Tensor) -> Tensor:\n",
    "    \"\"\"Transform a network output tensor to discrete hazards. This just calls the sigmoid function\n",
    "    Ref: LogisticHazard\n",
    "    \"\"\"\n",
    "    return output.sigmoid()"
   ]
  },
  {
   "cell_type": "code",
   "execution_count": 6,
   "metadata": {},
   "outputs": [],
   "source": [
    "# from pycox.models.loss import NLLLogistiHazardLoss\n",
    "# from pycox.models.discrete_time import output2hazard, output2surv"
   ]
  },
  {
   "cell_type": "markdown",
   "metadata": {},
   "source": [
    "# Create Dataset"
   ]
  },
  {
   "cell_type": "code",
   "execution_count": 7,
   "metadata": {},
   "outputs": [],
   "source": [
    "preop_patients = []\n",
    "for path in Path('./data/preoperative_no_norm').glob('BMIAXNA*'):\n",
    "    preop_patients.append(path)"
   ]
  },
  {
   "cell_type": "code",
   "execution_count": 8,
   "metadata": {},
   "outputs": [],
   "source": [
    "id_mapping = './data/pickles_jsons/id_surv_mapping_10_groups.json'"
   ]
  },
  {
   "cell_type": "code",
   "execution_count": 9,
   "metadata": {},
   "outputs": [
    {
     "name": "stdout",
     "output_type": "stream",
     "text": [
      "Number of patients/folders: 1016\n"
     ]
    }
   ],
   "source": [
    "mapper_class = fm(preop_patients, id_mapping, normalized=True)\n",
    "dataset = mapper_class.generate_mapping()"
   ]
  },
  {
   "cell_type": "code",
   "execution_count": 10,
   "metadata": {},
   "outputs": [],
   "source": [
    "with open('./data/pickles_jsons/filter_ids_v2_all.pkl', 'rb') as file:\n",
    "    filter_ids = pickle.load(file)\n",
    "dataset_filtered = [entry for entry in dataset if entry['ENT'] is not None]\n",
    "dataset_filtered = [entry for entry in dataset_filtered if entry['id'] not in filter_ids]"
   ]
  },
  {
   "cell_type": "markdown",
   "metadata": {},
   "source": [
    "## Set Random seed and randomize dataset"
   ]
  },
  {
   "cell_type": "code",
   "execution_count": 11,
   "metadata": {},
   "outputs": [],
   "source": [
    "random.seed(4)\n",
    "random.shuffle(dataset_filtered)"
   ]
  },
  {
   "cell_type": "code",
   "execution_count": 12,
   "metadata": {},
   "outputs": [
    {
     "data": {
      "text/plain": [
       "{'id': 'BMIAXNAT_S99999',\n",
       " 'T2w': '/home/jovyan/thesis/data/preoperative_no_norm/BMIAXNAT_S99999/T2w/BMIAXNAT_E99999_301_T2w.nii.gz',\n",
       " 'T1c': '/home/jovyan/thesis/data/preoperative_no_norm/BMIAXNAT_S99999/T1c/BMIAXNAT_E99999_301_T1c.nii.gz',\n",
       " 'T1w': '/home/jovyan/thesis/data/preoperative_no_norm/BMIAXNAT_S99999/T1w/BMIAXNAT_E99999_301_T1w.nii.gz',\n",
       " 'ENT': '/home/jovyan/thesis/data/preoperative_no_norm/BMIAXNAT_S99999/ENT/BMIAXNAT_E99999_302-MR1_ENT.nii.gz',\n",
       " 'FLR': '/home/jovyan/thesis/data/preoperative_no_norm/BMIAXNAT_S99999/FLR/BMIAXNAT_E99999_301_FLR.nii.gz',\n",
       " 'surv': 29.0,\n",
       " 'event': 1,\n",
       " 'group': 1}"
      ]
     },
     "execution_count": 12,
     "metadata": {},
     "output_type": "execute_result"
    }
   ],
   "source": [
    "dataset_filtered[0]"
   ]
  },
  {
   "cell_type": "markdown",
   "metadata": {},
   "source": [
    "# Train/Test/Val split datasets"
   ]
  },
  {
   "cell_type": "code",
   "execution_count": 13,
   "metadata": {},
   "outputs": [
    {
     "name": "stdout",
     "output_type": "stream",
     "text": [
      "Training Size: 711\n",
      "Validation Size: 101\n"
     ]
    }
   ],
   "source": [
    "train_dataset = Dataset(dataset_filtered, phase='train', normalize='zscore', size=64)\n",
    "val_dataset = Dataset(dataset_filtered, phase='val', normalize='zscore', size=64)"
   ]
  },
  {
   "cell_type": "code",
   "execution_count": 14,
   "metadata": {},
   "outputs": [
    {
     "name": "stdout",
     "output_type": "stream",
     "text": [
      "Test Size: 204\n"
     ]
    }
   ],
   "source": [
    "test_dataset = dataset_2(dataset_filtered, phase='test', normalize='zscore', size=64)"
   ]
  },
  {
   "cell_type": "markdown",
   "metadata": {},
   "source": [
    "# DataLoaders"
   ]
  },
  {
   "cell_type": "code",
   "execution_count": 15,
   "metadata": {},
   "outputs": [],
   "source": [
    "train_loader = DataLoader(train_dataset,\n",
    "                          batch_size=128,\n",
    "                          num_workers=6,\n",
    "                          shuffle=False,\n",
    "                          collate_fn=collate_fn)\n",
    "val_loader = DataLoader(val_dataset,\n",
    "                        batch_size=101,\n",
    "                        num_workers=6, shuffle=False,\n",
    "                        collate_fn=collate_fn)\n",
    "test_loader = DataLoader(test_dataset,\n",
    "                         batch_size=204,\n",
    "                         shuffle=False)"
   ]
  },
  {
   "cell_type": "markdown",
   "metadata": {},
   "source": [
    "# ResNet-10"
   ]
  },
  {
   "cell_type": "code",
   "execution_count": 16,
   "metadata": {},
   "outputs": [],
   "source": [
    "cuts = np.array([   0.,   66.,  141.,  208.,  292.,  363.,  449.,  592.,  829., 1785.])"
   ]
  },
  {
   "cell_type": "code",
   "execution_count": 17,
   "metadata": {},
   "outputs": [],
   "source": [
    "net = resnet.generate_model(model_depth=10,\n",
    "                        n_classes=10,\n",
    "                        n_input_channels=4,\n",
    "                        shortcut_type='B',\n",
    "                        conv1_t_size=7,\n",
    "                        conv1_t_stride=1,\n",
    "                        no_max_pool=False,\n",
    "                        widen_factor=1.0)\n",
    "# net.to(torch.device(\"cuda:0\"))"
   ]
  },
  {
   "cell_type": "code",
   "execution_count": 18,
   "metadata": {},
   "outputs": [
    {
     "data": {
      "text/plain": [
       "ResNet(\n",
       "  (conv1): Conv3d(4, 64, kernel_size=(7, 7, 7), stride=(1, 2, 2), padding=(3, 3, 3), bias=False)\n",
       "  (bn1): BatchNorm3d(64, eps=1e-05, momentum=0.1, affine=True, track_running_stats=True)\n",
       "  (relu): ReLU(inplace=True)\n",
       "  (maxpool): MaxPool3d(kernel_size=3, stride=2, padding=1, dilation=1, ceil_mode=False)\n",
       "  (layer1): Sequential(\n",
       "    (0): BasicBlock(\n",
       "      (conv1): Conv3d(64, 64, kernel_size=(3, 3, 3), stride=(1, 1, 1), padding=(1, 1, 1), bias=False)\n",
       "      (bn1): BatchNorm3d(64, eps=1e-05, momentum=0.1, affine=True, track_running_stats=True)\n",
       "      (relu): ReLU(inplace=True)\n",
       "      (conv2): Conv3d(64, 64, kernel_size=(3, 3, 3), stride=(1, 1, 1), padding=(1, 1, 1), bias=False)\n",
       "      (bn2): BatchNorm3d(64, eps=1e-05, momentum=0.1, affine=True, track_running_stats=True)\n",
       "    )\n",
       "  )\n",
       "  (layer2): Sequential(\n",
       "    (0): BasicBlock(\n",
       "      (conv1): Conv3d(64, 128, kernel_size=(3, 3, 3), stride=(2, 2, 2), padding=(1, 1, 1), bias=False)\n",
       "      (bn1): BatchNorm3d(128, eps=1e-05, momentum=0.1, affine=True, track_running_stats=True)\n",
       "      (relu): ReLU(inplace=True)\n",
       "      (conv2): Conv3d(128, 128, kernel_size=(3, 3, 3), stride=(1, 1, 1), padding=(1, 1, 1), bias=False)\n",
       "      (bn2): BatchNorm3d(128, eps=1e-05, momentum=0.1, affine=True, track_running_stats=True)\n",
       "      (downsample): Sequential(\n",
       "        (0): Conv3d(64, 128, kernel_size=(1, 1, 1), stride=(2, 2, 2), bias=False)\n",
       "        (1): BatchNorm3d(128, eps=1e-05, momentum=0.1, affine=True, track_running_stats=True)\n",
       "      )\n",
       "    )\n",
       "  )\n",
       "  (layer3): Sequential(\n",
       "    (0): BasicBlock(\n",
       "      (conv1): Conv3d(128, 256, kernel_size=(3, 3, 3), stride=(2, 2, 2), padding=(1, 1, 1), bias=False)\n",
       "      (bn1): BatchNorm3d(256, eps=1e-05, momentum=0.1, affine=True, track_running_stats=True)\n",
       "      (relu): ReLU(inplace=True)\n",
       "      (conv2): Conv3d(256, 256, kernel_size=(3, 3, 3), stride=(1, 1, 1), padding=(1, 1, 1), bias=False)\n",
       "      (bn2): BatchNorm3d(256, eps=1e-05, momentum=0.1, affine=True, track_running_stats=True)\n",
       "      (downsample): Sequential(\n",
       "        (0): Conv3d(128, 256, kernel_size=(1, 1, 1), stride=(2, 2, 2), bias=False)\n",
       "        (1): BatchNorm3d(256, eps=1e-05, momentum=0.1, affine=True, track_running_stats=True)\n",
       "      )\n",
       "    )\n",
       "  )\n",
       "  (layer4): Sequential(\n",
       "    (0): BasicBlock(\n",
       "      (conv1): Conv3d(256, 512, kernel_size=(3, 3, 3), stride=(2, 2, 2), padding=(1, 1, 1), bias=False)\n",
       "      (bn1): BatchNorm3d(512, eps=1e-05, momentum=0.1, affine=True, track_running_stats=True)\n",
       "      (relu): ReLU(inplace=True)\n",
       "      (conv2): Conv3d(512, 512, kernel_size=(3, 3, 3), stride=(1, 1, 1), padding=(1, 1, 1), bias=False)\n",
       "      (bn2): BatchNorm3d(512, eps=1e-05, momentum=0.1, affine=True, track_running_stats=True)\n",
       "      (downsample): Sequential(\n",
       "        (0): Conv3d(256, 512, kernel_size=(1, 1, 1), stride=(2, 2, 2), bias=False)\n",
       "        (1): BatchNorm3d(512, eps=1e-05, momentum=0.1, affine=True, track_running_stats=True)\n",
       "      )\n",
       "    )\n",
       "  )\n",
       "  (avgpool): AdaptiveAvgPool3d(output_size=(1, 1, 1))\n",
       "  (fc): Linear(in_features=512, out_features=10, bias=True)\n",
       "  (drop2): Dropout(p=0.6, inplace=False)\n",
       "  (drop1): Dropout(p=0.15, inplace=False)\n",
       ")"
      ]
     },
     "execution_count": 18,
     "metadata": {},
     "output_type": "execute_result"
    }
   ],
   "source": [
    "net.to(torch.device(\"cuda:0\"))"
   ]
  },
  {
   "cell_type": "code",
   "execution_count": 19,
   "metadata": {},
   "outputs": [],
   "source": [
    "from torch import nn\n",
    "import copy\n",
    "import datetime"
   ]
  },
  {
   "cell_type": "code",
   "execution_count": 20,
   "metadata": {},
   "outputs": [],
   "source": [
    "data_loaders = {'Train': train_loader, 'Val': val_loader}\n",
    "# data_lengths = {\"train\": len(train_dataset), \"val\": len(val_dataset)}"
   ]
  },
  {
   "cell_type": "code",
   "execution_count": 21,
   "metadata": {},
   "outputs": [],
   "source": [
    "n_epochs = 20"
   ]
  },
  {
   "cell_type": "code",
   "execution_count": 22,
   "metadata": {},
   "outputs": [
    {
     "name": "stdout",
     "output_type": "stream",
     "text": [
      "Epoch 0/19\n",
      "----------\n",
      "Train loss: 3.0653474807739256 -- Val loss: 2.1483428478240967 -- duration: 0:07:26.546926\n",
      "Epoch 1/19\n",
      "----------\n",
      "Train loss: 2.540719223022461 -- Val loss: 2.045602321624756 -- duration: 0:07:28.838712\n",
      "Epoch 2/19\n",
      "----------\n",
      "Train loss: 2.404555344581604 -- Val loss: 2.038055419921875 -- duration: 0:07:25.100639\n",
      "Epoch 3/19\n",
      "----------\n",
      "Train loss: 2.3828145027160645 -- Val loss: 2.013850212097168 -- duration: 0:07:24.511926\n",
      "Epoch 4/19\n",
      "----------\n",
      "Train loss: 2.3867342948913572 -- Val loss: 2.0760860443115234 -- duration: 0:07:23.991806\n",
      "Epoch 5/19\n",
      "----------\n",
      "Train loss: 2.392691731452942 -- Val loss: 2.027726650238037 -- duration: 0:07:23.477289\n",
      "Epoch 6/19\n",
      "----------\n",
      "Train loss: 2.3642590284347533 -- Val loss: 2.0355279445648193 -- duration: 0:07:24.238359\n",
      "Epoch 7/19\n",
      "----------\n",
      "Train loss: 2.341788411140442 -- Val loss: 2.002190351486206 -- duration: 0:07:23.994826\n",
      "Epoch 8/19\n",
      "----------\n",
      "Train loss: 2.3297257900238035 -- Val loss: 2.0405571460723877 -- duration: 0:07:23.867630\n",
      "Epoch 9/19\n",
      "----------\n",
      "Train loss: 2.340364193916321 -- Val loss: 2.062455177307129 -- duration: 0:07:24.212084\n",
      "Epoch 10/19\n",
      "----------\n",
      "Train loss: 2.321397805213928 -- Val loss: 2.062215566635132 -- duration: 0:07:22.729795\n",
      "Epoch 11/19\n",
      "----------\n",
      "Train loss: 2.342917323112488 -- Val loss: 2.0800344944000244 -- duration: 0:07:23.044295\n",
      "Epoch 12/19\n",
      "----------\n",
      "Train loss: 2.329526090621948 -- Val loss: 2.0804083347320557 -- duration: 0:07:25.659183\n",
      "Epoch 13/19\n",
      "----------\n",
      "Train loss: 2.2683367490768434 -- Val loss: 2.081146240234375 -- duration: 0:07:22.230810\n",
      "Epoch 14/19\n",
      "----------\n",
      "Train loss: 2.3145249843597413 -- Val loss: 2.094472646713257 -- duration: 0:07:23.955989\n",
      "Epoch 15/19\n",
      "----------\n",
      "Train loss: 2.275129246711731 -- Val loss: 2.12530255317688 -- duration: 0:07:24.603885\n",
      "Epoch 16/19\n",
      "----------\n",
      "Train loss: 2.2663663387298585 -- Val loss: 2.139169692993164 -- duration: 0:07:25.406342\n",
      "Epoch 17/19\n",
      "----------\n",
      "Train loss: 2.258046865463257 -- Val loss: 2.1293599605560303 -- duration: 0:07:24.317657\n",
      "Epoch 18/19\n",
      "----------\n",
      "Train loss: 2.2876530408859255 -- Val loss: 2.053098440170288 -- duration: 0:07:23.114249\n",
      "Epoch 19/19\n",
      "----------\n",
      "Train loss: 2.2434576749801636 -- Val loss: 2.22072434425354 -- duration: 0:07:23.030214\n"
     ]
    }
   ],
   "source": [
    "optimizer = torch.optim.Adam(net.parameters(), lr=0.001, betas=(0.9, 0.999), eps=1e-8, weight_decay=0, amsgrad=False)\n",
    "loss_func = NLLLogistiHazardLoss()\n",
    "\n",
    "best_loss = 1000.0\n",
    "best_model = net\n",
    "\n",
    "total_duration = 0\n",
    "\n",
    "for epoch in range(n_epochs):\n",
    "    time_begin = time.time()\n",
    "    running_loss = 0.0\n",
    "    print('Epoch {}/{}'.format(epoch, n_epochs - 1))\n",
    "    print('-' * 10)\n",
    "    for i, data in enumerate(train_loader):\n",
    "        x, (duration, event) = data\n",
    "        x = x.cuda()\n",
    "        \n",
    "        optimizer.zero_grad()\n",
    "        output = net(x)\n",
    "        loss = loss_func(output, duration, event)  # need x, duration, event\n",
    "\n",
    "        # zero the parameter (weight) gradients\n",
    "        optimizer.zero_grad()\n",
    "        \n",
    "        loss.backward()\n",
    "                \n",
    "        # update the weights\n",
    "        optimizer.step()\n",
    "        \n",
    "        # Cumulative loss validation\n",
    "        running_loss += loss.item()\n",
    "    \n",
    "    train_loss = copy.deepcopy(running_loss)\n",
    "    running_loss = 0.0\n",
    "    \n",
    "    for j, data in enumerate(val_loader):\n",
    "        with torch.no_grad():\n",
    "            x, (duration, event) = data\n",
    "            x = x.cuda()\n",
    "\n",
    "            output = net(x)\n",
    "\n",
    "            loss = loss_func(output, duration, event)  # need x, duration, event\n",
    "\n",
    "            # Cumulative loss validation\n",
    "            running_loss += loss.item()\n",
    "            \n",
    "            if running_loss < best_loss:\n",
    "                best_loss = running_loss\n",
    "                best_model = copy.deepcopy(net)\n",
    "        \n",
    "    time_end = time.time()\n",
    "\n",
    "    total_sec = time_end-time_begin\n",
    "    total = str(datetime.timedelta(seconds=total_sec))\n",
    "#     total_duration += total_sec\n",
    "    \n",
    "    if j == 0:\n",
    "        j += 1\n",
    "    \n",
    "    print(f'Train loss: {train_loss / i} -- Val loss: {running_loss / j} -- duration: {total}')"
   ]
  },
  {
   "cell_type": "markdown",
   "metadata": {},
   "source": [
    "# Predictions"
   ]
  },
  {
   "cell_type": "code",
   "execution_count": null,
   "metadata": {},
   "outputs": [],
   "source": [
    "net.eval()\n",
    "with torch.set_grad_enabled(False):\n",
    "    x_test = next(iter(test_loader))\n",
    "    x_test = x_test.cuda()\n",
    "    output = net(x_test)\n",
    "    surv = output2surv(output)\n",
    "surv_df = pd.DataFrame(surv.cpu().numpy().transpose(), cuts)"
   ]
  },
  {
   "cell_type": "code",
   "execution_count": 28,
   "metadata": {},
   "outputs": [
    {
     "data": {
      "text/html": [
       "<div>\n",
       "<style scoped>\n",
       "    .dataframe tbody tr th:only-of-type {\n",
       "        vertical-align: middle;\n",
       "    }\n",
       "\n",
       "    .dataframe tbody tr th {\n",
       "        vertical-align: top;\n",
       "    }\n",
       "\n",
       "    .dataframe thead th {\n",
       "        text-align: right;\n",
       "    }\n",
       "</style>\n",
       "<table border=\"1\" class=\"dataframe\">\n",
       "  <thead>\n",
       "    <tr style=\"text-align: right;\">\n",
       "      <th></th>\n",
       "      <th>0</th>\n",
       "      <th>1</th>\n",
       "      <th>2</th>\n",
       "      <th>3</th>\n",
       "      <th>4</th>\n",
       "      <th>5</th>\n",
       "      <th>6</th>\n",
       "      <th>7</th>\n",
       "      <th>8</th>\n",
       "      <th>9</th>\n",
       "      <th>...</th>\n",
       "      <th>194</th>\n",
       "      <th>195</th>\n",
       "      <th>196</th>\n",
       "      <th>197</th>\n",
       "      <th>198</th>\n",
       "      <th>199</th>\n",
       "      <th>200</th>\n",
       "      <th>201</th>\n",
       "      <th>202</th>\n",
       "      <th>203</th>\n",
       "    </tr>\n",
       "  </thead>\n",
       "  <tbody>\n",
       "    <tr>\n",
       "      <th>0.0</th>\n",
       "      <td>0.997034</td>\n",
       "      <td>0.997678</td>\n",
       "      <td>0.996309</td>\n",
       "      <td>0.996357</td>\n",
       "      <td>0.995860</td>\n",
       "      <td>0.997558</td>\n",
       "      <td>0.997990</td>\n",
       "      <td>0.995616</td>\n",
       "      <td>0.994833</td>\n",
       "      <td>0.996753</td>\n",
       "      <td>...</td>\n",
       "      <td>0.994798</td>\n",
       "      <td>0.998808</td>\n",
       "      <td>0.998238</td>\n",
       "      <td>0.999074</td>\n",
       "      <td>0.997158</td>\n",
       "      <td>0.996706</td>\n",
       "      <td>0.998306</td>\n",
       "      <td>0.994402</td>\n",
       "      <td>0.998192</td>\n",
       "      <td>0.994978</td>\n",
       "    </tr>\n",
       "    <tr>\n",
       "      <th>66.0</th>\n",
       "      <td>0.749037</td>\n",
       "      <td>0.940453</td>\n",
       "      <td>0.809939</td>\n",
       "      <td>0.930276</td>\n",
       "      <td>0.760846</td>\n",
       "      <td>0.920891</td>\n",
       "      <td>0.922221</td>\n",
       "      <td>0.819060</td>\n",
       "      <td>0.859384</td>\n",
       "      <td>0.825921</td>\n",
       "      <td>...</td>\n",
       "      <td>0.767290</td>\n",
       "      <td>0.933739</td>\n",
       "      <td>0.822802</td>\n",
       "      <td>0.988176</td>\n",
       "      <td>0.813109</td>\n",
       "      <td>0.904243</td>\n",
       "      <td>0.909409</td>\n",
       "      <td>0.861408</td>\n",
       "      <td>0.825210</td>\n",
       "      <td>0.829403</td>\n",
       "    </tr>\n",
       "    <tr>\n",
       "      <th>141.0</th>\n",
       "      <td>0.554222</td>\n",
       "      <td>0.886656</td>\n",
       "      <td>0.739687</td>\n",
       "      <td>0.860386</td>\n",
       "      <td>0.600365</td>\n",
       "      <td>0.877744</td>\n",
       "      <td>0.903115</td>\n",
       "      <td>0.614668</td>\n",
       "      <td>0.719020</td>\n",
       "      <td>0.751655</td>\n",
       "      <td>...</td>\n",
       "      <td>0.488969</td>\n",
       "      <td>0.918678</td>\n",
       "      <td>0.784801</td>\n",
       "      <td>0.935484</td>\n",
       "      <td>0.742623</td>\n",
       "      <td>0.788909</td>\n",
       "      <td>0.880701</td>\n",
       "      <td>0.725580</td>\n",
       "      <td>0.772190</td>\n",
       "      <td>0.688580</td>\n",
       "    </tr>\n",
       "    <tr>\n",
       "      <th>208.0</th>\n",
       "      <td>0.433784</td>\n",
       "      <td>0.755968</td>\n",
       "      <td>0.515129</td>\n",
       "      <td>0.647055</td>\n",
       "      <td>0.462069</td>\n",
       "      <td>0.711140</td>\n",
       "      <td>0.828781</td>\n",
       "      <td>0.480082</td>\n",
       "      <td>0.565823</td>\n",
       "      <td>0.554526</td>\n",
       "      <td>...</td>\n",
       "      <td>0.369386</td>\n",
       "      <td>0.849189</td>\n",
       "      <td>0.525921</td>\n",
       "      <td>0.919022</td>\n",
       "      <td>0.559520</td>\n",
       "      <td>0.658666</td>\n",
       "      <td>0.782762</td>\n",
       "      <td>0.546452</td>\n",
       "      <td>0.548740</td>\n",
       "      <td>0.565039</td>\n",
       "    </tr>\n",
       "    <tr>\n",
       "      <th>292.0</th>\n",
       "      <td>0.341184</td>\n",
       "      <td>0.688342</td>\n",
       "      <td>0.355539</td>\n",
       "      <td>0.616239</td>\n",
       "      <td>0.389703</td>\n",
       "      <td>0.654063</td>\n",
       "      <td>0.751281</td>\n",
       "      <td>0.317418</td>\n",
       "      <td>0.423582</td>\n",
       "      <td>0.380675</td>\n",
       "      <td>...</td>\n",
       "      <td>0.258473</td>\n",
       "      <td>0.791710</td>\n",
       "      <td>0.410455</td>\n",
       "      <td>0.907477</td>\n",
       "      <td>0.367879</td>\n",
       "      <td>0.568770</td>\n",
       "      <td>0.703858</td>\n",
       "      <td>0.423859</td>\n",
       "      <td>0.399579</td>\n",
       "      <td>0.514883</td>\n",
       "    </tr>\n",
       "    <tr>\n",
       "      <th>363.0</th>\n",
       "      <td>0.295089</td>\n",
       "      <td>0.577103</td>\n",
       "      <td>0.322700</td>\n",
       "      <td>0.526227</td>\n",
       "      <td>0.302260</td>\n",
       "      <td>0.564390</td>\n",
       "      <td>0.682298</td>\n",
       "      <td>0.262158</td>\n",
       "      <td>0.331735</td>\n",
       "      <td>0.341024</td>\n",
       "      <td>...</td>\n",
       "      <td>0.222280</td>\n",
       "      <td>0.731250</td>\n",
       "      <td>0.391331</td>\n",
       "      <td>0.867705</td>\n",
       "      <td>0.329934</td>\n",
       "      <td>0.512316</td>\n",
       "      <td>0.651573</td>\n",
       "      <td>0.340641</td>\n",
       "      <td>0.376605</td>\n",
       "      <td>0.391620</td>\n",
       "    </tr>\n",
       "    <tr>\n",
       "      <th>449.0</th>\n",
       "      <td>0.215082</td>\n",
       "      <td>0.436341</td>\n",
       "      <td>0.262137</td>\n",
       "      <td>0.468832</td>\n",
       "      <td>0.236041</td>\n",
       "      <td>0.450700</td>\n",
       "      <td>0.561290</td>\n",
       "      <td>0.207640</td>\n",
       "      <td>0.246361</td>\n",
       "      <td>0.291879</td>\n",
       "      <td>...</td>\n",
       "      <td>0.185928</td>\n",
       "      <td>0.616829</td>\n",
       "      <td>0.347094</td>\n",
       "      <td>0.663350</td>\n",
       "      <td>0.283955</td>\n",
       "      <td>0.425733</td>\n",
       "      <td>0.464703</td>\n",
       "      <td>0.244165</td>\n",
       "      <td>0.333644</td>\n",
       "      <td>0.288756</td>\n",
       "    </tr>\n",
       "    <tr>\n",
       "      <th>592.0</th>\n",
       "      <td>0.170989</td>\n",
       "      <td>0.310860</td>\n",
       "      <td>0.159205</td>\n",
       "      <td>0.384390</td>\n",
       "      <td>0.184411</td>\n",
       "      <td>0.314420</td>\n",
       "      <td>0.443923</td>\n",
       "      <td>0.130040</td>\n",
       "      <td>0.187967</td>\n",
       "      <td>0.179073</td>\n",
       "      <td>...</td>\n",
       "      <td>0.120564</td>\n",
       "      <td>0.481808</td>\n",
       "      <td>0.191054</td>\n",
       "      <td>0.604476</td>\n",
       "      <td>0.160361</td>\n",
       "      <td>0.343353</td>\n",
       "      <td>0.352480</td>\n",
       "      <td>0.181964</td>\n",
       "      <td>0.179873</td>\n",
       "      <td>0.226428</td>\n",
       "    </tr>\n",
       "    <tr>\n",
       "      <th>829.0</th>\n",
       "      <td>0.099992</td>\n",
       "      <td>0.237899</td>\n",
       "      <td>0.111231</td>\n",
       "      <td>0.285684</td>\n",
       "      <td>0.117266</td>\n",
       "      <td>0.255439</td>\n",
       "      <td>0.259368</td>\n",
       "      <td>0.064209</td>\n",
       "      <td>0.110400</td>\n",
       "      <td>0.126405</td>\n",
       "      <td>...</td>\n",
       "      <td>0.048033</td>\n",
       "      <td>0.277870</td>\n",
       "      <td>0.144287</td>\n",
       "      <td>0.464735</td>\n",
       "      <td>0.108009</td>\n",
       "      <td>0.199821</td>\n",
       "      <td>0.216795</td>\n",
       "      <td>0.112228</td>\n",
       "      <td>0.134679</td>\n",
       "      <td>0.145723</td>\n",
       "    </tr>\n",
       "    <tr>\n",
       "      <th>1785.0</th>\n",
       "      <td>0.004337</td>\n",
       "      <td>0.007304</td>\n",
       "      <td>0.006974</td>\n",
       "      <td>0.006015</td>\n",
       "      <td>0.004413</td>\n",
       "      <td>0.008811</td>\n",
       "      <td>0.004453</td>\n",
       "      <td>0.002149</td>\n",
       "      <td>0.008765</td>\n",
       "      <td>0.007000</td>\n",
       "      <td>...</td>\n",
       "      <td>0.002494</td>\n",
       "      <td>0.002906</td>\n",
       "      <td>0.004263</td>\n",
       "      <td>0.001943</td>\n",
       "      <td>0.005222</td>\n",
       "      <td>0.006136</td>\n",
       "      <td>0.003491</td>\n",
       "      <td>0.007958</td>\n",
       "      <td>0.004474</td>\n",
       "      <td>0.005707</td>\n",
       "    </tr>\n",
       "  </tbody>\n",
       "</table>\n",
       "<p>10 rows × 204 columns</p>\n",
       "</div>"
      ],
      "text/plain": [
       "             0         1         2         3         4         5         6    \\\n",
       "0.0     0.997034  0.997678  0.996309  0.996357  0.995860  0.997558  0.997990   \n",
       "66.0    0.749037  0.940453  0.809939  0.930276  0.760846  0.920891  0.922221   \n",
       "141.0   0.554222  0.886656  0.739687  0.860386  0.600365  0.877744  0.903115   \n",
       "208.0   0.433784  0.755968  0.515129  0.647055  0.462069  0.711140  0.828781   \n",
       "292.0   0.341184  0.688342  0.355539  0.616239  0.389703  0.654063  0.751281   \n",
       "363.0   0.295089  0.577103  0.322700  0.526227  0.302260  0.564390  0.682298   \n",
       "449.0   0.215082  0.436341  0.262137  0.468832  0.236041  0.450700  0.561290   \n",
       "592.0   0.170989  0.310860  0.159205  0.384390  0.184411  0.314420  0.443923   \n",
       "829.0   0.099992  0.237899  0.111231  0.285684  0.117266  0.255439  0.259368   \n",
       "1785.0  0.004337  0.007304  0.006974  0.006015  0.004413  0.008811  0.004453   \n",
       "\n",
       "             7         8         9    ...       194       195       196  \\\n",
       "0.0     0.995616  0.994833  0.996753  ...  0.994798  0.998808  0.998238   \n",
       "66.0    0.819060  0.859384  0.825921  ...  0.767290  0.933739  0.822802   \n",
       "141.0   0.614668  0.719020  0.751655  ...  0.488969  0.918678  0.784801   \n",
       "208.0   0.480082  0.565823  0.554526  ...  0.369386  0.849189  0.525921   \n",
       "292.0   0.317418  0.423582  0.380675  ...  0.258473  0.791710  0.410455   \n",
       "363.0   0.262158  0.331735  0.341024  ...  0.222280  0.731250  0.391331   \n",
       "449.0   0.207640  0.246361  0.291879  ...  0.185928  0.616829  0.347094   \n",
       "592.0   0.130040  0.187967  0.179073  ...  0.120564  0.481808  0.191054   \n",
       "829.0   0.064209  0.110400  0.126405  ...  0.048033  0.277870  0.144287   \n",
       "1785.0  0.002149  0.008765  0.007000  ...  0.002494  0.002906  0.004263   \n",
       "\n",
       "             197       198       199       200       201       202       203  \n",
       "0.0     0.999074  0.997158  0.996706  0.998306  0.994402  0.998192  0.994978  \n",
       "66.0    0.988176  0.813109  0.904243  0.909409  0.861408  0.825210  0.829403  \n",
       "141.0   0.935484  0.742623  0.788909  0.880701  0.725580  0.772190  0.688580  \n",
       "208.0   0.919022  0.559520  0.658666  0.782762  0.546452  0.548740  0.565039  \n",
       "292.0   0.907477  0.367879  0.568770  0.703858  0.423859  0.399579  0.514883  \n",
       "363.0   0.867705  0.329934  0.512316  0.651573  0.340641  0.376605  0.391620  \n",
       "449.0   0.663350  0.283955  0.425733  0.464703  0.244165  0.333644  0.288756  \n",
       "592.0   0.604476  0.160361  0.343353  0.352480  0.181964  0.179873  0.226428  \n",
       "829.0   0.464735  0.108009  0.199821  0.216795  0.112228  0.134679  0.145723  \n",
       "1785.0  0.001943  0.005222  0.006136  0.003491  0.007958  0.004474  0.005707  \n",
       "\n",
       "[10 rows x 204 columns]"
      ]
     },
     "execution_count": 28,
     "metadata": {},
     "output_type": "execute_result"
    }
   ],
   "source": [
    "surv_df"
   ]
  },
  {
   "cell_type": "markdown",
   "metadata": {},
   "source": [
    "### One patient example"
   ]
  },
  {
   "cell_type": "code",
   "execution_count": 56,
   "metadata": {},
   "outputs": [],
   "source": [
    "trace = go.Scatter(x=surv_df.iloc[:, 3].index.tolist(), y=surv_df.iloc[:, 3].values.tolist(), mode='lines', line_shape='hv', name='Survival function', line_color='red')\n",
    "\n",
    "layout = go.Layout(\n",
    "#     title='Average survival curves per group', \n",
    "#     title_x=0.5, \n",
    "    xaxis_title='Time (days)', \n",
    "    yaxis_title='S(t | x)', \n",
    "    plot_bgcolor='rgb(252, 252, 252)', \n",
    "    xaxis_gridcolor='rgb(245, 242, 240)',\n",
    "    yaxis_gridcolor='rgb(245, 242, 240)',\n",
    "    yaxis_linecolor=\"black\",\n",
    "    xaxis_linecolor=\"black\",\n",
    "    xaxis_range=(0, 900),\n",
    "    xaxis_tickmode = 'linear',\n",
    "    xaxis_dtick = 100,\n",
    "    yaxis_range=(0, 1),\n",
    "    yaxis_tickmode = 'linear',\n",
    "    yaxis_dtick = 0.1,\n",
    "    showlegend=True,\n",
    "    legend_title='Discrete time',\n",
    "    legend_yanchor=\"top\",\n",
    "    legend_y = 0.99,\n",
    "    legend_xanchor=\"right\",\n",
    "    legend_x=0.99,\n",
    "    width=500,height=500, autosize=False)\n",
    "fig = go.Figure([trace], layout=layout)"
   ]
  },
  {
   "cell_type": "markdown",
   "metadata": {},
   "source": [
    "# Calibration"
   ]
  },
  {
   "cell_type": "code",
   "execution_count": 32,
   "metadata": {},
   "outputs": [],
   "source": [
    "km_test = pd.read_csv('./data/km_test.csv')"
   ]
  },
  {
   "cell_type": "code",
   "execution_count": 72,
   "metadata": {},
   "outputs": [],
   "source": [
    "layout = go.Layout( \n",
    "    xaxis_title='Time (days)', \n",
    "    yaxis_title='S(t)', \n",
    "    plot_bgcolor='rgb(252, 253, 255)', \n",
    "    xaxis_gridcolor='rgb(245, 242, 240)',\n",
    "    yaxis_gridcolor='rgb(245, 242, 240)',\n",
    "    yaxis_linecolor=\"black\",\n",
    "    xaxis_linecolor=\"black\",\n",
    "    xaxis_range=(0, 1800),\n",
    "                \n",
    "    yaxis_range=(0, 1),\n",
    "    yaxis_tickmode = 'linear',\n",
    "    yaxis_dtick = 0.1,\n",
    "\n",
    "    xaxis_tickmode = 'linear',\n",
    "    xaxis_dtick = 100,\n",
    "    showlegend=True,\n",
    "    legend_yanchor=\"top\",\n",
    "    legend_y = 0.99,\n",
    "    legend_xanchor=\"right\",\n",
    "    legend_x=0.99,\n",
    "    width=500,height=500, autosize=False)"
   ]
  },
  {
   "cell_type": "code",
   "execution_count": null,
   "metadata": {},
   "outputs": [],
   "source": [
    "trace1 = go.Scatter(x=surv_df.mean(axis=1).index.tolist(), y=surv_df.mean(axis=1).values.tolist(), mode='lines', line_shape='hv', name='Test sample predicted surv')\n",
    "trace2 = go.Scatter(x=km_test['Unnamed: 0'].tolist(), y=km_test['0'].tolist(), name='Test sample observed surv')    \n",
    "\n",
    "fig = go.Figure([trace1, trace2], layout=layout)"
   ]
  },
  {
   "cell_type": "markdown",
   "metadata": {},
   "source": [
    "# Average survival curves"
   ]
  },
  {
   "cell_type": "code",
   "execution_count": 33,
   "metadata": {},
   "outputs": [
    {
     "name": "stdout",
     "output_type": "stream",
     "text": [
      "Test Size: 204\n",
      "Test Size: 204\n",
      "Test Size: 204\n"
     ]
    }
   ],
   "source": [
    "targets = dataset_2(dataset_filtered, phase='test', targets=True)[0][0]\n",
    "events = dataset_2(dataset_filtered, phase='test', targets=True)[0][1]\n",
    "survs = dataset_2(dataset_filtered, phase='test', targets=True)[0][2]"
   ]
  },
  {
   "cell_type": "code",
   "execution_count": 89,
   "metadata": {},
   "outputs": [],
   "source": [
    "group_x = []\n",
    "group_y = []\n",
    "for i in range(10):\n",
    "    idx = targets == i\n",
    "    group_df = surf_df.loc[:, idx].mean(axis=1).rename(i)\n",
    "    group_x.append(list(group_df.index))\n",
    "    group_y.append(group_df.values)"
   ]
  },
  {
   "cell_type": "code",
   "execution_count": 69,
   "metadata": {},
   "outputs": [],
   "source": [
    "# colors = ['rgb(166,206,227)','rgb(31,120,180)','rgb(178,223,138)','rgb(51,160,44)','rgb(251,154,153)','rgb(227,26,28)','rgb(253,191,111)','rgb(255,127,0)','rgb(202,178,214)','rgb(106,61,154)']\n",
    "colors = ['rgb(103,0,31)','rgb(178,24,43)','rgb(214,96,77)','rgb(244,165,130)','rgb(253,219,199)','rgb(209,229,240)','rgb(146,197,222)','rgb(67,147,195)','rgb(33,102,172)','rgb(5,48,97)']\n",
    "traces = []\n",
    "for i in range(9):\n",
    "    trace = go.Scatter(x=group_x[i], y=group_y[i], mode='markers', name='{} days'.format(int(cuts[i])), line_color=colors[i], line_width=1.5)\n",
    "    traces.append(trace)"
   ]
  },
  {
   "cell_type": "code",
   "execution_count": 73,
   "metadata": {},
   "outputs": [],
   "source": [
    "fig = go.Figure(traces, layout=layout)\n",
    "# fig.update_yaxes(type=\"log\")"
   ]
  },
  {
   "cell_type": "code",
   "execution_count": 74,
   "metadata": {},
   "outputs": [
    {
     "data": {
      "application/vnd.plotly.v1+json": {
       "config": {
        "plotlyServerURL": "https://plot.ly"
       },
       "data": [
        {
         "line": {
          "color": "rgb(103,0,31)",
          "width": 1.5
         },
         "mode": "markers",
         "name": "0 days",
         "type": "scatter",
         "x": [
          0,
          66,
          141,
          208,
          292,
          363,
          449,
          592,
          829,
          1785
         ],
         "y": [
          null,
          null,
          null,
          null,
          null,
          null,
          null,
          null,
          null,
          null
         ]
        },
        {
         "line": {
          "color": "rgb(178,24,43)",
          "width": 1.5
         },
         "mode": "markers",
         "name": "66 days",
         "type": "scatter",
         "x": [
          0,
          66,
          141,
          208,
          292,
          363,
          449,
          592,
          829,
          1785
         ],
         "y": [
          0.989159882068634,
          0.8528707027435303,
          0.7164186835289001,
          0.6057114601135254,
          0.4778578281402588,
          0.3581249713897705,
          0.2761897146701813,
          0.17576642334461212,
          0.10427485406398773,
          0.006060521584004164
         ]
        },
        {
         "line": {
          "color": "rgb(214,96,77)",
          "width": 1.5
         },
         "mode": "markers",
         "name": "141 days",
         "type": "scatter",
         "x": [
          0,
          66,
          141,
          208,
          292,
          363,
          449,
          592,
          829,
          1785
         ],
         "y": [
          0.9891161322593689,
          0.8557180166244507,
          0.7219880223274231,
          0.6101451516151428,
          0.4864978790283203,
          0.3748666048049927,
          0.28375595808029175,
          0.18981362879276276,
          0.11541632562875748,
          0.006253170780837536
         ]
        },
        {
         "line": {
          "color": "rgb(244,165,130)",
          "width": 1.5
         },
         "mode": "markers",
         "name": "208 days",
         "type": "scatter",
         "x": [
          0,
          66,
          141,
          208,
          292,
          363,
          449,
          592,
          829,
          1785
         ],
         "y": [
          0.9896124005317688,
          0.8609512448310852,
          0.6938270926475525,
          0.5824856758117676,
          0.46146127581596375,
          0.35225939750671387,
          0.27013519406318665,
          0.18018591403961182,
          0.11142051964998245,
          0.006018757354468107
         ]
        },
        {
         "line": {
          "color": "rgb(253,219,199)",
          "width": 1.5
         },
         "mode": "markers",
         "name": "292 days",
         "type": "scatter",
         "x": [
          0,
          66,
          141,
          208,
          292,
          363,
          449,
          592,
          829,
          1785
         ],
         "y": [
          0.9900639057159424,
          0.878125786781311,
          0.7594301700592041,
          0.6600151062011719,
          0.5433449149131775,
          0.42394039034843445,
          0.3233492374420166,
          0.219022735953331,
          0.137936532497406,
          0.005818502511829138
         ]
        },
        {
         "line": {
          "color": "rgb(209,229,240)",
          "width": 1.5
         },
         "mode": "markers",
         "name": "363 days",
         "type": "scatter",
         "x": [
          0,
          66,
          141,
          208,
          292,
          363,
          449,
          592,
          829,
          1785
         ],
         "y": [
          0.991305947303772,
          0.9171699285507202,
          0.8381041288375854,
          0.7477606534957886,
          0.6609292030334473,
          0.5334463715553284,
          0.41559264063835144,
          0.31105199456214905,
          0.21118856966495514,
          0.005294698290526867
         ]
        },
        {
         "line": {
          "color": "rgb(146,197,222)",
          "width": 1.5
         },
         "mode": "markers",
         "name": "449 days",
         "type": "scatter",
         "x": [
          0,
          66,
          141,
          208,
          292,
          363,
          449,
          592,
          829,
          1785
         ],
         "y": [
          0.9905750155448914,
          0.8938601016998291,
          0.7975311875343323,
          0.7035284042358398,
          0.5955786108970642,
          0.47474467754364014,
          0.3685433566570282,
          0.2570890188217163,
          0.16667820513248444,
          0.005766943097114563
         ]
        },
        {
         "line": {
          "color": "rgb(67,147,195)",
          "width": 1.5
         },
         "mode": "markers",
         "name": "592 days",
         "type": "scatter",
         "x": [
          0,
          66,
          141,
          208,
          292,
          363,
          449,
          592,
          829,
          1785
         ],
         "y": [
          0.9929242730140686,
          0.943523108959198,
          0.8837410807609558,
          0.7872095108032227,
          0.7174338698387146,
          0.5889725089073181,
          0.47063857316970825,
          0.3557540476322174,
          0.26044946908950806,
          0.004633333534002304
         ]
        },
        {
         "line": {
          "color": "rgb(33,102,172)",
          "width": 1.5
         },
         "mode": "markers",
         "name": "829 days",
         "type": "scatter",
         "x": [
          0,
          66,
          141,
          208,
          292,
          363,
          449,
          592,
          829,
          1785
         ],
         "y": [
          0.9905351996421814,
          0.8987590074539185,
          0.7820705771446228,
          0.6748942732810974,
          0.5694698095321655,
          0.44655242562294006,
          0.337588906288147,
          0.2316104620695114,
          0.14867931604385376,
          0.005886836908757687
         ]
        }
       ],
       "layout": {
        "autosize": false,
        "height": 500,
        "legend": {
         "x": 0.99,
         "xanchor": "right",
         "y": 0.99,
         "yanchor": "top"
        },
        "plot_bgcolor": "rgb(252, 253, 255)",
        "showlegend": true,
        "template": {
         "data": {
          "bar": [
           {
            "error_x": {
             "color": "#2a3f5f"
            },
            "error_y": {
             "color": "#2a3f5f"
            },
            "marker": {
             "line": {
              "color": "#E5ECF6",
              "width": 0.5
             }
            },
            "type": "bar"
           }
          ],
          "barpolar": [
           {
            "marker": {
             "line": {
              "color": "#E5ECF6",
              "width": 0.5
             }
            },
            "type": "barpolar"
           }
          ],
          "carpet": [
           {
            "aaxis": {
             "endlinecolor": "#2a3f5f",
             "gridcolor": "white",
             "linecolor": "white",
             "minorgridcolor": "white",
             "startlinecolor": "#2a3f5f"
            },
            "baxis": {
             "endlinecolor": "#2a3f5f",
             "gridcolor": "white",
             "linecolor": "white",
             "minorgridcolor": "white",
             "startlinecolor": "#2a3f5f"
            },
            "type": "carpet"
           }
          ],
          "choropleth": [
           {
            "colorbar": {
             "outlinewidth": 0,
             "ticks": ""
            },
            "type": "choropleth"
           }
          ],
          "contour": [
           {
            "colorbar": {
             "outlinewidth": 0,
             "ticks": ""
            },
            "colorscale": [
             [
              0,
              "#0d0887"
             ],
             [
              0.1111111111111111,
              "#46039f"
             ],
             [
              0.2222222222222222,
              "#7201a8"
             ],
             [
              0.3333333333333333,
              "#9c179e"
             ],
             [
              0.4444444444444444,
              "#bd3786"
             ],
             [
              0.5555555555555556,
              "#d8576b"
             ],
             [
              0.6666666666666666,
              "#ed7953"
             ],
             [
              0.7777777777777778,
              "#fb9f3a"
             ],
             [
              0.8888888888888888,
              "#fdca26"
             ],
             [
              1,
              "#f0f921"
             ]
            ],
            "type": "contour"
           }
          ],
          "contourcarpet": [
           {
            "colorbar": {
             "outlinewidth": 0,
             "ticks": ""
            },
            "type": "contourcarpet"
           }
          ],
          "heatmap": [
           {
            "colorbar": {
             "outlinewidth": 0,
             "ticks": ""
            },
            "colorscale": [
             [
              0,
              "#0d0887"
             ],
             [
              0.1111111111111111,
              "#46039f"
             ],
             [
              0.2222222222222222,
              "#7201a8"
             ],
             [
              0.3333333333333333,
              "#9c179e"
             ],
             [
              0.4444444444444444,
              "#bd3786"
             ],
             [
              0.5555555555555556,
              "#d8576b"
             ],
             [
              0.6666666666666666,
              "#ed7953"
             ],
             [
              0.7777777777777778,
              "#fb9f3a"
             ],
             [
              0.8888888888888888,
              "#fdca26"
             ],
             [
              1,
              "#f0f921"
             ]
            ],
            "type": "heatmap"
           }
          ],
          "heatmapgl": [
           {
            "colorbar": {
             "outlinewidth": 0,
             "ticks": ""
            },
            "colorscale": [
             [
              0,
              "#0d0887"
             ],
             [
              0.1111111111111111,
              "#46039f"
             ],
             [
              0.2222222222222222,
              "#7201a8"
             ],
             [
              0.3333333333333333,
              "#9c179e"
             ],
             [
              0.4444444444444444,
              "#bd3786"
             ],
             [
              0.5555555555555556,
              "#d8576b"
             ],
             [
              0.6666666666666666,
              "#ed7953"
             ],
             [
              0.7777777777777778,
              "#fb9f3a"
             ],
             [
              0.8888888888888888,
              "#fdca26"
             ],
             [
              1,
              "#f0f921"
             ]
            ],
            "type": "heatmapgl"
           }
          ],
          "histogram": [
           {
            "marker": {
             "colorbar": {
              "outlinewidth": 0,
              "ticks": ""
             }
            },
            "type": "histogram"
           }
          ],
          "histogram2d": [
           {
            "colorbar": {
             "outlinewidth": 0,
             "ticks": ""
            },
            "colorscale": [
             [
              0,
              "#0d0887"
             ],
             [
              0.1111111111111111,
              "#46039f"
             ],
             [
              0.2222222222222222,
              "#7201a8"
             ],
             [
              0.3333333333333333,
              "#9c179e"
             ],
             [
              0.4444444444444444,
              "#bd3786"
             ],
             [
              0.5555555555555556,
              "#d8576b"
             ],
             [
              0.6666666666666666,
              "#ed7953"
             ],
             [
              0.7777777777777778,
              "#fb9f3a"
             ],
             [
              0.8888888888888888,
              "#fdca26"
             ],
             [
              1,
              "#f0f921"
             ]
            ],
            "type": "histogram2d"
           }
          ],
          "histogram2dcontour": [
           {
            "colorbar": {
             "outlinewidth": 0,
             "ticks": ""
            },
            "colorscale": [
             [
              0,
              "#0d0887"
             ],
             [
              0.1111111111111111,
              "#46039f"
             ],
             [
              0.2222222222222222,
              "#7201a8"
             ],
             [
              0.3333333333333333,
              "#9c179e"
             ],
             [
              0.4444444444444444,
              "#bd3786"
             ],
             [
              0.5555555555555556,
              "#d8576b"
             ],
             [
              0.6666666666666666,
              "#ed7953"
             ],
             [
              0.7777777777777778,
              "#fb9f3a"
             ],
             [
              0.8888888888888888,
              "#fdca26"
             ],
             [
              1,
              "#f0f921"
             ]
            ],
            "type": "histogram2dcontour"
           }
          ],
          "mesh3d": [
           {
            "colorbar": {
             "outlinewidth": 0,
             "ticks": ""
            },
            "type": "mesh3d"
           }
          ],
          "parcoords": [
           {
            "line": {
             "colorbar": {
              "outlinewidth": 0,
              "ticks": ""
             }
            },
            "type": "parcoords"
           }
          ],
          "pie": [
           {
            "automargin": true,
            "type": "pie"
           }
          ],
          "scatter": [
           {
            "marker": {
             "colorbar": {
              "outlinewidth": 0,
              "ticks": ""
             }
            },
            "type": "scatter"
           }
          ],
          "scatter3d": [
           {
            "line": {
             "colorbar": {
              "outlinewidth": 0,
              "ticks": ""
             }
            },
            "marker": {
             "colorbar": {
              "outlinewidth": 0,
              "ticks": ""
             }
            },
            "type": "scatter3d"
           }
          ],
          "scattercarpet": [
           {
            "marker": {
             "colorbar": {
              "outlinewidth": 0,
              "ticks": ""
             }
            },
            "type": "scattercarpet"
           }
          ],
          "scattergeo": [
           {
            "marker": {
             "colorbar": {
              "outlinewidth": 0,
              "ticks": ""
             }
            },
            "type": "scattergeo"
           }
          ],
          "scattergl": [
           {
            "marker": {
             "colorbar": {
              "outlinewidth": 0,
              "ticks": ""
             }
            },
            "type": "scattergl"
           }
          ],
          "scattermapbox": [
           {
            "marker": {
             "colorbar": {
              "outlinewidth": 0,
              "ticks": ""
             }
            },
            "type": "scattermapbox"
           }
          ],
          "scatterpolar": [
           {
            "marker": {
             "colorbar": {
              "outlinewidth": 0,
              "ticks": ""
             }
            },
            "type": "scatterpolar"
           }
          ],
          "scatterpolargl": [
           {
            "marker": {
             "colorbar": {
              "outlinewidth": 0,
              "ticks": ""
             }
            },
            "type": "scatterpolargl"
           }
          ],
          "scatterternary": [
           {
            "marker": {
             "colorbar": {
              "outlinewidth": 0,
              "ticks": ""
             }
            },
            "type": "scatterternary"
           }
          ],
          "surface": [
           {
            "colorbar": {
             "outlinewidth": 0,
             "ticks": ""
            },
            "colorscale": [
             [
              0,
              "#0d0887"
             ],
             [
              0.1111111111111111,
              "#46039f"
             ],
             [
              0.2222222222222222,
              "#7201a8"
             ],
             [
              0.3333333333333333,
              "#9c179e"
             ],
             [
              0.4444444444444444,
              "#bd3786"
             ],
             [
              0.5555555555555556,
              "#d8576b"
             ],
             [
              0.6666666666666666,
              "#ed7953"
             ],
             [
              0.7777777777777778,
              "#fb9f3a"
             ],
             [
              0.8888888888888888,
              "#fdca26"
             ],
             [
              1,
              "#f0f921"
             ]
            ],
            "type": "surface"
           }
          ],
          "table": [
           {
            "cells": {
             "fill": {
              "color": "#EBF0F8"
             },
             "line": {
              "color": "white"
             }
            },
            "header": {
             "fill": {
              "color": "#C8D4E3"
             },
             "line": {
              "color": "white"
             }
            },
            "type": "table"
           }
          ]
         },
         "layout": {
          "annotationdefaults": {
           "arrowcolor": "#2a3f5f",
           "arrowhead": 0,
           "arrowwidth": 1
          },
          "coloraxis": {
           "colorbar": {
            "outlinewidth": 0,
            "ticks": ""
           }
          },
          "colorscale": {
           "diverging": [
            [
             0,
             "#8e0152"
            ],
            [
             0.1,
             "#c51b7d"
            ],
            [
             0.2,
             "#de77ae"
            ],
            [
             0.3,
             "#f1b6da"
            ],
            [
             0.4,
             "#fde0ef"
            ],
            [
             0.5,
             "#f7f7f7"
            ],
            [
             0.6,
             "#e6f5d0"
            ],
            [
             0.7,
             "#b8e186"
            ],
            [
             0.8,
             "#7fbc41"
            ],
            [
             0.9,
             "#4d9221"
            ],
            [
             1,
             "#276419"
            ]
           ],
           "sequential": [
            [
             0,
             "#0d0887"
            ],
            [
             0.1111111111111111,
             "#46039f"
            ],
            [
             0.2222222222222222,
             "#7201a8"
            ],
            [
             0.3333333333333333,
             "#9c179e"
            ],
            [
             0.4444444444444444,
             "#bd3786"
            ],
            [
             0.5555555555555556,
             "#d8576b"
            ],
            [
             0.6666666666666666,
             "#ed7953"
            ],
            [
             0.7777777777777778,
             "#fb9f3a"
            ],
            [
             0.8888888888888888,
             "#fdca26"
            ],
            [
             1,
             "#f0f921"
            ]
           ],
           "sequentialminus": [
            [
             0,
             "#0d0887"
            ],
            [
             0.1111111111111111,
             "#46039f"
            ],
            [
             0.2222222222222222,
             "#7201a8"
            ],
            [
             0.3333333333333333,
             "#9c179e"
            ],
            [
             0.4444444444444444,
             "#bd3786"
            ],
            [
             0.5555555555555556,
             "#d8576b"
            ],
            [
             0.6666666666666666,
             "#ed7953"
            ],
            [
             0.7777777777777778,
             "#fb9f3a"
            ],
            [
             0.8888888888888888,
             "#fdca26"
            ],
            [
             1,
             "#f0f921"
            ]
           ]
          },
          "colorway": [
           "#636efa",
           "#EF553B",
           "#00cc96",
           "#ab63fa",
           "#FFA15A",
           "#19d3f3",
           "#FF6692",
           "#B6E880",
           "#FF97FF",
           "#FECB52"
          ],
          "font": {
           "color": "#2a3f5f"
          },
          "geo": {
           "bgcolor": "white",
           "lakecolor": "white",
           "landcolor": "#E5ECF6",
           "showlakes": true,
           "showland": true,
           "subunitcolor": "white"
          },
          "hoverlabel": {
           "align": "left"
          },
          "hovermode": "closest",
          "mapbox": {
           "style": "light"
          },
          "paper_bgcolor": "white",
          "plot_bgcolor": "#E5ECF6",
          "polar": {
           "angularaxis": {
            "gridcolor": "white",
            "linecolor": "white",
            "ticks": ""
           },
           "bgcolor": "#E5ECF6",
           "radialaxis": {
            "gridcolor": "white",
            "linecolor": "white",
            "ticks": ""
           }
          },
          "scene": {
           "xaxis": {
            "backgroundcolor": "#E5ECF6",
            "gridcolor": "white",
            "gridwidth": 2,
            "linecolor": "white",
            "showbackground": true,
            "ticks": "",
            "zerolinecolor": "white"
           },
           "yaxis": {
            "backgroundcolor": "#E5ECF6",
            "gridcolor": "white",
            "gridwidth": 2,
            "linecolor": "white",
            "showbackground": true,
            "ticks": "",
            "zerolinecolor": "white"
           },
           "zaxis": {
            "backgroundcolor": "#E5ECF6",
            "gridcolor": "white",
            "gridwidth": 2,
            "linecolor": "white",
            "showbackground": true,
            "ticks": "",
            "zerolinecolor": "white"
           }
          },
          "shapedefaults": {
           "line": {
            "color": "#2a3f5f"
           }
          },
          "ternary": {
           "aaxis": {
            "gridcolor": "white",
            "linecolor": "white",
            "ticks": ""
           },
           "baxis": {
            "gridcolor": "white",
            "linecolor": "white",
            "ticks": ""
           },
           "bgcolor": "#E5ECF6",
           "caxis": {
            "gridcolor": "white",
            "linecolor": "white",
            "ticks": ""
           }
          },
          "title": {
           "x": 0.05
          },
          "xaxis": {
           "automargin": true,
           "gridcolor": "white",
           "linecolor": "white",
           "ticks": "",
           "title": {
            "standoff": 15
           },
           "zerolinecolor": "white",
           "zerolinewidth": 2
          },
          "yaxis": {
           "automargin": true,
           "gridcolor": "white",
           "linecolor": "white",
           "ticks": "",
           "title": {
            "standoff": 15
           },
           "zerolinecolor": "white",
           "zerolinewidth": 2
          }
         }
        },
        "width": 500,
        "xaxis": {
         "dtick": 100,
         "gridcolor": "rgb(245, 242, 240)",
         "linecolor": "black",
         "range": [
          0,
          1800
         ],
         "tickmode": "linear",
         "title": {
          "text": "Time (days)"
         },
         "type": "linear"
        },
        "yaxis": {
         "dtick": 0.1,
         "gridcolor": "rgb(245, 242, 240)",
         "linecolor": "black",
         "range": [
          0,
          1
         ],
         "tickmode": "linear",
         "title": {
          "text": "S(t)"
         }
        }
       }
      },
      "image/png": "[encoded data removed]",
      "text/html": [
       "<div>                            <div id=\"09a17c1c-4aba-4361-a227-6efad50ea22f\" class=\"plotly-graph-div\" style=\"height:500px; width:500px;\"></div>            <script type=\"text/javascript\">                require([\"plotly\"], function(Plotly) {                    window.PLOTLYENV=window.PLOTLYENV || {};                                    if (document.getElementById(\"09a17c1c-4aba-4361-a227-6efad50ea22f\")) {                    Plotly.newPlot(                        \"09a17c1c-4aba-4361-a227-6efad50ea22f\",                        [{\"line\": {\"color\": \"rgb(103,0,31)\", \"width\": 1.5}, \"mode\": \"markers\", \"name\": \"0 days\", \"type\": \"scatter\", \"x\": [0.0, 66.0, 141.0, 208.0, 292.0, 363.0, 449.0, 592.0, 829.0, 1785.0], \"y\": [null, null, null, null, null, null, null, null, null, null]}, {\"line\": {\"color\": \"rgb(178,24,43)\", \"width\": 1.5}, \"mode\": \"markers\", \"name\": \"66 days\", \"type\": \"scatter\", \"x\": [0.0, 66.0, 141.0, 208.0, 292.0, 363.0, 449.0, 592.0, 829.0, 1785.0], \"y\": [0.989159882068634, 0.8528707027435303, 0.7164186835289001, 0.6057114601135254, 0.4778578281402588, 0.3581249713897705, 0.2761897146701813, 0.17576642334461212, 0.10427485406398773, 0.006060521584004164]}, {\"line\": {\"color\": \"rgb(214,96,77)\", \"width\": 1.5}, \"mode\": \"markers\", \"name\": \"141 days\", \"type\": \"scatter\", \"x\": [0.0, 66.0, 141.0, 208.0, 292.0, 363.0, 449.0, 592.0, 829.0, 1785.0], \"y\": [0.9891161322593689, 0.8557180166244507, 0.7219880223274231, 0.6101451516151428, 0.4864978790283203, 0.3748666048049927, 0.28375595808029175, 0.18981362879276276, 0.11541632562875748, 0.006253170780837536]}, {\"line\": {\"color\": \"rgb(244,165,130)\", \"width\": 1.5}, \"mode\": \"markers\", \"name\": \"208 days\", \"type\": \"scatter\", \"x\": [0.0, 66.0, 141.0, 208.0, 292.0, 363.0, 449.0, 592.0, 829.0, 1785.0], \"y\": [0.9896124005317688, 0.8609512448310852, 0.6938270926475525, 0.5824856758117676, 0.46146127581596375, 0.35225939750671387, 0.27013519406318665, 0.18018591403961182, 0.11142051964998245, 0.006018757354468107]}, {\"line\": {\"color\": \"rgb(253,219,199)\", \"width\": 1.5}, \"mode\": \"markers\", \"name\": \"292 days\", \"type\": \"scatter\", \"x\": [0.0, 66.0, 141.0, 208.0, 292.0, 363.0, 449.0, 592.0, 829.0, 1785.0], \"y\": [0.9900639057159424, 0.878125786781311, 0.7594301700592041, 0.6600151062011719, 0.5433449149131775, 0.42394039034843445, 0.3233492374420166, 0.219022735953331, 0.137936532497406, 0.005818502511829138]}, {\"line\": {\"color\": \"rgb(209,229,240)\", \"width\": 1.5}, \"mode\": \"markers\", \"name\": \"363 days\", \"type\": \"scatter\", \"x\": [0.0, 66.0, 141.0, 208.0, 292.0, 363.0, 449.0, 592.0, 829.0, 1785.0], \"y\": [0.991305947303772, 0.9171699285507202, 0.8381041288375854, 0.7477606534957886, 0.6609292030334473, 0.5334463715553284, 0.41559264063835144, 0.31105199456214905, 0.21118856966495514, 0.005294698290526867]}, {\"line\": {\"color\": \"rgb(146,197,222)\", \"width\": 1.5}, \"mode\": \"markers\", \"name\": \"449 days\", \"type\": \"scatter\", \"x\": [0.0, 66.0, 141.0, 208.0, 292.0, 363.0, 449.0, 592.0, 829.0, 1785.0], \"y\": [0.9905750155448914, 0.8938601016998291, 0.7975311875343323, 0.7035284042358398, 0.5955786108970642, 0.47474467754364014, 0.3685433566570282, 0.2570890188217163, 0.16667820513248444, 0.005766943097114563]}, {\"line\": {\"color\": \"rgb(67,147,195)\", \"width\": 1.5}, \"mode\": \"markers\", \"name\": \"592 days\", \"type\": \"scatter\", \"x\": [0.0, 66.0, 141.0, 208.0, 292.0, 363.0, 449.0, 592.0, 829.0, 1785.0], \"y\": [0.9929242730140686, 0.943523108959198, 0.8837410807609558, 0.7872095108032227, 0.7174338698387146, 0.5889725089073181, 0.47063857316970825, 0.3557540476322174, 0.26044946908950806, 0.004633333534002304]}, {\"line\": {\"color\": \"rgb(33,102,172)\", \"width\": 1.5}, \"mode\": \"markers\", \"name\": \"829 days\", \"type\": \"scatter\", \"x\": [0.0, 66.0, 141.0, 208.0, 292.0, 363.0, 449.0, 592.0, 829.0, 1785.0], \"y\": [0.9905351996421814, 0.8987590074539185, 0.7820705771446228, 0.6748942732810974, 0.5694698095321655, 0.44655242562294006, 0.337588906288147, 0.2316104620695114, 0.14867931604385376, 0.005886836908757687]}],                        {\"autosize\": false, \"height\": 500, \"legend\": {\"x\": 0.99, \"xanchor\": \"right\", \"y\": 0.99, \"yanchor\": \"top\"}, \"plot_bgcolor\": \"rgb(252, 253, 255)\", \"showlegend\": true, \"template\": {\"data\": {\"bar\": [{\"error_x\": {\"color\": \"#2a3f5f\"}, \"error_y\": {\"color\": \"#2a3f5f\"}, \"marker\": {\"line\": {\"color\": \"#E5ECF6\", \"width\": 0.5}}, \"type\": \"bar\"}], \"barpolar\": [{\"marker\": {\"line\": {\"color\": \"#E5ECF6\", \"width\": 0.5}}, \"type\": \"barpolar\"}], \"carpet\": [{\"aaxis\": {\"endlinecolor\": \"#2a3f5f\", \"gridcolor\": \"white\", \"linecolor\": \"white\", \"minorgridcolor\": \"white\", \"startlinecolor\": \"#2a3f5f\"}, \"baxis\": {\"endlinecolor\": \"#2a3f5f\", \"gridcolor\": \"white\", \"linecolor\": \"white\", \"minorgridcolor\": \"white\", \"startlinecolor\": \"#2a3f5f\"}, \"type\": \"carpet\"}], \"choropleth\": [{\"colorbar\": {\"outlinewidth\": 0, \"ticks\": \"\"}, \"type\": \"choropleth\"}], \"contour\": [{\"colorbar\": {\"outlinewidth\": 0, \"ticks\": \"\"}, \"colorscale\": [[0.0, \"#0d0887\"], [0.1111111111111111, \"#46039f\"], [0.2222222222222222, \"#7201a8\"], [0.3333333333333333, \"#9c179e\"], [0.4444444444444444, \"#bd3786\"], [0.5555555555555556, \"#d8576b\"], [0.6666666666666666, \"#ed7953\"], [0.7777777777777778, \"#fb9f3a\"], [0.8888888888888888, \"#fdca26\"], [1.0, \"#f0f921\"]], \"type\": \"contour\"}], \"contourcarpet\": [{\"colorbar\": {\"outlinewidth\": 0, \"ticks\": \"\"}, \"type\": \"contourcarpet\"}], \"heatmap\": [{\"colorbar\": {\"outlinewidth\": 0, \"ticks\": \"\"}, \"colorscale\": [[0.0, \"#0d0887\"], [0.1111111111111111, \"#46039f\"], [0.2222222222222222, \"#7201a8\"], [0.3333333333333333, \"#9c179e\"], [0.4444444444444444, \"#bd3786\"], [0.5555555555555556, \"#d8576b\"], [0.6666666666666666, \"#ed7953\"], [0.7777777777777778, \"#fb9f3a\"], [0.8888888888888888, \"#fdca26\"], [1.0, \"#f0f921\"]], \"type\": \"heatmap\"}], \"heatmapgl\": [{\"colorbar\": {\"outlinewidth\": 0, \"ticks\": \"\"}, \"colorscale\": [[0.0, \"#0d0887\"], [0.1111111111111111, \"#46039f\"], [0.2222222222222222, \"#7201a8\"], [0.3333333333333333, \"#9c179e\"], [0.4444444444444444, \"#bd3786\"], [0.5555555555555556, \"#d8576b\"], [0.6666666666666666, \"#ed7953\"], [0.7777777777777778, \"#fb9f3a\"], [0.8888888888888888, \"#fdca26\"], [1.0, \"#f0f921\"]], \"type\": \"heatmapgl\"}], \"histogram\": [{\"marker\": {\"colorbar\": {\"outlinewidth\": 0, \"ticks\": \"\"}}, \"type\": \"histogram\"}], \"histogram2d\": [{\"colorbar\": {\"outlinewidth\": 0, \"ticks\": \"\"}, \"colorscale\": [[0.0, \"#0d0887\"], [0.1111111111111111, \"#46039f\"], [0.2222222222222222, \"#7201a8\"], [0.3333333333333333, \"#9c179e\"], [0.4444444444444444, \"#bd3786\"], [0.5555555555555556, \"#d8576b\"], [0.6666666666666666, \"#ed7953\"], [0.7777777777777778, \"#fb9f3a\"], [0.8888888888888888, \"#fdca26\"], [1.0, \"#f0f921\"]], \"type\": \"histogram2d\"}], \"histogram2dcontour\": [{\"colorbar\": {\"outlinewidth\": 0, \"ticks\": \"\"}, \"colorscale\": [[0.0, \"#0d0887\"], [0.1111111111111111, \"#46039f\"], [0.2222222222222222, \"#7201a8\"], [0.3333333333333333, \"#9c179e\"], [0.4444444444444444, \"#bd3786\"], [0.5555555555555556, \"#d8576b\"], [0.6666666666666666, \"#ed7953\"], [0.7777777777777778, \"#fb9f3a\"], [0.8888888888888888, \"#fdca26\"], [1.0, \"#f0f921\"]], \"type\": \"histogram2dcontour\"}], \"mesh3d\": [{\"colorbar\": {\"outlinewidth\": 0, \"ticks\": \"\"}, \"type\": \"mesh3d\"}], \"parcoords\": [{\"line\": {\"colorbar\": {\"outlinewidth\": 0, \"ticks\": \"\"}}, \"type\": \"parcoords\"}], \"pie\": [{\"automargin\": true, \"type\": \"pie\"}], \"scatter\": [{\"marker\": {\"colorbar\": {\"outlinewidth\": 0, \"ticks\": \"\"}}, \"type\": \"scatter\"}], \"scatter3d\": [{\"line\": {\"colorbar\": {\"outlinewidth\": 0, \"ticks\": \"\"}}, \"marker\": {\"colorbar\": {\"outlinewidth\": 0, \"ticks\": \"\"}}, \"type\": \"scatter3d\"}], \"scattercarpet\": [{\"marker\": {\"colorbar\": {\"outlinewidth\": 0, \"ticks\": \"\"}}, \"type\": \"scattercarpet\"}], \"scattergeo\": [{\"marker\": {\"colorbar\": {\"outlinewidth\": 0, \"ticks\": \"\"}}, \"type\": \"scattergeo\"}], \"scattergl\": [{\"marker\": {\"colorbar\": {\"outlinewidth\": 0, \"ticks\": \"\"}}, \"type\": \"scattergl\"}], \"scattermapbox\": [{\"marker\": {\"colorbar\": {\"outlinewidth\": 0, \"ticks\": \"\"}}, \"type\": \"scattermapbox\"}], \"scatterpolar\": [{\"marker\": {\"colorbar\": {\"outlinewidth\": 0, \"ticks\": \"\"}}, \"type\": \"scatterpolar\"}], \"scatterpolargl\": [{\"marker\": {\"colorbar\": {\"outlinewidth\": 0, \"ticks\": \"\"}}, \"type\": \"scatterpolargl\"}], \"scatterternary\": [{\"marker\": {\"colorbar\": {\"outlinewidth\": 0, \"ticks\": \"\"}}, \"type\": \"scatterternary\"}], \"surface\": [{\"colorbar\": {\"outlinewidth\": 0, \"ticks\": \"\"}, \"colorscale\": [[0.0, \"#0d0887\"], [0.1111111111111111, \"#46039f\"], [0.2222222222222222, \"#7201a8\"], [0.3333333333333333, \"#9c179e\"], [0.4444444444444444, \"#bd3786\"], [0.5555555555555556, \"#d8576b\"], [0.6666666666666666, \"#ed7953\"], [0.7777777777777778, \"#fb9f3a\"], [0.8888888888888888, \"#fdca26\"], [1.0, \"#f0f921\"]], \"type\": \"surface\"}], \"table\": [{\"cells\": {\"fill\": {\"color\": \"#EBF0F8\"}, \"line\": {\"color\": \"white\"}}, \"header\": {\"fill\": {\"color\": \"#C8D4E3\"}, \"line\": {\"color\": \"white\"}}, \"type\": \"table\"}]}, \"layout\": {\"annotationdefaults\": {\"arrowcolor\": \"#2a3f5f\", \"arrowhead\": 0, \"arrowwidth\": 1}, \"coloraxis\": {\"colorbar\": {\"outlinewidth\": 0, \"ticks\": \"\"}}, \"colorscale\": {\"diverging\": [[0, \"#8e0152\"], [0.1, \"#c51b7d\"], [0.2, \"#de77ae\"], [0.3, \"#f1b6da\"], [0.4, \"#fde0ef\"], [0.5, \"#f7f7f7\"], [0.6, \"#e6f5d0\"], [0.7, \"#b8e186\"], [0.8, \"#7fbc41\"], [0.9, \"#4d9221\"], [1, \"#276419\"]], \"sequential\": [[0.0, \"#0d0887\"], [0.1111111111111111, \"#46039f\"], [0.2222222222222222, \"#7201a8\"], [0.3333333333333333, \"#9c179e\"], [0.4444444444444444, \"#bd3786\"], [0.5555555555555556, \"#d8576b\"], [0.6666666666666666, \"#ed7953\"], [0.7777777777777778, \"#fb9f3a\"], [0.8888888888888888, \"#fdca26\"], [1.0, \"#f0f921\"]], \"sequentialminus\": [[0.0, \"#0d0887\"], [0.1111111111111111, \"#46039f\"], [0.2222222222222222, \"#7201a8\"], [0.3333333333333333, \"#9c179e\"], [0.4444444444444444, \"#bd3786\"], [0.5555555555555556, \"#d8576b\"], [0.6666666666666666, \"#ed7953\"], [0.7777777777777778, \"#fb9f3a\"], [0.8888888888888888, \"#fdca26\"], [1.0, \"#f0f921\"]]}, \"colorway\": [\"#636efa\", \"#EF553B\", \"#00cc96\", \"#ab63fa\", \"#FFA15A\", \"#19d3f3\", \"#FF6692\", \"#B6E880\", \"#FF97FF\", \"#FECB52\"], \"font\": {\"color\": \"#2a3f5f\"}, \"geo\": {\"bgcolor\": \"white\", \"lakecolor\": \"white\", \"landcolor\": \"#E5ECF6\", \"showlakes\": true, \"showland\": true, \"subunitcolor\": \"white\"}, \"hoverlabel\": {\"align\": \"left\"}, \"hovermode\": \"closest\", \"mapbox\": {\"style\": \"light\"}, \"paper_bgcolor\": \"white\", \"plot_bgcolor\": \"#E5ECF6\", \"polar\": {\"angularaxis\": {\"gridcolor\": \"white\", \"linecolor\": \"white\", \"ticks\": \"\"}, \"bgcolor\": \"#E5ECF6\", \"radialaxis\": {\"gridcolor\": \"white\", \"linecolor\": \"white\", \"ticks\": \"\"}}, \"scene\": {\"xaxis\": {\"backgroundcolor\": \"#E5ECF6\", \"gridcolor\": \"white\", \"gridwidth\": 2, \"linecolor\": \"white\", \"showbackground\": true, \"ticks\": \"\", \"zerolinecolor\": \"white\"}, \"yaxis\": {\"backgroundcolor\": \"#E5ECF6\", \"gridcolor\": \"white\", \"gridwidth\": 2, \"linecolor\": \"white\", \"showbackground\": true, \"ticks\": \"\", \"zerolinecolor\": \"white\"}, \"zaxis\": {\"backgroundcolor\": \"#E5ECF6\", \"gridcolor\": \"white\", \"gridwidth\": 2, \"linecolor\": \"white\", \"showbackground\": true, \"ticks\": \"\", \"zerolinecolor\": \"white\"}}, \"shapedefaults\": {\"line\": {\"color\": \"#2a3f5f\"}}, \"ternary\": {\"aaxis\": {\"gridcolor\": \"white\", \"linecolor\": \"white\", \"ticks\": \"\"}, \"baxis\": {\"gridcolor\": \"white\", \"linecolor\": \"white\", \"ticks\": \"\"}, \"bgcolor\": \"#E5ECF6\", \"caxis\": {\"gridcolor\": \"white\", \"linecolor\": \"white\", \"ticks\": \"\"}}, \"title\": {\"x\": 0.05}, \"xaxis\": {\"automargin\": true, \"gridcolor\": \"white\", \"linecolor\": \"white\", \"ticks\": \"\", \"title\": {\"standoff\": 15}, \"zerolinecolor\": \"white\", \"zerolinewidth\": 2}, \"yaxis\": {\"automargin\": true, \"gridcolor\": \"white\", \"linecolor\": \"white\", \"ticks\": \"\", \"title\": {\"standoff\": 15}, \"zerolinecolor\": \"white\", \"zerolinewidth\": 2}}}, \"width\": 500, \"xaxis\": {\"dtick\": 100, \"gridcolor\": \"rgb(245, 242, 240)\", \"linecolor\": \"black\", \"range\": [0, 1800], \"tickmode\": \"linear\", \"title\": {\"text\": \"Time (days)\"}}, \"yaxis\": {\"dtick\": 0.1, \"gridcolor\": \"rgb(245, 242, 240)\", \"linecolor\": \"black\", \"range\": [0, 1], \"tickmode\": \"linear\", \"title\": {\"text\": \"S(t)\"}}},                        {\"responsive\": true}                    ).then(function(){\n",
       "                            \n",
       "var gd = document.getElementById('09a17c1c-4aba-4361-a227-6efad50ea22f');\n",
       "var x = new MutationObserver(function (mutations, observer) {{\n",
       "        var display = window.getComputedStyle(gd).display;\n",
       "        if (!display || display === 'none') {{\n",
       "            console.log([gd, 'removed!']);\n",
       "            Plotly.purge(gd);\n",
       "            observer.disconnect();\n",
       "        }}\n",
       "}});\n",
       "\n",
       "// Listen for the removal of the full notebook cells\n",
       "var notebookContainer = gd.closest('#notebook-container');\n",
       "if (notebookContainer) {{\n",
       "    x.observe(notebookContainer, {childList: true});\n",
       "}}\n",
       "\n",
       "// Listen for the clearing of the current output cell\n",
       "var outputEl = gd.closest('.output');\n",
       "if (outputEl) {{\n",
       "    x.observe(outputEl, {childList: true});\n",
       "}}\n",
       "\n",
       "                        })                };                });            </script>        </div>"
      ]
     },
     "metadata": {},
     "output_type": "display_data"
    }
   ],
   "source": [
    "fig"
   ]
  },
  {
   "cell_type": "markdown",
   "metadata": {},
   "source": [
    "# Evaluate"
   ]
  },
  {
   "cell_type": "markdown",
   "metadata": {},
   "source": [
    "## Discrete"
   ]
  },
  {
   "cell_type": "code",
   "execution_count": 34,
   "metadata": {},
   "outputs": [
    {
     "name": "stdout",
     "output_type": "stream",
     "text": [
      "Test Size: 204\n"
     ]
    }
   ],
   "source": [
    "survs = dataset_2(dataset_filtered, phase='test', targets=True)[0][2]"
   ]
  },
  {
   "cell_type": "code",
   "execution_count": 82,
   "metadata": {},
   "outputs": [],
   "source": [
    "ev = EvalSurv(surv_df, survs, events, 'km')"
   ]
  },
  {
   "cell_type": "code",
   "execution_count": 86,
   "metadata": {},
   "outputs": [],
   "source": [
    "concordance = ev.concordance_td('antolini')\n",
    "time_grid = np.linspace(0, survs.max())\n",
    "# time_grid = np.linspace(0, 829)\n",
    "\n",
    "integrated_brier_score = ev.integrated_brier_score(time_grid)"
   ]
  },
  {
   "cell_type": "code",
   "execution_count": null,
   "metadata": {},
   "outputs": [],
   "source": [
    "integrated_brier_score"
   ]
  },
  {
   "cell_type": "code",
   "execution_count": null,
   "metadata": {},
   "outputs": [],
   "source": [
    "concordance"
   ]
  },
  {
   "cell_type": "code",
   "execution_count": 57,
   "metadata": {},
   "outputs": [],
   "source": [
    "brier_score = ev.brier_score(time_grid)"
   ]
  },
  {
   "cell_type": "code",
   "execution_count": null,
   "metadata": {},
   "outputs": [],
   "source": [
    "ev.brier_score(time_grid)"
   ]
  }
 ],
 "metadata": {
  "kernelspec": {
   "display_name": "Python 3",
   "language": "python",
   "name": "python3"
  },
  "language_info": {
   "codemirror_mode": {
    "name": "ipython",
    "version": 3
   },
   "file_extension": ".py",
   "mimetype": "text/x-python",
   "name": "python",
   "nbconvert_exporter": "python",
   "pygments_lexer": "ipython3",
   "version": "3.7.6"
  }
 },
 "nbformat": 4,
 "nbformat_minor": 4
}
