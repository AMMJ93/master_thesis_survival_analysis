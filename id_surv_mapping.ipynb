{
 "cells": [
  {
   "cell_type": "markdown",
   "metadata": {},
   "source": [
    "# **Maps patient ID to survival time (days), event (death yes/no) and discrete time group.**"
   ]
  },
  {
   "cell_type": "markdown",
   "metadata": {},
   "source": [
    "# Imports"
   ]
  },
  {
   "cell_type": "code",
   "execution_count": 1,
   "metadata": {},
   "outputs": [],
   "source": [
    "import sys\n",
    "sys.path.insert(0, 'modules/discrete')"
   ]
  },
  {
   "cell_type": "code",
   "execution_count": 2,
   "metadata": {},
   "outputs": [],
   "source": [
    "import pandas as pd\n",
    "import pickle\n",
    "import json\n",
    "import transform"
   ]
  },
  {
   "cell_type": "markdown",
   "metadata": {},
   "source": [
    "# Paths"
   ]
  },
  {
   "cell_type": "code",
   "execution_count": 3,
   "metadata": {},
   "outputs": [],
   "source": [
    "scan_dataset_path = './data/all_scans.csv'\n",
    "subjects_dataset_path = './data/all_subjects_cleaned.csv'\n",
    "brats_survival_path = './data/brats_training_2020/survival_info.csv'"
   ]
  },
  {
   "cell_type": "markdown",
   "metadata": {},
   "source": [
    "# Data"
   ]
  },
  {
   "cell_type": "markdown",
   "metadata": {},
   "source": [
    "## Brats"
   ]
  },
  {
   "cell_type": "code",
   "execution_count": 4,
   "metadata": {},
   "outputs": [],
   "source": [
    "brats_surv = pd.read_csv('./data/brats_training_2020/survival_info.csv')"
   ]
  },
  {
   "cell_type": "code",
   "execution_count": 5,
   "metadata": {},
   "outputs": [],
   "source": [
    "brats_surv['DeathObserved'] = [1] * len(brats_surv['Brats20ID'].tolist())"
   ]
  },
  {
   "cell_type": "code",
   "execution_count": 6,
   "metadata": {},
   "outputs": [],
   "source": [
    "brats_surv = brats_surv.rename(columns={\"Survival_days\": \"surv\"})"
   ]
  },
  {
   "cell_type": "code",
   "execution_count": 7,
   "metadata": {},
   "outputs": [],
   "source": [
    "brats_surv.loc[brats_surv['surv'].str.contains('ALIVE'), 'DeathObserved'] = 0\n",
    "brats_surv.loc[brats_surv['surv'].str.contains('ALIVE'), 'surv'] = 361"
   ]
  },
  {
   "cell_type": "code",
   "execution_count": 8,
   "metadata": {},
   "outputs": [],
   "source": [
    "brats_surv.index = brats_surv[\"Brats20ID\"]\n",
    "brats_surv = brats_surv.drop(['Brats20ID', 'Age', 'Extent_of_Resection'], axis=1)"
   ]
  },
  {
   "cell_type": "code",
   "execution_count": 9,
   "metadata": {},
   "outputs": [
    {
     "data": {
      "text/html": [
       "<div>\n",
       "<style scoped>\n",
       "    .dataframe tbody tr th:only-of-type {\n",
       "        vertical-align: middle;\n",
       "    }\n",
       "\n",
       "    .dataframe tbody tr th {\n",
       "        vertical-align: top;\n",
       "    }\n",
       "\n",
       "    .dataframe thead th {\n",
       "        text-align: right;\n",
       "    }\n",
       "</style>\n",
       "<table border=\"1\" class=\"dataframe\">\n",
       "  <thead>\n",
       "    <tr style=\"text-align: right;\">\n",
       "      <th></th>\n",
       "      <th>surv</th>\n",
       "      <th>DeathObserved</th>\n",
       "    </tr>\n",
       "    <tr>\n",
       "      <th>Brats20ID</th>\n",
       "      <th></th>\n",
       "      <th></th>\n",
       "    </tr>\n",
       "  </thead>\n",
       "  <tbody>\n",
       "    <tr>\n",
       "      <th>BraTS20_Training_001</th>\n",
       "      <td>289</td>\n",
       "      <td>1</td>\n",
       "    </tr>\n",
       "  </tbody>\n",
       "</table>\n",
       "</div>"
      ],
      "text/plain": [
       "                     surv  DeathObserved\n",
       "Brats20ID                               \n",
       "BraTS20_Training_001  289              1"
      ]
     },
     "execution_count": 9,
     "metadata": {},
     "output_type": "execute_result"
    }
   ],
   "source": [
    "brats_surv.head(1)"
   ]
  },
  {
   "cell_type": "markdown",
   "metadata": {},
   "source": [
    "## Picture"
   ]
  },
  {
   "cell_type": "code",
   "execution_count": 10,
   "metadata": {},
   "outputs": [
    {
     "name": "stderr",
     "output_type": "stream",
     "text": [
      "/opt/conda/lib/python3.7/site-packages/IPython/core/interactiveshell.py:3063: DtypeWarning: Columns (24) have mixed types.Specify dtype option on import or set low_memory=False.\n",
      "  interactivity=interactivity, compiler=compiler, result=result)\n"
     ]
    }
   ],
   "source": [
    "scan_df = pd.read_csv(scan_dataset_path)\n",
    "scan_df = scan_df.drop('Unnamed: 0', axis=1)\n",
    "subjects_df = pd.read_csv(subjects_dataset_path)"
   ]
  },
  {
   "cell_type": "code",
   "execution_count": 13,
   "metadata": {},
   "outputs": [
    {
     "data": {
      "text/plain": [
       "Index(['age', 'ENTvolML', 'ENTside', 'GenderV2', 'KPSpre', 'Chemo',\n",
       "       'SurgeryExtend', 'surv', 'DeathObserved', 'ID'],\n",
       "      dtype='object')"
      ]
     },
     "execution_count": 13,
     "metadata": {},
     "output_type": "execute_result"
    }
   ],
   "source": [
    "subjects_df.columns"
   ]
  },
  {
   "cell_type": "code",
   "execution_count": 14,
   "metadata": {},
   "outputs": [],
   "source": [
    "filter_ids = ['BMIAXNAT_S10281', 'BMIAXNAT_S06575']"
   ]
  },
  {
   "cell_type": "code",
   "execution_count": 15,
   "metadata": {},
   "outputs": [],
   "source": [
    "subjects_df = subjects_df.loc[:, ['ID', 'surv', 'DeathObserved']]\n",
    "subjects_df = subjects_df.loc[~subjects_df['ID'].isin(filter_ids), :]"
   ]
  },
  {
   "cell_type": "code",
   "execution_count": 16,
   "metadata": {},
   "outputs": [],
   "source": [
    "with open('./data/pickles_jsons/ids_per_phase.pkl', 'rb') as file:\n",
    "    phase_id_dict = pickle.load(file)"
   ]
  },
  {
   "cell_type": "code",
   "execution_count": null,
   "metadata": {},
   "outputs": [],
   "source": [
    "df_train = subjects_df.loc[subjects_df['ID'].isin(phase_id_dict['train'])]\n",
    "sorterIndex_train = dict(zip(phase_id_dict['train'], range(len(phase_id_dict['train']))))\n",
    "df_train['rank'] = df_train['ID'].map(sorterIndex_train)\n",
    "df_train.sort_values(['rank'], ascending = [True], inplace = True)\n",
    "df_train.drop('rank', 1, inplace = True)\n",
    "\n",
    "df_test = subjects_df.loc[subjects_df['ID'].isin(phase_id_dict['test'])]\n",
    "sorterIndex_test = dict(zip(phase_id_dict['test'], range(len(phase_id_dict['test']))))\n",
    "df_test['rank'] = df_test['ID'].map(sorterIndex_test)\n",
    "df_test.sort_values(['rank'], ascending = [True], inplace = True)\n",
    "df_test.drop('rank', 1, inplace = True)\n",
    "\n",
    "df_val = subjects_df.loc[subjects_df['ID'].isin(phase_id_dict['val'])]\n",
    "sorterIndex_val = dict(zip(phase_id_dict['val'], range(len(phase_id_dict['val']))))\n",
    "df_val['rank'] = df_val['ID'].map(sorterIndex_val)\n",
    "df_val.sort_values(['rank'], ascending = [True], inplace = True)\n",
    "df_val.drop('rank', 1, inplace = True)"
   ]
  },
  {
   "cell_type": "code",
   "execution_count": 19,
   "metadata": {},
   "outputs": [],
   "source": [
    "df_train.index = df_train['ID']\n",
    "df_train = df_train.drop('ID', axis=1)\n",
    "df_test.index = df_test['ID']\n",
    "df_test = df_test.drop('ID', axis=1)\n",
    "df_val.index = df_val['ID']\n",
    "df_val = df_val.drop('ID', axis=1)"
   ]
  },
  {
   "cell_type": "markdown",
   "metadata": {},
   "source": [
    "## Cuts Picture"
   ]
  },
  {
   "cell_type": "code",
   "execution_count": 21,
   "metadata": {},
   "outputs": [],
   "source": [
    "scheme = 'quantiles'\n",
    "num_cuts = 10\n",
    "labtrans = transform.LabTransDiscreteTime(num_cuts, scheme)\n",
    "get_target = lambda df: (df['surv'].values, df['DeathObserved'].values)\n",
    "categories = labtrans.fit_transform(*get_target(df_train))[0]\n",
    "df_train['group'] = categories\n",
    "categories_test = labtrans.transform(*get_target(df_test))[0]\n",
    "df_test['group'] = categories_test\n",
    "categories_val = labtrans.transform(*get_target(df_val))[0]\n",
    "df_val['group'] = categories_val\n",
    "\n",
    "categories_brats = labtrans.transform(*get_target(brats_surv))[0]\n",
    "brats_surv['group'] = categories_brats"
   ]
  },
  {
   "cell_type": "code",
   "execution_count": 22,
   "metadata": {},
   "outputs": [
    {
     "data": {
      "text/plain": [
       "array([   0.,   66.,  141.,  208.,  292.,  363.,  449.,  592.,  829.,\n",
       "       1785.])"
      ]
     },
     "execution_count": 22,
     "metadata": {},
     "output_type": "execute_result"
    }
   ],
   "source": [
    "labtrans.cuts"
   ]
  },
  {
   "cell_type": "markdown",
   "metadata": {},
   "source": [
    "## Without BRATS"
   ]
  },
  {
   "cell_type": "code",
   "execution_count": 23,
   "metadata": {},
   "outputs": [],
   "source": [
    "subjects_df_final = pd.concat([df_train, df_test, df_val])"
   ]
  },
  {
   "cell_type": "code",
   "execution_count": 25,
   "metadata": {},
   "outputs": [],
   "source": [
    "subjects_surv_mapping = subjects_df_final.to_json()"
   ]
  },
  {
   "cell_type": "code",
   "execution_count": 41,
   "metadata": {},
   "outputs": [],
   "source": [
    "with open('./data/pickles_jsons/id_surv_mapping_10_groups.json', 'w') as f:\n",
    "    json.dump(subjects_surv_mapping, f)"
   ]
  },
  {
   "cell_type": "markdown",
   "metadata": {},
   "source": [
    "## With BRATS"
   ]
  },
  {
   "cell_type": "code",
   "execution_count": null,
   "metadata": {},
   "outputs": [],
   "source": [
    "subjects_df_final = pd.concat([df_train, df_test, df_val, brats_surv])"
   ]
  },
  {
   "cell_type": "code",
   "execution_count": null,
   "metadata": {},
   "outputs": [],
   "source": [
    "subjects_surv_mapping = subjects_df_final.to_json()"
   ]
  },
  {
   "cell_type": "code",
   "execution_count": 26,
   "metadata": {},
   "outputs": [],
   "source": [
    "with open('./data/pickles_jsons/id_surv_mapping_10_groups_brats.json', 'w') as f:\n",
    "    json.dump(subjects_surv_mapping, f)"
   ]
  },
  {
   "cell_type": "markdown",
   "metadata": {},
   "source": [
    "# Example"
   ]
  },
  {
   "cell_type": "code",
   "execution_count": 64,
   "metadata": {},
   "outputs": [],
   "source": [
    "with open('./data/pickles_jsons/id_surv_mapping.json') as f:\n",
    "    data = json.load(f)\n",
    "    data_dict = json.loads(data)"
   ]
  },
  {
   "cell_type": "code",
   "execution_count": 56,
   "metadata": {},
   "outputs": [
    {
     "data": {
      "text/plain": [
       "str"
      ]
     },
     "execution_count": 56,
     "metadata": {},
     "output_type": "execute_result"
    }
   ],
   "source": [
    "type(data)"
   ]
  }
 ],
 "metadata": {
  "kernelspec": {
   "display_name": "Python 3",
   "language": "python",
   "name": "python3"
  },
  "language_info": {
   "codemirror_mode": {
    "name": "ipython",
    "version": 3
   },
   "file_extension": ".py",
   "mimetype": "text/x-python",
   "name": "python",
   "nbconvert_exporter": "python",
   "pygments_lexer": "ipython3",
   "version": "3.7.6"
  }
 },
 "nbformat": 4,
 "nbformat_minor": 4
}
