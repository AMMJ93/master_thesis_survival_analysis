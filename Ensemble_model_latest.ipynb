{
 "cells": [
  {
   "cell_type": "code",
   "execution_count": 1,
   "metadata": {},
   "outputs": [],
   "source": [
    "import modules.ensemble_model as ensemble\n",
    "from pathlib import Path\n",
    "import numpy as np\n",
    "from modules.mapper import FileMapper as fm\n",
    "from modules.dataset import Dataset\n",
    "from modules.ensemble_dataset import EnsembleDataset\n",
    "from modules.ensemble_dataset_image_only import Dataset as dataset_2\n",
    "from torch.utils.data import DataLoader\n",
    "import torchtuples as tt\n",
    "from pycox.models import LogisticHazard\n",
    "import pickle\n",
    "import random\n",
    "from modules.utils import getPatientIdentifier, collate_fn, returnMontage, get_optimizer\n",
    "import sys\n",
    "import torch\n",
    "%load_ext autoreload\n",
    "%autoreload 2\n",
    "from torchtuples.base import Model\n",
    "from typing import Dict"
   ]
  },
  {
   "cell_type": "code",
   "execution_count": 2,
   "metadata": {},
   "outputs": [
    {
     "data": {
      "text/html": [
       "        <script type=\"text/javascript\">\n",
       "        window.PlotlyConfig = {MathJaxConfig: 'local'};\n",
       "        if (window.MathJax) {MathJax.Hub.Config({SVG: {font: \"STIX-Web\"}});}\n",
       "        if (typeof require !== 'undefined') {\n",
       "        require.undef(\"plotly\");\n",
       "        requirejs.config({\n",
       "            paths: {\n",
       "                'plotly': ['https://cdn.plot.ly/plotly-latest.min']\n",
       "            }\n",
       "        });\n",
       "        require(['plotly'], function(Plotly) {\n",
       "            window._Plotly = Plotly;\n",
       "        });\n",
       "        }\n",
       "        </script>\n",
       "        "
      ]
     },
     "metadata": {},
     "output_type": "display_data"
    }
   ],
   "source": [
    "import matplotlib.pyplot as plt\n",
    "from sklearn.preprocessing import StandardScaler\n",
    "from sklearn_pandas import DataFrameMapper\n",
    "import torch\n",
    "from pycox.datasets import support\n",
    "from pycox.preprocessing.feature_transforms import OrderedCategoricalLong\n",
    "from pycox.models import LogisticHazard\n",
    "from pycox.evaluation import EvalSurv\n",
    "import pandas as pd\n",
    "import plotly.graph_objs as go\n",
    "import plotly\n",
    "plotly.offline.init_notebook_mode(connected=True)"
   ]
  },
  {
   "cell_type": "code",
   "execution_count": 3,
   "metadata": {},
   "outputs": [],
   "source": [
    "import os\n",
    "import time\n",
    "from collections import OrderedDict, defaultdict\n",
    "import warnings\n",
    "import contextlib\n",
    "import torchtuples.callbacks as cb\n",
    "from torchtuples.optim import AdamW, OptimWrap\n",
    "from torchtuples.tupletree import tuplefy, TupleTree, make_dataloader\n",
    "from pycox.models.loss import NLLLogistiHazardLoss\n",
    "from pycox.models.loss import nll_logistic_hazard\n",
    "from torchtuples.utils import make_name_hash, array_or_tensor, is_data, is_dl\n",
    "from torch import Tensor\n",
    "from pycox import models\n",
    "from pycox.models.utils import pad_col, make_subgrid\n",
    "from pycox.preprocessing import label_transforms\n",
    "from pycox.models.interpolation import InterpolateLogisticHazard"
   ]
  },
  {
   "cell_type": "markdown",
   "metadata": {},
   "source": [
    "# Create MRI Dataset"
   ]
  },
  {
   "cell_type": "code",
   "execution_count": 4,
   "metadata": {},
   "outputs": [],
   "source": [
    "preop_patients = []\n",
    "for path in Path('./data/preoperative_zscore').glob('BMIAXNA*'):\n",
    "    preop_patients.append(path)"
   ]
  },
  {
   "cell_type": "code",
   "execution_count": 5,
   "metadata": {},
   "outputs": [],
   "source": [
    "id_mapping = './data/pickles_jsons/id_surv_mapping_10_groups.json'"
   ]
  },
  {
   "cell_type": "code",
   "execution_count": 6,
   "metadata": {},
   "outputs": [
    {
     "name": "stdout",
     "output_type": "stream",
     "text": [
      "Number of patients/folders: 1016\n"
     ]
    }
   ],
   "source": [
    "mapper_class = fm(preop_patients, id_mapping, normalized=True)\n",
    "dataset = mapper_class.generate_mapping()"
   ]
  },
  {
   "cell_type": "code",
   "execution_count": 7,
   "metadata": {},
   "outputs": [],
   "source": [
    "with open('./data/pickles_jsons/filter_ids_v2_all.pkl', 'rb') as file:\n",
    "    filter_ids = pickle.load(file)\n",
    "dataset_filtered = [entry for entry in dataset if entry['ENT'] is not None]\n",
    "dataset_filtered = [entry for entry in dataset_filtered if entry['id'] not in filter_ids]"
   ]
  },
  {
   "cell_type": "markdown",
   "metadata": {},
   "source": [
    "## Set Random seed and randomize dataset"
   ]
  },
  {
   "cell_type": "code",
   "execution_count": 8,
   "metadata": {},
   "outputs": [],
   "source": [
    "random.seed(4)\n",
    "random.shuffle(dataset_filtered)"
   ]
  },
  {
   "cell_type": "markdown",
   "metadata": {},
   "source": [
    "# Clinical Part"
   ]
  },
  {
   "cell_type": "markdown",
   "metadata": {},
   "source": [
    "# Logistic Hazard Model"
   ]
  },
  {
   "cell_type": "code",
   "execution_count": 9,
   "metadata": {},
   "outputs": [],
   "source": [
    "final_df = pd.read_csv('./clinical_model/final_preoperative_dataset_ids.csv')"
   ]
  },
  {
   "cell_type": "code",
   "execution_count": 10,
   "metadata": {},
   "outputs": [],
   "source": [
    "nn_dataset = final_df.loc[(final_df['KPSpre'].notnull()) \n",
    "                     & (final_df['ENTvolML'].notnull()) \n",
    "                     & (final_df['ENTside'].notnull())]"
   ]
  },
  {
   "cell_type": "code",
   "execution_count": 11,
   "metadata": {},
   "outputs": [],
   "source": [
    "with open('./data/pickles_jsons/filter_ids_v2_all.pkl', 'rb') as file:\n",
    "    filter_ids = pickle.load(file)"
   ]
  },
  {
   "cell_type": "code",
   "execution_count": 12,
   "metadata": {},
   "outputs": [
    {
     "data": {
      "text/plain": [
       "['BMIAXNAT_S10281', 'BMIAXNAT_S06575']"
      ]
     },
     "execution_count": 12,
     "metadata": {},
     "output_type": "execute_result"
    }
   ],
   "source": [
    "filter_ids"
   ]
  },
  {
   "cell_type": "code",
   "execution_count": 13,
   "metadata": {},
   "outputs": [],
   "source": [
    "nn_dataset = nn_dataset.loc[~nn_dataset['ID'].isin(filter_ids), :]"
   ]
  },
  {
   "cell_type": "code",
   "execution_count": 14,
   "metadata": {},
   "outputs": [
    {
     "name": "stdout",
     "output_type": "stream",
     "text": [
      "Total Patients: 1016\n"
     ]
    }
   ],
   "source": [
    "print(\"Total Patients: {}\".format(len(nn_dataset)))"
   ]
  },
  {
   "cell_type": "code",
   "execution_count": 16,
   "metadata": {},
   "outputs": [],
   "source": [
    "nn_dataset.loc[:, 'ENTside'] = nn_dataset['ENTside'].apply(lambda x: 1 if x == 'R' else 0)\n",
    "nn_dataset.loc[:, 'DeathObserved'] = nn_dataset['DeathObserved'].apply(lambda x: 1 if x is True else 0)\n",
    "nn_dataset.loc[:, 'Chemo'] = nn_dataset['Chemo'].apply(lambda x: 1 if x is True else 0)\n",
    "nn_dataset.loc[:, 'GenderV2'] = nn_dataset['GenderV2'].apply(lambda x: 1 if x == 'Female' else 0)"
   ]
  },
  {
   "cell_type": "code",
   "execution_count": 17,
   "metadata": {},
   "outputs": [],
   "source": [
    "with open('./data/pickles_jsons/ids_per_phase.pkl', 'rb') as file:\n",
    "    phase_id_dict = pickle.load(file)"
   ]
  },
  {
   "cell_type": "code",
   "execution_count": null,
   "metadata": {},
   "outputs": [],
   "source": [
    "df_train = nn_dataset.loc[nn_dataset['ID'].isin(phase_id_dict['train'])]\n",
    "sorterIndex_train = dict(zip(phase_id_dict['train'], range(len(phase_id_dict['train']))))\n",
    "df_train['rank'] = df_train['ID'].map(sorterIndex_train)\n",
    "df_train.sort_values(['rank'], ascending = [True], inplace = True)\n",
    "df_train.drop('rank', 1, inplace = True)\n",
    "\n",
    "df_test = nn_dataset.loc[nn_dataset['ID'].isin(phase_id_dict['test'])]\n",
    "sorterIndex_test = dict(zip(phase_id_dict['test'], range(len(phase_id_dict['test']))))\n",
    "df_test['rank'] = df_test['ID'].map(sorterIndex_test)\n",
    "df_test.sort_values(['rank'], ascending = [True], inplace = True)\n",
    "df_test.drop('rank', 1, inplace = True)\n",
    "\n",
    "df_val = nn_dataset.loc[nn_dataset['ID'].isin(phase_id_dict['val'])]\n",
    "sorterIndex_val = dict(zip(phase_id_dict['val'], range(len(phase_id_dict['val']))))\n",
    "df_val['rank'] = df_val['ID'].map(sorterIndex_val)\n",
    "df_val.sort_values(['rank'], ascending = [True], inplace = True)\n",
    "df_val.drop('rank', 1, inplace = True)"
   ]
  },
  {
   "cell_type": "code",
   "execution_count": null,
   "metadata": {},
   "outputs": [],
   "source": [
    "df_train.head(1)"
   ]
  },
  {
   "cell_type": "code",
   "execution_count": null,
   "metadata": {},
   "outputs": [],
   "source": [
    "df_val.head(1)"
   ]
  },
  {
   "cell_type": "markdown",
   "metadata": {},
   "source": [
    "## Preprocessing"
   ]
  },
  {
   "cell_type": "code",
   "execution_count": 21,
   "metadata": {},
   "outputs": [],
   "source": [
    "cols_standardize = ['age', 'ENTvolML', 'KPSpre']\n",
    "cols_leave = ['ENTside', 'GenderV2', 'Chemo', 'SurgeryExtend']\n",
    "# cols_leave = ['ENTside', 'Chemo', 'SurgeryExtend']\n",
    "\n",
    "standardize = [([col], StandardScaler()) for col in cols_standardize]\n",
    "leave = [(col, None) for col in cols_leave]\n",
    "\n",
    "x_mapper = DataFrameMapper(standardize + leave)"
   ]
  },
  {
   "cell_type": "markdown",
   "metadata": {},
   "source": [
    "### Train/test/val split"
   ]
  },
  {
   "cell_type": "code",
   "execution_count": 22,
   "metadata": {},
   "outputs": [],
   "source": [
    "x_train = x_mapper.fit_transform(df_train).astype('float32')\n",
    "x_test = x_mapper.fit_transform(df_test).astype('float32')\n",
    "x_val = x_mapper.fit_transform(df_val).astype('float32')"
   ]
  },
  {
   "cell_type": "code",
   "execution_count": 23,
   "metadata": {},
   "outputs": [],
   "source": [
    "clinical_dataset = np.concatenate((x_train, x_test, x_val), axis=0)"
   ]
  },
  {
   "cell_type": "markdown",
   "metadata": {},
   "source": [
    "# Datasets"
   ]
  },
  {
   "cell_type": "code",
   "execution_count": 24,
   "metadata": {},
   "outputs": [
    {
     "name": "stdout",
     "output_type": "stream",
     "text": [
      "Training Size: 711\n",
      "Validation Size: 101\n",
      "Test Size: 204\n"
     ]
    }
   ],
   "source": [
    "train_dataset = EnsembleDataset(dataset_filtered, clinical=clinical_dataset, phase='train', normalize=False, size=64)\n",
    "val_dataset = EnsembleDataset(dataset_filtered, clinical=clinical_dataset, phase='val', normalize=False, size=64)\n",
    "test_dataset = dataset_2(dataset_filtered, clinical=clinical_dataset, phase='test', normalize=False, size=64)"
   ]
  },
  {
   "cell_type": "markdown",
   "metadata": {},
   "source": [
    "# DataLoaders"
   ]
  },
  {
   "cell_type": "code",
   "execution_count": 25,
   "metadata": {},
   "outputs": [],
   "source": [
    "train_loader = DataLoader(train_dataset,\n",
    "                          batch_size=128,\n",
    "                          num_workers=6,\n",
    "                          shuffle=False,\n",
    "                          collate_fn=collate_fn)\n",
    "val_loader = DataLoader(val_dataset,\n",
    "                        batch_size=128,\n",
    "                        num_workers=6, \n",
    "                        shuffle=False,\n",
    "                        collate_fn=collate_fn)\n",
    "test_loader = DataLoader(test_dataset,\n",
    "                         batch_size=204,\n",
    "                         shuffle=False)"
   ]
  },
  {
   "cell_type": "code",
   "execution_count": 26,
   "metadata": {},
   "outputs": [],
   "source": [
    "# batch = next(iter(train_loader))"
   ]
  },
  {
   "cell_type": "code",
   "execution_count": 27,
   "metadata": {},
   "outputs": [],
   "source": [
    "class AlteredModel(Model):\n",
    "    @property\n",
    "    def optimizer(self):\n",
    "        return self._optimizer\n",
    "\n",
    "    @optimizer.setter\n",
    "    def optimizer(self, optimizer):\n",
    "        self._optimizer = optimizer\n",
    "        if callable(self._optimizer):\n",
    "            self._optimizer = self._optimizer(params=self.net.parameters())\n",
    "        if not isinstance(self._optimizer, OptimWrap):\n",
    "            self._optimizer = OptimWrap(self._optimizer)\n",
    "        \n",
    "    def compute_metrics(self, data, metrics=None) -> Dict[str, torch.Tensor]:\n",
    "        \"\"\"Function for computing the loss and other metrics.\n",
    "        \n",
    "        Arguments:\n",
    "            data {tensor or tuple} -- A batch of data. Typically the tuple `(input, target)`.\n",
    "        Keyword Arguments:\n",
    "            metrics {dict} -- A dictionary with metrics. If `None` use `self.metrics`. (default: {None})\n",
    "        \"\"\"\n",
    "        return_metrics = {}\n",
    "        if metrics is None:\n",
    "            metrics = self.metrics\n",
    "        if (self.loss is None) and (self.loss in metrics.values()):\n",
    "            raise RuntimeError(f\"Need to set `self.loss`.\")\n",
    "        \n",
    "        input, target = data\n",
    "        input = self._to_device(input)\n",
    "        target = self._to_device(target)\n",
    "#         out1, out2 = self.net(input)\n",
    "        combined = self.net(input)\n",
    "#         print(combined.shape)\n",
    "        combined = tuplefy(combined)\n",
    "#         out1 = tuplefy(out1)\n",
    "#         out2 = tuplefy(out2)\n",
    "        \n",
    "#         resnet_loss = self.loss(*out1, *target)\n",
    "#         clinical_loss = self.loss(*out2, *target)\n",
    "        loss = self.loss(*combined, *target)\n",
    "#         loss = resnet_loss + clinical_loss\n",
    "\n",
    "        return {'loss': loss}\n",
    "#         return {'loss': loss, \n",
    "#                 'loss_resnet': resnet_loss, \n",
    "#                 \"loss_clinical\": clinical_loss}\n",
    "    \n",
    "    def _setup_metrics(self, metrics=None):\n",
    "        all_metrics = {'loss': self.loss}\n",
    "        if metrics is not None:\n",
    "            if not hasattr(metrics, 'items'):\n",
    "                if not hasattr(metrics, '__iter__'):\n",
    "                    metrics = [metrics]\n",
    "                metrics = {met.__name__: met for met in metrics}\n",
    "            if 'loss' in metrics:\n",
    "                raise ValueError(\"The 'loss' keyword is reserved for the loss function.\")\n",
    "            all_metrics.update(metrics)\n",
    "        return all_metrics\n",
    "    \n",
    "    def fit_dataloader(self, dataloader, epochs=1, callbacks=None, verbose=True, metrics=None,\n",
    "                       val_dataloader=None):\n",
    "        \"\"\"Fit a dataloader object.\n",
    "        See 'fit' for tensors and np.arrays.\n",
    "        \n",
    "        Arguments:\n",
    "            dataloader {dataloader} -- A dataloader that gives (input, target).\n",
    "        \n",
    "        Keyword Arguments:\n",
    "            epochs {int} -- Number of epochs (default: {1})\n",
    "            callbacks {list} -- list of callbacks (default: {None})\n",
    "            verbose {bool} -- Print progress (default: {True})\n",
    "        \n",
    "        Returns:\n",
    "            TrainingLogger -- Training log\n",
    "        \"\"\"\n",
    "        self._setup_train_info(dataloader)\n",
    "        self.metrics = self._setup_metrics(metrics)\n",
    "        self.log.verbose = verbose\n",
    "        self.val_metrics.dataloader = val_dataloader\n",
    "        if callbacks is None:\n",
    "            callbacks = []\n",
    "        self.callbacks = cb.TrainingCallbackHandler(self.optimizer, self.train_metrics, self.log,\n",
    "                                                    self.val_metrics, callbacks)\n",
    "        self.callbacks.give_model(self)\n",
    "\n",
    "        stop = self.callbacks.on_fit_start()\n",
    "        for _ in range(epochs):\n",
    "            if stop: break\n",
    "            stop = self.callbacks.on_epoch_start()\n",
    "            if stop: break\n",
    "            for data in dataloader:\n",
    "                stop = self.callbacks.on_batch_start()\n",
    "                if stop: break\n",
    "                self.optimizer.zero_grad()\n",
    "                self.batch_metrics = self.compute_metrics(data, self.metrics)\n",
    "                self.batch_loss = self.batch_metrics['loss']\n",
    "                self.batch_loss.backward()\n",
    "                stop = self.callbacks.before_step()\n",
    "                if stop: break\n",
    "                self.optimizer.step()\n",
    "                stop = self.callbacks.on_batch_end()\n",
    "                if stop: break\n",
    "            else:\n",
    "                stop = self.callbacks.on_epoch_end()\n",
    "        self.callbacks.on_fit_end()\n",
    "        return self.log"
   ]
  },
  {
   "cell_type": "code",
   "execution_count": 28,
   "metadata": {},
   "outputs": [],
   "source": [
    "class Base(AlteredModel):\n",
    "    \"\"\"Base class for survival models. \n",
    "    Essentially same as torchtuples.Model, \n",
    "    \"\"\"\n",
    "    def predict_surv(self, input, batch_size=8224, numpy=None, eval_=True,\n",
    "                     to_cpu=False, num_workers=0):\n",
    "        raise NotImplementedError\n",
    "\n",
    "    def predict_surv_df(self, input, batch_size=8224, eval_=True, num_workers=0):\n",
    "        raise NotImplementedError\n",
    "\n",
    "    def predict_hazard(self, input, batch_size=8224, numpy=None, eval_=True, to_cpu=False,\n",
    "                       num_workers=0):\n",
    "        raise NotImplementedError\n",
    "\n",
    "    def predict_pmf(self, input, batch_size=8224, numpy=None, eval_=True, to_cpu=False,\n",
    "                    num_workers=0):\n",
    "        raise NotImplementedError"
   ]
  },
  {
   "cell_type": "code",
   "execution_count": 29,
   "metadata": {},
   "outputs": [],
   "source": [
    "class LogisticAltered(Base):\n",
    "    label_transform = label_transforms.LabTransDiscreteTime\n",
    "\n",
    "    def __init__(self, net, optimizer=None, device=None, duration_index=None, loss=None):\n",
    "        self.duration_index = duration_index\n",
    "        if loss is None:\n",
    "            loss = models.loss.NLLLogistiHazardLoss()\n",
    "        super().__init__(net, loss, optimizer, device)\n",
    "\n",
    "    @property\n",
    "    def duration_index(self):\n",
    "        \"\"\"\n",
    "        Array of durations that defines the discrete times. This is used to set the index\n",
    "        of the DataFrame in `predict_surv_df`.\n",
    "        \n",
    "        Returns:\n",
    "            np.array -- Duration index.\n",
    "        \"\"\"\n",
    "        return self._duration_index\n",
    "\n",
    "    @duration_index.setter\n",
    "    def duration_index(self, val):\n",
    "        self._duration_index = val\n",
    "\n",
    "    def predict_surv_df(self, input, batch_size=8224, eval_=True, num_workers=0):\n",
    "        surv = self.predict_surv(input, batch_size, True, eval_, True, num_workers)\n",
    "        return pd.DataFrame(surv.transpose(), self.duration_index)\n",
    "\n",
    "    def predict_surv(self, input, batch_size=8224, numpy=None, eval_=True, to_cpu=False,\n",
    "                     num_workers=0, epsilon=1e-7):\n",
    "        hazard = self.predict_hazard(input, batch_size, False, eval_, to_cpu, num_workers)\n",
    "        surv = (1 - hazard).add(epsilon).log().cumsum(1).exp()\n",
    "        return tt.utils.array_or_tensor(surv, numpy, input)\n",
    "\n",
    "\n",
    "    def predict_hazard(self, input, batch_size=8224, numpy=None, eval_=True, to_cpu=False,\n",
    "                       num_workers=0):\n",
    "        hazard = self.predict(input, batch_size, False, eval_, False, to_cpu, num_workers).sigmoid()\n",
    "        return tt.utils.array_or_tensor(hazard, numpy, input)\n",
    "\n",
    "    def interpolate(self, sub=10, scheme='const_pdf', duration_index=None):\n",
    "        if duration_index is None:\n",
    "            duration_index = self.duration_index\n",
    "        return InterpolateLogisticHazard(self, scheme, duration_index, sub)"
   ]
  },
  {
   "cell_type": "markdown",
   "metadata": {},
   "source": [
    "# ResNet-10"
   ]
  },
  {
   "cell_type": "code",
   "execution_count": 30,
   "metadata": {},
   "outputs": [],
   "source": [
    "cuts = np.array([0., 70., 134., 213., 290., 365., 450., 623., 829., 1785.])"
   ]
  },
  {
   "cell_type": "code",
   "execution_count": 31,
   "metadata": {},
   "outputs": [],
   "source": [
    "net = ensemble.generate_model(model_depth=10,\n",
    "                        n_classes=10,\n",
    "                        n_input_channels=4,\n",
    "                        shortcut_type='B',\n",
    "                        conv1_t_size=7,\n",
    "                        conv1_t_stride=1,\n",
    "                        no_max_pool=False,\n",
    "                        widen_factor=1.0,\n",
    "                             dropout=0.5)"
   ]
  },
  {
   "cell_type": "code",
   "execution_count": 32,
   "metadata": {},
   "outputs": [
    {
     "data": {
      "text/plain": [
       "ResNet(\n",
       "  (conv1): Conv3d(4, 64, kernel_size=(7, 7, 7), stride=(1, 2, 2), padding=(3, 3, 3), bias=False)\n",
       "  (bn1): BatchNorm3d(64, eps=1e-05, momentum=0.1, affine=True, track_running_stats=True)\n",
       "  (relu): ReLU(inplace=True)\n",
       "  (maxpool): MaxPool3d(kernel_size=3, stride=2, padding=1, dilation=1, ceil_mode=False)\n",
       "  (layer1): Sequential(\n",
       "    (0): BasicBlock(\n",
       "      (conv1): Conv3d(64, 64, kernel_size=(3, 3, 3), stride=(1, 1, 1), padding=(1, 1, 1), bias=False)\n",
       "      (bn1): BatchNorm3d(64, eps=1e-05, momentum=0.1, affine=True, track_running_stats=True)\n",
       "      (relu): ReLU(inplace=True)\n",
       "      (conv2): Conv3d(64, 64, kernel_size=(3, 3, 3), stride=(1, 1, 1), padding=(1, 1, 1), bias=False)\n",
       "      (bn2): BatchNorm3d(64, eps=1e-05, momentum=0.1, affine=True, track_running_stats=True)\n",
       "    )\n",
       "  )\n",
       "  (layer2): Sequential(\n",
       "    (0): BasicBlock(\n",
       "      (conv1): Conv3d(64, 128, kernel_size=(3, 3, 3), stride=(2, 2, 2), padding=(1, 1, 1), bias=False)\n",
       "      (bn1): BatchNorm3d(128, eps=1e-05, momentum=0.1, affine=True, track_running_stats=True)\n",
       "      (relu): ReLU(inplace=True)\n",
       "      (conv2): Conv3d(128, 128, kernel_size=(3, 3, 3), stride=(1, 1, 1), padding=(1, 1, 1), bias=False)\n",
       "      (bn2): BatchNorm3d(128, eps=1e-05, momentum=0.1, affine=True, track_running_stats=True)\n",
       "      (downsample): Sequential(\n",
       "        (0): Conv3d(64, 128, kernel_size=(1, 1, 1), stride=(2, 2, 2), bias=False)\n",
       "        (1): BatchNorm3d(128, eps=1e-05, momentum=0.1, affine=True, track_running_stats=True)\n",
       "      )\n",
       "    )\n",
       "  )\n",
       "  (layer3): Sequential(\n",
       "    (0): BasicBlock(\n",
       "      (conv1): Conv3d(128, 256, kernel_size=(3, 3, 3), stride=(2, 2, 2), padding=(1, 1, 1), bias=False)\n",
       "      (bn1): BatchNorm3d(256, eps=1e-05, momentum=0.1, affine=True, track_running_stats=True)\n",
       "      (relu): ReLU(inplace=True)\n",
       "      (conv2): Conv3d(256, 256, kernel_size=(3, 3, 3), stride=(1, 1, 1), padding=(1, 1, 1), bias=False)\n",
       "      (bn2): BatchNorm3d(256, eps=1e-05, momentum=0.1, affine=True, track_running_stats=True)\n",
       "      (downsample): Sequential(\n",
       "        (0): Conv3d(128, 256, kernel_size=(1, 1, 1), stride=(2, 2, 2), bias=False)\n",
       "        (1): BatchNorm3d(256, eps=1e-05, momentum=0.1, affine=True, track_running_stats=True)\n",
       "      )\n",
       "    )\n",
       "  )\n",
       "  (layer4): Sequential(\n",
       "    (0): BasicBlock(\n",
       "      (conv1): Conv3d(256, 512, kernel_size=(3, 3, 3), stride=(2, 2, 2), padding=(1, 1, 1), bias=False)\n",
       "      (bn1): BatchNorm3d(512, eps=1e-05, momentum=0.1, affine=True, track_running_stats=True)\n",
       "      (relu): ReLU(inplace=True)\n",
       "      (conv2): Conv3d(512, 512, kernel_size=(3, 3, 3), stride=(1, 1, 1), padding=(1, 1, 1), bias=False)\n",
       "      (bn2): BatchNorm3d(512, eps=1e-05, momentum=0.1, affine=True, track_running_stats=True)\n",
       "      (downsample): Sequential(\n",
       "        (0): Conv3d(256, 512, kernel_size=(1, 1, 1), stride=(2, 2, 2), bias=False)\n",
       "        (1): BatchNorm3d(512, eps=1e-05, momentum=0.1, affine=True, track_running_stats=True)\n",
       "      )\n",
       "    )\n",
       "  )\n",
       "  (avgpool): AdaptiveAvgPool3d(output_size=(1, 1, 1))\n",
       "  (fc): Linear(in_features=512, out_features=10, bias=True)\n",
       "  (drop): Dropout(p=0.5, inplace=False)\n",
       "  (fc2): Linear(in_features=256, out_features=10, bias=True)\n",
       "  (seq): Sequential(\n",
       "    (0): Linear(in_features=7, out_features=28, bias=True)\n",
       "    (1): ReLU()\n",
       "    (2): BatchNorm1d(28, eps=1e-05, momentum=0.1, affine=True, track_running_stats=True)\n",
       "    (3): Dropout(p=0.5, inplace=False)\n",
       "    (4): Linear(in_features=28, out_features=56, bias=True)\n",
       "    (5): ReLU()\n",
       "    (6): BatchNorm1d(56, eps=1e-05, momentum=0.1, affine=True, track_running_stats=True)\n",
       "    (7): Linear(in_features=56, out_features=56, bias=True)\n",
       "    (8): ReLU()\n",
       "    (9): BatchNorm1d(56, eps=1e-05, momentum=0.1, affine=True, track_running_stats=True)\n",
       "    (10): Linear(in_features=56, out_features=112, bias=True)\n",
       "    (11): ReLU()\n",
       "    (12): BatchNorm1d(112, eps=1e-05, momentum=0.1, affine=True, track_running_stats=True)\n",
       "  )\n",
       "  (fc3): Linear(in_features=1024, out_features=10, bias=True)\n",
       "  (fc_resnet): Linear(in_features=512, out_features=112, bias=True)\n",
       "  (fc_combined): Linear(in_features=224, out_features=10, bias=True)\n",
       ")"
      ]
     },
     "execution_count": 32,
     "metadata": {},
     "output_type": "execute_result"
    }
   ],
   "source": [
    "net"
   ]
  },
  {
   "cell_type": "markdown",
   "metadata": {},
   "source": [
    "# Model"
   ]
  },
  {
   "cell_type": "code",
   "execution_count": 33,
   "metadata": {},
   "outputs": [],
   "source": [
    "# model = LogisticAltered(net, \n",
    "#                         tt.optim.AdamWR(params=[{'params': net.seq.parameters(), 'lr': 0.009}], lr=0.001), \n",
    "#                         duration_index=cuts, \n",
    "#                         device=0)"
   ]
  },
  {
   "cell_type": "code",
   "execution_count": 34,
   "metadata": {},
   "outputs": [],
   "source": [
    "model = LogisticAltered(net, \n",
    "                        tt.optim.AdamW(), \n",
    "                        duration_index=cuts, \n",
    "                        device=0)"
   ]
  },
  {
   "cell_type": "code",
   "execution_count": 35,
   "metadata": {},
   "outputs": [],
   "source": [
    "with open('y_train_example2.pk', 'rb') as file:\n",
    "    x = pickle.load(file)\n",
    "    \n",
    "with open('y_train_example.pk', 'rb') as file:\n",
    "    y = pickle.load(file)"
   ]
  },
  {
   "cell_type": "code",
   "execution_count": 42,
   "metadata": {},
   "outputs": [
    {
     "name": "stderr",
     "output_type": "stream",
     "text": [
      "/opt/conda/lib/python3.7/site-packages/torch/storage.py:34: FutureWarning:\n",
      "\n",
      "pickle support for Storage will be removed in 1.5. Use `torch.save` instead\n",
      "\n"
     ]
    },
    {
     "data": {
      "image/png": "[encoded data removed]",
      "text/plain": [
       "<Figure size 432x288 with 1 Axes>"
      ]
     },
     "metadata": {
      "needs_background": "light"
     },
     "output_type": "display_data"
    }
   ],
   "source": [
    "batch_size = 128\n",
    "lrfind = model.lr_finder(x, y, batch_size, tolerance=50)\n",
    "_ = lrfind.plot()"
   ]
  },
  {
   "cell_type": "code",
   "execution_count": 43,
   "metadata": {},
   "outputs": [
    {
     "data": {
      "text/plain": [
       "0.035111917342151515"
      ]
     },
     "execution_count": 43,
     "metadata": {},
     "output_type": "execute_result"
    }
   ],
   "source": [
    "lrfind.get_best_lr()"
   ]
  },
  {
   "cell_type": "code",
   "execution_count": 34,
   "metadata": {},
   "outputs": [],
   "source": [
    "# model.compute_metrics(batch)"
   ]
  },
  {
   "cell_type": "code",
   "execution_count": 35,
   "metadata": {},
   "outputs": [],
   "source": [
    "num_epochs = 100"
   ]
  },
  {
   "cell_type": "code",
   "execution_count": null,
   "metadata": {},
   "outputs": [
    {
     "name": "stderr",
     "output_type": "stream",
     "text": [
      "/opt/conda/lib/python3.7/site-packages/torch/storage.py:34: FutureWarning:\n",
      "\n",
      "pickle support for Storage will be removed in 1.5. Use `torch.save` instead\n",
      "\n",
      "/pytorch/torch/csrc/utils/python_arg_parser.cpp:756: UserWarning:\n",
      "\n",
      "This overload of add is deprecated:\n",
      "\tadd(Number alpha, Tensor other)\n",
      "Consider using one of the following signatures instead:\n",
      "\tadd(Tensor other, *, Number alpha)\n",
      "\n"
     ]
    },
    {
     "name": "stdout",
     "output_type": "stream",
     "text": [
      "0:\t[4m:10s / 4m:10s],\t\ttrain_loss: 3.0039,\tval_loss: 3.0755\n"
     ]
    }
   ],
   "source": [
    "log = model.fit_dataloader(train_loader, num_epochs, [tt.cb.EarlyStopping(patience=5)], True, val_dataloader=val_loader)"
   ]
  },
  {
   "cell_type": "code",
   "execution_count": 37,
   "metadata": {},
   "outputs": [
    {
     "data": {
      "text/html": [
       "<div>\n",
       "<style scoped>\n",
       "    .dataframe tbody tr th:only-of-type {\n",
       "        vertical-align: middle;\n",
       "    }\n",
       "\n",
       "    .dataframe tbody tr th {\n",
       "        vertical-align: top;\n",
       "    }\n",
       "\n",
       "    .dataframe thead th {\n",
       "        text-align: right;\n",
       "    }\n",
       "</style>\n",
       "<table border=\"1\" class=\"dataframe\">\n",
       "  <thead>\n",
       "    <tr style=\"text-align: right;\">\n",
       "      <th></th>\n",
       "      <th>train_loss</th>\n",
       "      <th>val_loss</th>\n",
       "    </tr>\n",
       "  </thead>\n",
       "  <tbody>\n",
       "    <tr>\n",
       "      <th>0</th>\n",
       "      <td>3.397250</td>\n",
       "      <td>3.419361</td>\n",
       "    </tr>\n",
       "    <tr>\n",
       "      <th>1</th>\n",
       "      <td>2.437016</td>\n",
       "      <td>5.159957</td>\n",
       "    </tr>\n",
       "    <tr>\n",
       "      <th>2</th>\n",
       "      <td>2.274206</td>\n",
       "      <td>2.437434</td>\n",
       "    </tr>\n",
       "    <tr>\n",
       "      <th>3</th>\n",
       "      <td>2.232174</td>\n",
       "      <td>2.518845</td>\n",
       "    </tr>\n",
       "    <tr>\n",
       "      <th>4</th>\n",
       "      <td>2.173498</td>\n",
       "      <td>2.414410</td>\n",
       "    </tr>\n",
       "    <tr>\n",
       "      <th>5</th>\n",
       "      <td>2.161051</td>\n",
       "      <td>2.182460</td>\n",
       "    </tr>\n",
       "    <tr>\n",
       "      <th>6</th>\n",
       "      <td>2.138545</td>\n",
       "      <td>2.101861</td>\n",
       "    </tr>\n",
       "    <tr>\n",
       "      <th>7</th>\n",
       "      <td>2.148491</td>\n",
       "      <td>2.141276</td>\n",
       "    </tr>\n",
       "    <tr>\n",
       "      <th>8</th>\n",
       "      <td>2.141690</td>\n",
       "      <td>2.174952</td>\n",
       "    </tr>\n",
       "    <tr>\n",
       "      <th>9</th>\n",
       "      <td>2.149343</td>\n",
       "      <td>2.259165</td>\n",
       "    </tr>\n",
       "    <tr>\n",
       "      <th>10</th>\n",
       "      <td>2.086130</td>\n",
       "      <td>2.141181</td>\n",
       "    </tr>\n",
       "    <tr>\n",
       "      <th>11</th>\n",
       "      <td>2.071876</td>\n",
       "      <td>2.151758</td>\n",
       "    </tr>\n",
       "  </tbody>\n",
       "</table>\n",
       "</div>"
      ],
      "text/plain": [
       "    train_loss  val_loss\n",
       "0     3.397250  3.419361\n",
       "1     2.437016  5.159957\n",
       "2     2.274206  2.437434\n",
       "3     2.232174  2.518845\n",
       "4     2.173498  2.414410\n",
       "5     2.161051  2.182460\n",
       "6     2.138545  2.101861\n",
       "7     2.148491  2.141276\n",
       "8     2.141690  2.174952\n",
       "9     2.149343  2.259165\n",
       "10    2.086130  2.141181\n",
       "11    2.071876  2.151758"
      ]
     },
     "execution_count": 37,
     "metadata": {},
     "output_type": "execute_result"
    }
   ],
   "source": [
    "log.to_pandas()"
   ]
  }
 ],
 "metadata": {
  "kernelspec": {
   "display_name": "Python 3",
   "language": "python",
   "name": "python3"
  },
  "language_info": {
   "codemirror_mode": {
    "name": "ipython",
    "version": 3
   },
   "file_extension": ".py",
   "mimetype": "text/x-python",
   "name": "python",
   "nbconvert_exporter": "python",
   "pygments_lexer": "ipython3",
   "version": "3.8.5"
  }
 },
 "nbformat": 4,
 "nbformat_minor": 4
}