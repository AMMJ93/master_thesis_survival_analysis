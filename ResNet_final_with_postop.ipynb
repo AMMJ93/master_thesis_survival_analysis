{
 "cells": [
  {
   "cell_type": "code",
   "execution_count": 1,
   "metadata": {},
   "outputs": [
    {
     "data": {
      "text/html": [
       "        <script type=\"text/javascript\">\n",
       "        window.PlotlyConfig = {MathJaxConfig: 'local'};\n",
       "        if (window.MathJax) {MathJax.Hub.Config({SVG: {font: \"STIX-Web\"}});}\n",
       "        if (typeof require !== 'undefined') {\n",
       "        require.undef(\"plotly\");\n",
       "        requirejs.config({\n",
       "            paths: {\n",
       "                'plotly': ['https://cdn.plot.ly/plotly-latest.min']\n",
       "            }\n",
       "        });\n",
       "        require(['plotly'], function(Plotly) {\n",
       "            window._Plotly = Plotly;\n",
       "        });\n",
       "        }\n",
       "        </script>\n",
       "        "
      ]
     },
     "metadata": {},
     "output_type": "display_data"
    }
   ],
   "source": [
    "import modules.resnet_3d as resnet\n",
    "from pathlib import Path\n",
    "import numpy as np\n",
    "from modules.mapper import FileMapper as fm\n",
    "from modules.dataset_with_postop import Dataset\n",
    "from modules.dataset_image_only_postop import Dataset as dataset_2\n",
    "from modules.cnn_model import CNNModel\n",
    "from torch.utils.data import DataLoader\n",
    "import torchtuples as tt\n",
    "from pycox.models import LogisticHazard\n",
    "import pickle\n",
    "import random\n",
    "from modules.mlflow_logger import Logger\n",
    "from modules.utils import getPatientIdentifier, collate_fn, returnMontage, get_optimizer\n",
    "import sys\n",
    "import argparse\n",
    "import datetime\n",
    "from pycox.evaluation import EvalSurv\n",
    "from pycox.utils import kaplan_meier\n",
    "import logging\n",
    "import logging.config\n",
    "import pytz\n",
    "import torch\n",
    "import plotly.graph_objs as go\n",
    "# from lifelines import KaplanMeierFitter\n",
    "import plotly\n",
    "plotly.offline.init_notebook_mode(connected=True)\n",
    "import pandas as pd\n",
    "%load_ext autoreload\n",
    "%autoreload 2"
   ]
  },
  {
   "cell_type": "markdown",
   "metadata": {},
   "source": [
    "# Create Dataset"
   ]
  },
  {
   "cell_type": "code",
   "execution_count": 2,
   "metadata": {},
   "outputs": [],
   "source": [
    "preop_patients = []\n",
    "for path in Path('./data/preoperative_no_norm').glob('BMIAXNA*'):\n",
    "    preop_patients.append(path)"
   ]
  },
  {
   "cell_type": "code",
   "execution_count": 3,
   "metadata": {},
   "outputs": [],
   "source": [
    "postop_patients = []\n",
    "for path in Path('./data/postoperative_no_norm').glob('BMIAXNA*'):\n",
    "    postop_patients.append(path)"
   ]
  },
  {
   "cell_type": "code",
   "execution_count": 4,
   "metadata": {},
   "outputs": [],
   "source": [
    "id_mapping = './data/pickles_jsons/id_surv_mapping_10_groups.json'"
   ]
  },
  {
   "cell_type": "code",
   "execution_count": 5,
   "metadata": {},
   "outputs": [
    {
     "name": "stdout",
     "output_type": "stream",
     "text": [
      "Number of patients/folders: 1016\n"
     ]
    }
   ],
   "source": [
    "mapper_class = fm(preop_patients, id_mapping, normalized=True, postop_path=postop_patients)\n",
    "mapper_class.generate_mapping()"
   ]
  },
  {
   "cell_type": "code",
   "execution_count": 6,
   "metadata": {},
   "outputs": [
    {
     "name": "stdout",
     "output_type": "stream",
     "text": [
      "Number of patients with postop added: 644\n"
     ]
    }
   ],
   "source": [
    "dataset = mapper_class.add_postop()"
   ]
  },
  {
   "cell_type": "code",
   "execution_count": 7,
   "metadata": {},
   "outputs": [
    {
     "data": {
      "text/plain": [
       "{'id': 'BMIAXNAT_S99999',\n",
       " 'T2w': '/home/jovyan/thesis/data/preoperative_no_norm/BMIAXNAT_S99999/T2w/BMIAXNAT_E99999_6_T2w.nii.gz',\n",
       " 'T1c': '/home/jovyan/thesis/data/preoperative_no_norm/BMIAXNAT_S99999/T1c/BMIAXNAT_E99999_6_T1c.nii.gz',\n",
       " 'T1w': '/home/jovyan/thesis/data/preoperative_no_norm/BMIAXNAT_S99999/T1w/BMIAXNAT_E99999_2_T1w.nii.gz',\n",
       " 'ENT': '/home/jovyan/thesis/data/preoperative_no_norm/BMIAXNAT_S99999/ENT/BMIAXNAT_E99999_7_ENT.nii.gz',\n",
       " 'FLR': '/home/jovyan/thesis/data/preoperative_no_norm/BMIAXNAT_S99999/FLR/BMIAXNAT_E99999_5_FLR.nii.gz',\n",
       " 'surv': 230.0,\n",
       " 'event': 0,\n",
       " 'group': 3,\n",
       " 'postop_T1c': '/home/jovyan/thesis/data/postoperative_no_norm/BMIAXNAT_S99999/postop_T1c/BMIAXNAT_E99999_6_T1c.nii.gz',\n",
       " 'postop_T2w': '/home/jovyan/thesis/data/postoperative_no_norm/BMIAXNAT_S99999/postop_T2w/BMIAXNAT_E99999_6_T2w.nii.gz',\n",
       " 'postop_T1w': '/home/jovyan/thesis/data/postoperative_no_norm/BMIAXNAT_S99999/postop_T1w/BMIAXNAT_E99999_2_T1w.nii.gz',\n",
       " 'postop_FLR': None}"
      ]
     },
     "execution_count": 7,
     "metadata": {},
     "output_type": "execute_result"
    }
   ],
   "source": [
    "dataset[3]"
   ]
  },
  {
   "cell_type": "code",
   "execution_count": 8,
   "metadata": {},
   "outputs": [],
   "source": [
    "with open('./data/pickles_jsons/filter_ids_v2_all.pkl', 'rb') as file:\n",
    "    filter_ids = pickle.load(file)\n",
    "dataset_filtered = [entry for entry in dataset if entry['ENT'] is not None]\n",
    "dataset_filtered = [entry for entry in dataset_filtered if entry['id'] not in filter_ids]"
   ]
  },
  {
   "cell_type": "markdown",
   "metadata": {},
   "source": [
    "## Set Random seed and randomize dataset"
   ]
  },
  {
   "cell_type": "code",
   "execution_count": 9,
   "metadata": {},
   "outputs": [],
   "source": [
    "random.seed(4)\n",
    "random.shuffle(dataset_filtered)"
   ]
  },
  {
   "cell_type": "code",
   "execution_count": 10,
   "metadata": {},
   "outputs": [
    {
     "data": {
      "text/plain": [
       "{'id': 'BMIAXNAT_S99999',\n",
       " 'T2w': '/home/jovyan/thesis/data/preoperative_no_norm/BMIAXNAT_S99999/T2w/BMIAXNAT_E99999_301_T2w.nii.gz',\n",
       " 'T1c': '/home/jovyan/thesis/data/preoperative_no_norm/BMIAXNAT_S99999/T1c/BMIAXNAT_E99999_301_T1c.nii.gz',\n",
       " 'T1w': '/home/jovyan/thesis/data/preoperative_no_norm/BMIAXNAT_S99999/T1w/BMIAXNAT_E99999_301_T1w.nii.gz',\n",
       " 'ENT': '/home/jovyan/thesis/data/preoperative_no_norm/BMIAXNAT_S99999/ENT/BMIAXNAT_E99999_302-MR1_ENT.nii.gz',\n",
       " 'FLR': '/home/jovyan/thesis/data/preoperative_no_norm/BMIAXNAT_S99999/FLR/BMIAXNAT_E99999_301_FLR.nii.gz',\n",
       " 'surv': 29.0,\n",
       " 'event': 1,\n",
       " 'group': 1,\n",
       " 'postop_T1w': None,\n",
       " 'postop_T1c': None,\n",
       " 'postop_FLR': None,\n",
       " 'postop_T2w': None}"
      ]
     },
     "execution_count": 10,
     "metadata": {},
     "output_type": "execute_result"
    }
   ],
   "source": [
    "dataset_filtered[0]"
   ]
  },
  {
   "cell_type": "markdown",
   "metadata": {},
   "source": [
    "# Train/Test/Val split datasets"
   ]
  },
  {
   "cell_type": "code",
   "execution_count": 11,
   "metadata": {},
   "outputs": [
    {
     "name": "stdout",
     "output_type": "stream",
     "text": [
      "Training Size: 711\n",
      "Validation Size: 101\n"
     ]
    }
   ],
   "source": [
    "train_dataset = Dataset(dataset_filtered, phase='train', normalize='zscore', size=64)\n",
    "val_dataset = Dataset(dataset_filtered, phase='val', normalize='zscore', size=64)"
   ]
  },
  {
   "cell_type": "code",
   "execution_count": 12,
   "metadata": {},
   "outputs": [
    {
     "name": "stdout",
     "output_type": "stream",
     "text": [
      "Test Size: 204\n"
     ]
    }
   ],
   "source": [
    "test_dataset = dataset_2(dataset_filtered, phase='test', normalize='zscore', size=64)"
   ]
  },
  {
   "cell_type": "markdown",
   "metadata": {},
   "source": [
    "# DataLoaders"
   ]
  },
  {
   "cell_type": "code",
   "execution_count": 13,
   "metadata": {},
   "outputs": [],
   "source": [
    "train_loader = DataLoader(train_dataset,\n",
    "                          batch_size=64,\n",
    "                          num_workers=6,\n",
    "                          shuffle=False,\n",
    "                          collate_fn=collate_fn)\n",
    "val_loader = DataLoader(val_dataset,\n",
    "                        batch_size=64,\n",
    "                        num_workers=6, shuffle=False,\n",
    "                        collate_fn=collate_fn)\n",
    "test_loader = DataLoader(test_dataset,\n",
    "                         batch_size=204,\n",
    "                         shuffle=False)"
   ]
  },
  {
   "cell_type": "markdown",
   "metadata": {},
   "source": [
    "# ResNet-10"
   ]
  },
  {
   "cell_type": "code",
   "execution_count": 14,
   "metadata": {},
   "outputs": [],
   "source": [
    "cuts = np.array([   0.,   66.,  141.,  208.,  292.,  363.,  449.,  592.,  829., 1785.])"
   ]
  },
  {
   "cell_type": "code",
   "execution_count": 15,
   "metadata": {},
   "outputs": [],
   "source": [
    "net = resnet.generate_model(model_depth=10,\n",
    "                        n_classes=10,\n",
    "                        n_input_channels=8,\n",
    "                        shortcut_type='B',\n",
    "                        conv1_t_size=7,\n",
    "                        conv1_t_stride=1,\n",
    "                        no_max_pool=False,\n",
    "                        widen_factor=1.0,\n",
    "                        dropout=0.7)"
   ]
  },
  {
   "cell_type": "markdown",
   "metadata": {},
   "source": [
    "# Model"
   ]
  },
  {
   "cell_type": "code",
   "execution_count": 16,
   "metadata": {},
   "outputs": [],
   "source": [
    "model = LogisticHazard(net, tt.optim.AdamW(decoupled_weight_decay=0.001), duration_index=cuts, device=0)"
   ]
  },
  {
   "cell_type": "code",
   "execution_count": 17,
   "metadata": {},
   "outputs": [],
   "source": [
    "num_epochs = 100"
   ]
  },
  {
   "cell_type": "code",
   "execution_count": null,
   "metadata": {},
   "outputs": [
    {
     "name": "stderr",
     "output_type": "stream",
     "text": [
      "/pytorch/torch/csrc/utils/python_arg_parser.cpp:756: UserWarning:\n",
      "\n",
      "This overload of add is deprecated:\n",
      "\tadd(Number alpha, Tensor other)\n",
      "Consider using one of the following signatures instead:\n",
      "\tadd(Tensor other, *, Number alpha)\n",
      "\n"
     ]
    },
    {
     "name": "stdout",
     "output_type": "stream",
     "text": [
      "0:\t[9m:0s / 9m:0s],\t\ttrain_loss: 2.6238,\tval_loss: 19.9124\n",
      "1:\t[8m:59s / 18m:0s],\t\ttrain_loss: 2.0946,\tval_loss: 4.1615\n",
      "2:\t[8m:58s / 26m:58s],\t\ttrain_loss: 1.9262,\tval_loss: 2.4258\n",
      "3:\t[8m:58s / 35m:57s],\t\ttrain_loss: 1.9025,\tval_loss: 2.0691\n",
      "4:\t[8m:56s / 44m:54s],\t\ttrain_loss: 1.9031,\tval_loss: 2.0935\n",
      "5:\t[8m:58s / 53m:52s],\t\ttrain_loss: 1.9108,\tval_loss: 2.0479\n",
      "6:\t[8m:59s / 1h:2m:51s],\t\ttrain_loss: 1.9099,\tval_loss: 2.0201\n",
      "7:\t[8m:58s / 1h:11m:50s],\t\ttrain_loss: 1.9288,\tval_loss: 2.0416\n",
      "8:\t[8m:56s / 1h:20m:46s],\t\ttrain_loss: 1.8849,\tval_loss: 2.1126\n",
      "9:\t[8m:57s / 1h:29m:44s],\t\ttrain_loss: 1.8653,\tval_loss: 2.0745\n",
      "10:\t[8m:59s / 1h:38m:43s],\t\ttrain_loss: 1.8489,\tval_loss: 2.0388\n",
      "11:\t[9m:4s / 1h:47m:48s],\t\ttrain_loss: 1.8420,\tval_loss: 2.0134\n",
      "12:\t[8m:58s / 1h:56m:47s],\t\ttrain_loss: 1.8711,\tval_loss: 2.0494\n",
      "13:\t[8m:58s / 2h:5m:45s],\t\ttrain_loss: 1.8066,\tval_loss: 2.0022\n",
      "14:\t[8m:59s / 2h:14m:44s],\t\ttrain_loss: 1.8134,\tval_loss: 2.0369\n",
      "15:\t[8m:58s / 2h:23m:43s],\t\ttrain_loss: 1.8197,\tval_loss: 2.0435\n",
      "16:\t[9m:0s / 2h:32m:43s],\t\ttrain_loss: 1.7994,\tval_loss: 2.0533\n"
     ]
    }
   ],
   "source": [
    "log = model.fit_dataloader(train_loader, num_epochs, [tt.cb.EarlyStopping(patience=6)], True, val_dataloader=val_loader)"
   ]
  },
  {
   "cell_type": "code",
   "execution_count": 43,
   "metadata": {},
   "outputs": [],
   "source": [
    "# model.save_model_weights('./Results/Resnet_with_postop_29-11.pt')"
   ]
  },
  {
   "cell_type": "markdown",
   "metadata": {},
   "source": [
    "# Test predictions"
   ]
  },
  {
   "cell_type": "code",
   "execution_count": 37,
   "metadata": {},
   "outputs": [],
   "source": [
    "predictions = model.predict_surv_df(test_loader)"
   ]
  },
  {
   "cell_type": "code",
   "execution_count": 38,
   "metadata": {},
   "outputs": [
    {
     "name": "stdout",
     "output_type": "stream",
     "text": [
      "Test Size: 204\n",
      "Test Size: 204\n",
      "Test Size: 204\n"
     ]
    }
   ],
   "source": [
    "targets = dataset_2(dataset_filtered, phase='test', targets=True)[0][0]\n",
    "events = dataset_2(dataset_filtered, phase='test', targets=True)[0][1]\n",
    "survs = dataset_2(dataset_filtered, phase='test', targets=True)[0][2]"
   ]
  },
  {
   "cell_type": "markdown",
   "metadata": {},
   "source": [
    "# Evaluate"
   ]
  },
  {
   "cell_type": "code",
   "execution_count": 39,
   "metadata": {},
   "outputs": [],
   "source": [
    "ev_test = EvalSurv(predictions, survs, events, 'km')"
   ]
  },
  {
   "cell_type": "code",
   "execution_count": 40,
   "metadata": {},
   "outputs": [],
   "source": [
    "concordance = ev_test.concordance_td('antolini')\n",
    "time_grid = np.linspace(0, survs.max())\n",
    "integrated_brier_score = ev_test.integrated_brier_score(time_grid)"
   ]
  },
  {
   "cell_type": "code",
   "execution_count": 49,
   "metadata": {},
   "outputs": [],
   "source": [
    "brier_score = ev_test.brier_score(time_grid)"
   ]
  },
  {
   "cell_type": "code",
   "execution_count": 41,
   "metadata": {},
   "outputs": [
    {
     "data": {
      "text/plain": [
       "0.6332688354093603"
      ]
     },
     "execution_count": 41,
     "metadata": {},
     "output_type": "execute_result"
    }
   ],
   "source": [
    "concordance"
   ]
  },
  {
   "cell_type": "code",
   "execution_count": 42,
   "metadata": {},
   "outputs": [
    {
     "data": {
      "text/plain": [
       "0.13912636225158298"
      ]
     },
     "execution_count": 42,
     "metadata": {},
     "output_type": "execute_result"
    }
   ],
   "source": [
    "integrated_brier_score"
   ]
  },
  {
   "cell_type": "code",
   "execution_count": 50,
   "metadata": {},
   "outputs": [],
   "source": [
    "trace = go.Scatter(x=brier_score.index.tolist(), y=brier_score.values, name='MRI Dataset')\n",
    "# trace_clinical = go.Scatter(x=brier_score_clinical['Unnamed: 0'].tolist(), y=brier_score_clinical['brier_score'].tolist(), name='Clinical Dataset')\n",
    "layout_brier = go.Layout(title='Brier score', \n",
    "                         title_x=0.5, xaxis_title='Time (days)', \n",
    "                         yaxis_title='Brier score',\n",
    "                        plot_bgcolor='rgb(252, 253, 255)', \n",
    "                   xaxis_gridcolor='rgb(245, 242, 240)',\n",
    "                  yaxis_gridcolor='rgb(245, 242, 240)',\n",
    "                  yaxis_linecolor=\"black\",\n",
    "                  xaxis_linecolor=\"black\",\n",
    "                        xaxis_range=(0,1750),\n",
    "                        xaxis_tickmode = 'linear',\n",
    "        xaxis_dtick = 100)\n",
    "fig_brier = go.Figure([trace], layout=layout_brier)"
   ]
  },
  {
   "cell_type": "code",
   "execution_count": 51,
   "metadata": {},
   "outputs": [
    {
     "data": {
      "application/vnd.plotly.v1+json": {
       "config": {
        "plotlyServerURL": "https://plot.ly"
       },
       "data": [
        {
         "name": "MRI Dataset",
         "type": "scatter",
         "x": [
          0,
          34.816326530612244,
          69.63265306122449,
          104.44897959183673,
          139.26530612244898,
          174.0816326530612,
          208.89795918367346,
          243.71428571428572,
          278.53061224489795,
          313.3469387755102,
          348.1632653061224,
          382.9795918367347,
          417.7959183673469,
          452.61224489795916,
          487.42857142857144,
          522.2448979591836,
          557.0612244897959,
          591.8775510204082,
          626.6938775510204,
          661.5102040816327,
          696.3265306122448,
          731.1428571428571,
          765.9591836734694,
          800.7755102040816,
          835.5918367346939,
          870.4081632653061,
          905.2244897959183,
          940.0408163265306,
          974.8571428571429,
          1009.6734693877551,
          1044.4897959183672,
          1079.3061224489795,
          1114.1224489795918,
          1148.938775510204,
          1183.7551020408164,
          1218.5714285714284,
          1253.3877551020407,
          1288.204081632653,
          1323.0204081632653,
          1357.8367346938776,
          1392.6530612244896,
          1427.469387755102,
          1462.2857142857142,
          1497.1020408163265,
          1531.9183673469388,
          1566.734693877551,
          1601.5510204081631,
          1636.3673469387754,
          1671.1836734693877,
          1706
         ],
         "y": [
          3.99326942557723e-06,
          0.03997782555008125,
          0.07667930820886595,
          0.1270349496734767,
          0.16162051236829844,
          0.16360048081984846,
          0.17866310797205895,
          0.19893670802127741,
          0.21505360502852217,
          0.22594255746518005,
          0.23615728613543469,
          0.22574234231015375,
          0.23275118439849068,
          0.22047797713024642,
          0.22251526107213784,
          0.2283743116827291,
          0.22900400244101196,
          0.2295025931016471,
          0.1992940222573405,
          0.19112128278285023,
          0.18028170148307734,
          0.17495730909462517,
          0.17696332778602997,
          0.17166595052503786,
          0.1492104320181486,
          0.1415393020764592,
          0.14285402528944,
          0.13455391532151076,
          0.13346242941477274,
          0.13347094444098365,
          0.12130076537979646,
          0.12130076537979646,
          0.10767883457789311,
          0.09836424664204364,
          0.09836424664204364,
          0.09038218861092119,
          0.08803832299645668,
          0.08803832299645668,
          0.0869319047640697,
          0.08000609814036738,
          0.08000609814036738,
          0.0758588498094071,
          0.0758588498094071,
          0.0758588498094071,
          0.07211278883481087,
          0.07211278883481087,
          0.07211278883481087,
          0.07152752348598179,
          0.07152752348598179,
          0.045858146402557365
         ]
        }
       ],
       "layout": {
        "autosize": true,
        "plot_bgcolor": "rgb(252, 253, 255)",
        "template": {
         "data": {
          "bar": [
           {
            "error_x": {
             "color": "#2a3f5f"
            },
            "error_y": {
             "color": "#2a3f5f"
            },
            "marker": {
             "line": {
              "color": "#E5ECF6",
              "width": 0.5
             }
            },
            "type": "bar"
           }
          ],
          "barpolar": [
           {
            "marker": {
             "line": {
              "color": "#E5ECF6",
              "width": 0.5
             }
            },
            "type": "barpolar"
           }
          ],
          "carpet": [
           {
            "aaxis": {
             "endlinecolor": "#2a3f5f",
             "gridcolor": "white",
             "linecolor": "white",
             "minorgridcolor": "white",
             "startlinecolor": "#2a3f5f"
            },
            "baxis": {
             "endlinecolor": "#2a3f5f",
             "gridcolor": "white",
             "linecolor": "white",
             "minorgridcolor": "white",
             "startlinecolor": "#2a3f5f"
            },
            "type": "carpet"
           }
          ],
          "choropleth": [
           {
            "colorbar": {
             "outlinewidth": 0,
             "ticks": ""
            },
            "type": "choropleth"
           }
          ],
          "contour": [
           {
            "colorbar": {
             "outlinewidth": 0,
             "ticks": ""
            },
            "colorscale": [
             [
              0,
              "#0d0887"
             ],
             [
              0.1111111111111111,
              "#46039f"
             ],
             [
              0.2222222222222222,
              "#7201a8"
             ],
             [
              0.3333333333333333,
              "#9c179e"
             ],
             [
              0.4444444444444444,
              "#bd3786"
             ],
             [
              0.5555555555555556,
              "#d8576b"
             ],
             [
              0.6666666666666666,
              "#ed7953"
             ],
             [
              0.7777777777777778,
              "#fb9f3a"
             ],
             [
              0.8888888888888888,
              "#fdca26"
             ],
             [
              1,
              "#f0f921"
             ]
            ],
            "type": "contour"
           }
          ],
          "contourcarpet": [
           {
            "colorbar": {
             "outlinewidth": 0,
             "ticks": ""
            },
            "type": "contourcarpet"
           }
          ],
          "heatmap": [
           {
            "colorbar": {
             "outlinewidth": 0,
             "ticks": ""
            },
            "colorscale": [
             [
              0,
              "#0d0887"
             ],
             [
              0.1111111111111111,
              "#46039f"
             ],
             [
              0.2222222222222222,
              "#7201a8"
             ],
             [
              0.3333333333333333,
              "#9c179e"
             ],
             [
              0.4444444444444444,
              "#bd3786"
             ],
             [
              0.5555555555555556,
              "#d8576b"
             ],
             [
              0.6666666666666666,
              "#ed7953"
             ],
             [
              0.7777777777777778,
              "#fb9f3a"
             ],
             [
              0.8888888888888888,
              "#fdca26"
             ],
             [
              1,
              "#f0f921"
             ]
            ],
            "type": "heatmap"
           }
          ],
          "heatmapgl": [
           {
            "colorbar": {
             "outlinewidth": 0,
             "ticks": ""
            },
            "colorscale": [
             [
              0,
              "#0d0887"
             ],
             [
              0.1111111111111111,
              "#46039f"
             ],
             [
              0.2222222222222222,
              "#7201a8"
             ],
             [
              0.3333333333333333,
              "#9c179e"
             ],
             [
              0.4444444444444444,
              "#bd3786"
             ],
             [
              0.5555555555555556,
              "#d8576b"
             ],
             [
              0.6666666666666666,
              "#ed7953"
             ],
             [
              0.7777777777777778,
              "#fb9f3a"
             ],
             [
              0.8888888888888888,
              "#fdca26"
             ],
             [
              1,
              "#f0f921"
             ]
            ],
            "type": "heatmapgl"
           }
          ],
          "histogram": [
           {
            "marker": {
             "colorbar": {
              "outlinewidth": 0,
              "ticks": ""
             }
            },
            "type": "histogram"
           }
          ],
          "histogram2d": [
           {
            "colorbar": {
             "outlinewidth": 0,
             "ticks": ""
            },
            "colorscale": [
             [
              0,
              "#0d0887"
             ],
             [
              0.1111111111111111,
              "#46039f"
             ],
             [
              0.2222222222222222,
              "#7201a8"
             ],
             [
              0.3333333333333333,
              "#9c179e"
             ],
             [
              0.4444444444444444,
              "#bd3786"
             ],
             [
              0.5555555555555556,
              "#d8576b"
             ],
             [
              0.6666666666666666,
              "#ed7953"
             ],
             [
              0.7777777777777778,
              "#fb9f3a"
             ],
             [
              0.8888888888888888,
              "#fdca26"
             ],
             [
              1,
              "#f0f921"
             ]
            ],
            "type": "histogram2d"
           }
          ],
          "histogram2dcontour": [
           {
            "colorbar": {
             "outlinewidth": 0,
             "ticks": ""
            },
            "colorscale": [
             [
              0,
              "#0d0887"
             ],
             [
              0.1111111111111111,
              "#46039f"
             ],
             [
              0.2222222222222222,
              "#7201a8"
             ],
             [
              0.3333333333333333,
              "#9c179e"
             ],
             [
              0.4444444444444444,
              "#bd3786"
             ],
             [
              0.5555555555555556,
              "#d8576b"
             ],
             [
              0.6666666666666666,
              "#ed7953"
             ],
             [
              0.7777777777777778,
              "#fb9f3a"
             ],
             [
              0.8888888888888888,
              "#fdca26"
             ],
             [
              1,
              "#f0f921"
             ]
            ],
            "type": "histogram2dcontour"
           }
          ],
          "mesh3d": [
           {
            "colorbar": {
             "outlinewidth": 0,
             "ticks": ""
            },
            "type": "mesh3d"
           }
          ],
          "parcoords": [
           {
            "line": {
             "colorbar": {
              "outlinewidth": 0,
              "ticks": ""
             }
            },
            "type": "parcoords"
           }
          ],
          "pie": [
           {
            "automargin": true,
            "type": "pie"
           }
          ],
          "scatter": [
           {
            "marker": {
             "colorbar": {
              "outlinewidth": 0,
              "ticks": ""
             }
            },
            "type": "scatter"
           }
          ],
          "scatter3d": [
           {
            "line": {
             "colorbar": {
              "outlinewidth": 0,
              "ticks": ""
             }
            },
            "marker": {
             "colorbar": {
              "outlinewidth": 0,
              "ticks": ""
             }
            },
            "type": "scatter3d"
           }
          ],
          "scattercarpet": [
           {
            "marker": {
             "colorbar": {
              "outlinewidth": 0,
              "ticks": ""
             }
            },
            "type": "scattercarpet"
           }
          ],
          "scattergeo": [
           {
            "marker": {
             "colorbar": {
              "outlinewidth": 0,
              "ticks": ""
             }
            },
            "type": "scattergeo"
           }
          ],
          "scattergl": [
           {
            "marker": {
             "colorbar": {
              "outlinewidth": 0,
              "ticks": ""
             }
            },
            "type": "scattergl"
           }
          ],
          "scattermapbox": [
           {
            "marker": {
             "colorbar": {
              "outlinewidth": 0,
              "ticks": ""
             }
            },
            "type": "scattermapbox"
           }
          ],
          "scatterpolar": [
           {
            "marker": {
             "colorbar": {
              "outlinewidth": 0,
              "ticks": ""
             }
            },
            "type": "scatterpolar"
           }
          ],
          "scatterpolargl": [
           {
            "marker": {
             "colorbar": {
              "outlinewidth": 0,
              "ticks": ""
             }
            },
            "type": "scatterpolargl"
           }
          ],
          "scatterternary": [
           {
            "marker": {
             "colorbar": {
              "outlinewidth": 0,
              "ticks": ""
             }
            },
            "type": "scatterternary"
           }
          ],
          "surface": [
           {
            "colorbar": {
             "outlinewidth": 0,
             "ticks": ""
            },
            "colorscale": [
             [
              0,
              "#0d0887"
             ],
             [
              0.1111111111111111,
              "#46039f"
             ],
             [
              0.2222222222222222,
              "#7201a8"
             ],
             [
              0.3333333333333333,
              "#9c179e"
             ],
             [
              0.4444444444444444,
              "#bd3786"
             ],
             [
              0.5555555555555556,
              "#d8576b"
             ],
             [
              0.6666666666666666,
              "#ed7953"
             ],
             [
              0.7777777777777778,
              "#fb9f3a"
             ],
             [
              0.8888888888888888,
              "#fdca26"
             ],
             [
              1,
              "#f0f921"
             ]
            ],
            "type": "surface"
           }
          ],
          "table": [
           {
            "cells": {
             "fill": {
              "color": "#EBF0F8"
             },
             "line": {
              "color": "white"
             }
            },
            "header": {
             "fill": {
              "color": "#C8D4E3"
             },
             "line": {
              "color": "white"
             }
            },
            "type": "table"
           }
          ]
         },
         "layout": {
          "annotationdefaults": {
           "arrowcolor": "#2a3f5f",
           "arrowhead": 0,
           "arrowwidth": 1
          },
          "coloraxis": {
           "colorbar": {
            "outlinewidth": 0,
            "ticks": ""
           }
          },
          "colorscale": {
           "diverging": [
            [
             0,
             "#8e0152"
            ],
            [
             0.1,
             "#c51b7d"
            ],
            [
             0.2,
             "#de77ae"
            ],
            [
             0.3,
             "#f1b6da"
            ],
            [
             0.4,
             "#fde0ef"
            ],
            [
             0.5,
             "#f7f7f7"
            ],
            [
             0.6,
             "#e6f5d0"
            ],
            [
             0.7,
             "#b8e186"
            ],
            [
             0.8,
             "#7fbc41"
            ],
            [
             0.9,
             "#4d9221"
            ],
            [
             1,
             "#276419"
            ]
           ],
           "sequential": [
            [
             0,
             "#0d0887"
            ],
            [
             0.1111111111111111,
             "#46039f"
            ],
            [
             0.2222222222222222,
             "#7201a8"
            ],
            [
             0.3333333333333333,
             "#9c179e"
            ],
            [
             0.4444444444444444,
             "#bd3786"
            ],
            [
             0.5555555555555556,
             "#d8576b"
            ],
            [
             0.6666666666666666,
             "#ed7953"
            ],
            [
             0.7777777777777778,
             "#fb9f3a"
            ],
            [
             0.8888888888888888,
             "#fdca26"
            ],
            [
             1,
             "#f0f921"
            ]
           ],
           "sequentialminus": [
            [
             0,
             "#0d0887"
            ],
            [
             0.1111111111111111,
             "#46039f"
            ],
            [
             0.2222222222222222,
             "#7201a8"
            ],
            [
             0.3333333333333333,
             "#9c179e"
            ],
            [
             0.4444444444444444,
             "#bd3786"
            ],
            [
             0.5555555555555556,
             "#d8576b"
            ],
            [
             0.6666666666666666,
             "#ed7953"
            ],
            [
             0.7777777777777778,
             "#fb9f3a"
            ],
            [
             0.8888888888888888,
             "#fdca26"
            ],
            [
             1,
             "#f0f921"
            ]
           ]
          },
          "colorway": [
           "#636efa",
           "#EF553B",
           "#00cc96",
           "#ab63fa",
           "#FFA15A",
           "#19d3f3",
           "#FF6692",
           "#B6E880",
           "#FF97FF",
           "#FECB52"
          ],
          "font": {
           "color": "#2a3f5f"
          },
          "geo": {
           "bgcolor": "white",
           "lakecolor": "white",
           "landcolor": "#E5ECF6",
           "showlakes": true,
           "showland": true,
           "subunitcolor": "white"
          },
          "hoverlabel": {
           "align": "left"
          },
          "hovermode": "closest",
          "mapbox": {
           "style": "light"
          },
          "paper_bgcolor": "white",
          "plot_bgcolor": "#E5ECF6",
          "polar": {
           "angularaxis": {
            "gridcolor": "white",
            "linecolor": "white",
            "ticks": ""
           },
           "bgcolor": "#E5ECF6",
           "radialaxis": {
            "gridcolor": "white",
            "linecolor": "white",
            "ticks": ""
           }
          },
          "scene": {
           "xaxis": {
            "backgroundcolor": "#E5ECF6",
            "gridcolor": "white",
            "gridwidth": 2,
            "linecolor": "white",
            "showbackground": true,
            "ticks": "",
            "zerolinecolor": "white"
           },
           "yaxis": {
            "backgroundcolor": "#E5ECF6",
            "gridcolor": "white",
            "gridwidth": 2,
            "linecolor": "white",
            "showbackground": true,
            "ticks": "",
            "zerolinecolor": "white"
           },
           "zaxis": {
            "backgroundcolor": "#E5ECF6",
            "gridcolor": "white",
            "gridwidth": 2,
            "linecolor": "white",
            "showbackground": true,
            "ticks": "",
            "zerolinecolor": "white"
           }
          },
          "shapedefaults": {
           "line": {
            "color": "#2a3f5f"
           }
          },
          "ternary": {
           "aaxis": {
            "gridcolor": "white",
            "linecolor": "white",
            "ticks": ""
           },
           "baxis": {
            "gridcolor": "white",
            "linecolor": "white",
            "ticks": ""
           },
           "bgcolor": "#E5ECF6",
           "caxis": {
            "gridcolor": "white",
            "linecolor": "white",
            "ticks": ""
           }
          },
          "title": {
           "x": 0.05
          },
          "xaxis": {
           "automargin": true,
           "gridcolor": "white",
           "linecolor": "white",
           "ticks": "",
           "title": {
            "standoff": 15
           },
           "zerolinecolor": "white",
           "zerolinewidth": 2
          },
          "yaxis": {
           "automargin": true,
           "gridcolor": "white",
           "linecolor": "white",
           "ticks": "",
           "title": {
            "standoff": 15
           },
           "zerolinecolor": "white",
           "zerolinewidth": 2
          }
         }
        },
        "title": {
         "text": "Brier score",
         "x": 0.5
        },
        "xaxis": {
         "dtick": 100,
         "gridcolor": "rgb(245, 242, 240)",
         "linecolor": "black",
         "range": [
          0,
          1750
         ],
         "tickmode": "linear",
         "title": {
          "text": "Time (days)"
         },
         "type": "linear"
        },
        "yaxis": {
         "autorange": true,
         "gridcolor": "rgb(245, 242, 240)",
         "linecolor": "black",
         "range": [
          -0.013115634112019372,
          0.24927691351687964
         ],
         "title": {
          "text": "Brier score"
         },
         "type": "linear"
        }
       }
      },
      "image/png": "[encoded data removed]",
      "text/html": [
       "<div>                            <div id=\"8af51600-845e-42d0-aec9-eaded43bc4ee\" class=\"plotly-graph-div\" style=\"height:525px; width:100%;\"></div>            <script type=\"text/javascript\">                require([\"plotly\"], function(Plotly) {                    window.PLOTLYENV=window.PLOTLYENV || {};                                    if (document.getElementById(\"8af51600-845e-42d0-aec9-eaded43bc4ee\")) {                    Plotly.newPlot(                        \"8af51600-845e-42d0-aec9-eaded43bc4ee\",                        [{\"name\": \"MRI Dataset\", \"type\": \"scatter\", \"x\": [0.0, 34.816326530612244, 69.63265306122449, 104.44897959183673, 139.26530612244898, 174.0816326530612, 208.89795918367346, 243.71428571428572, 278.53061224489795, 313.3469387755102, 348.1632653061224, 382.9795918367347, 417.7959183673469, 452.61224489795916, 487.42857142857144, 522.2448979591836, 557.0612244897959, 591.8775510204082, 626.6938775510204, 661.5102040816327, 696.3265306122448, 731.1428571428571, 765.9591836734694, 800.7755102040816, 835.5918367346939, 870.4081632653061, 905.2244897959183, 940.0408163265306, 974.8571428571429, 1009.6734693877551, 1044.4897959183672, 1079.3061224489795, 1114.1224489795918, 1148.938775510204, 1183.7551020408164, 1218.5714285714284, 1253.3877551020407, 1288.204081632653, 1323.0204081632653, 1357.8367346938776, 1392.6530612244896, 1427.469387755102, 1462.2857142857142, 1497.1020408163265, 1531.9183673469388, 1566.734693877551, 1601.5510204081631, 1636.3673469387754, 1671.1836734693877, 1706.0], \"y\": [3.99326942557723e-06, 0.03997782555008125, 0.07667930820886595, 0.1270349496734767, 0.16162051236829844, 0.16360048081984846, 0.17866310797205895, 0.19893670802127741, 0.21505360502852217, 0.22594255746518005, 0.23615728613543469, 0.22574234231015375, 0.23275118439849068, 0.22047797713024642, 0.22251526107213784, 0.2283743116827291, 0.22900400244101196, 0.2295025931016471, 0.1992940222573405, 0.19112128278285023, 0.18028170148307734, 0.17495730909462517, 0.17696332778602997, 0.17166595052503786, 0.1492104320181486, 0.1415393020764592, 0.14285402528944, 0.13455391532151076, 0.13346242941477274, 0.13347094444098365, 0.12130076537979646, 0.12130076537979646, 0.10767883457789311, 0.09836424664204364, 0.09836424664204364, 0.09038218861092119, 0.08803832299645668, 0.08803832299645668, 0.0869319047640697, 0.08000609814036738, 0.08000609814036738, 0.0758588498094071, 0.0758588498094071, 0.0758588498094071, 0.07211278883481087, 0.07211278883481087, 0.07211278883481087, 0.07152752348598179, 0.07152752348598179, 0.045858146402557365]}],                        {\"plot_bgcolor\": \"rgb(252, 253, 255)\", \"template\": {\"data\": {\"bar\": [{\"error_x\": {\"color\": \"#2a3f5f\"}, \"error_y\": {\"color\": \"#2a3f5f\"}, \"marker\": {\"line\": {\"color\": \"#E5ECF6\", \"width\": 0.5}}, \"type\": \"bar\"}], \"barpolar\": [{\"marker\": {\"line\": {\"color\": \"#E5ECF6\", \"width\": 0.5}}, \"type\": \"barpolar\"}], \"carpet\": [{\"aaxis\": {\"endlinecolor\": \"#2a3f5f\", \"gridcolor\": \"white\", \"linecolor\": \"white\", \"minorgridcolor\": \"white\", \"startlinecolor\": \"#2a3f5f\"}, \"baxis\": {\"endlinecolor\": \"#2a3f5f\", \"gridcolor\": \"white\", \"linecolor\": \"white\", \"minorgridcolor\": \"white\", \"startlinecolor\": \"#2a3f5f\"}, \"type\": \"carpet\"}], \"choropleth\": [{\"colorbar\": {\"outlinewidth\": 0, \"ticks\": \"\"}, \"type\": \"choropleth\"}], \"contour\": [{\"colorbar\": {\"outlinewidth\": 0, \"ticks\": \"\"}, \"colorscale\": [[0.0, \"#0d0887\"], [0.1111111111111111, \"#46039f\"], [0.2222222222222222, \"#7201a8\"], [0.3333333333333333, \"#9c179e\"], [0.4444444444444444, \"#bd3786\"], [0.5555555555555556, \"#d8576b\"], [0.6666666666666666, \"#ed7953\"], [0.7777777777777778, \"#fb9f3a\"], [0.8888888888888888, \"#fdca26\"], [1.0, \"#f0f921\"]], \"type\": \"contour\"}], \"contourcarpet\": [{\"colorbar\": {\"outlinewidth\": 0, \"ticks\": \"\"}, \"type\": \"contourcarpet\"}], \"heatmap\": [{\"colorbar\": {\"outlinewidth\": 0, \"ticks\": \"\"}, \"colorscale\": [[0.0, \"#0d0887\"], [0.1111111111111111, \"#46039f\"], [0.2222222222222222, \"#7201a8\"], [0.3333333333333333, \"#9c179e\"], [0.4444444444444444, \"#bd3786\"], [0.5555555555555556, \"#d8576b\"], [0.6666666666666666, \"#ed7953\"], [0.7777777777777778, \"#fb9f3a\"], [0.8888888888888888, \"#fdca26\"], [1.0, \"#f0f921\"]], \"type\": \"heatmap\"}], \"heatmapgl\": [{\"colorbar\": {\"outlinewidth\": 0, \"ticks\": \"\"}, \"colorscale\": [[0.0, \"#0d0887\"], [0.1111111111111111, \"#46039f\"], [0.2222222222222222, \"#7201a8\"], [0.3333333333333333, \"#9c179e\"], [0.4444444444444444, \"#bd3786\"], [0.5555555555555556, \"#d8576b\"], [0.6666666666666666, \"#ed7953\"], [0.7777777777777778, \"#fb9f3a\"], [0.8888888888888888, \"#fdca26\"], [1.0, \"#f0f921\"]], \"type\": \"heatmapgl\"}], \"histogram\": [{\"marker\": {\"colorbar\": {\"outlinewidth\": 0, \"ticks\": \"\"}}, \"type\": \"histogram\"}], \"histogram2d\": [{\"colorbar\": {\"outlinewidth\": 0, \"ticks\": \"\"}, \"colorscale\": [[0.0, \"#0d0887\"], [0.1111111111111111, \"#46039f\"], [0.2222222222222222, \"#7201a8\"], [0.3333333333333333, \"#9c179e\"], [0.4444444444444444, \"#bd3786\"], [0.5555555555555556, \"#d8576b\"], [0.6666666666666666, \"#ed7953\"], [0.7777777777777778, \"#fb9f3a\"], [0.8888888888888888, \"#fdca26\"], [1.0, \"#f0f921\"]], \"type\": \"histogram2d\"}], \"histogram2dcontour\": [{\"colorbar\": {\"outlinewidth\": 0, \"ticks\": \"\"}, \"colorscale\": [[0.0, \"#0d0887\"], [0.1111111111111111, \"#46039f\"], [0.2222222222222222, \"#7201a8\"], [0.3333333333333333, \"#9c179e\"], [0.4444444444444444, \"#bd3786\"], [0.5555555555555556, \"#d8576b\"], [0.6666666666666666, \"#ed7953\"], [0.7777777777777778, \"#fb9f3a\"], [0.8888888888888888, \"#fdca26\"], [1.0, \"#f0f921\"]], \"type\": \"histogram2dcontour\"}], \"mesh3d\": [{\"colorbar\": {\"outlinewidth\": 0, \"ticks\": \"\"}, \"type\": \"mesh3d\"}], \"parcoords\": [{\"line\": {\"colorbar\": {\"outlinewidth\": 0, \"ticks\": \"\"}}, \"type\": \"parcoords\"}], \"pie\": [{\"automargin\": true, \"type\": \"pie\"}], \"scatter\": [{\"marker\": {\"colorbar\": {\"outlinewidth\": 0, \"ticks\": \"\"}}, \"type\": \"scatter\"}], \"scatter3d\": [{\"line\": {\"colorbar\": {\"outlinewidth\": 0, \"ticks\": \"\"}}, \"marker\": {\"colorbar\": {\"outlinewidth\": 0, \"ticks\": \"\"}}, \"type\": \"scatter3d\"}], \"scattercarpet\": [{\"marker\": {\"colorbar\": {\"outlinewidth\": 0, \"ticks\": \"\"}}, \"type\": \"scattercarpet\"}], \"scattergeo\": [{\"marker\": {\"colorbar\": {\"outlinewidth\": 0, \"ticks\": \"\"}}, \"type\": \"scattergeo\"}], \"scattergl\": [{\"marker\": {\"colorbar\": {\"outlinewidth\": 0, \"ticks\": \"\"}}, \"type\": \"scattergl\"}], \"scattermapbox\": [{\"marker\": {\"colorbar\": {\"outlinewidth\": 0, \"ticks\": \"\"}}, \"type\": \"scattermapbox\"}], \"scatterpolar\": [{\"marker\": {\"colorbar\": {\"outlinewidth\": 0, \"ticks\": \"\"}}, \"type\": \"scatterpolar\"}], \"scatterpolargl\": [{\"marker\": {\"colorbar\": {\"outlinewidth\": 0, \"ticks\": \"\"}}, \"type\": \"scatterpolargl\"}], \"scatterternary\": [{\"marker\": {\"colorbar\": {\"outlinewidth\": 0, \"ticks\": \"\"}}, \"type\": \"scatterternary\"}], \"surface\": [{\"colorbar\": {\"outlinewidth\": 0, \"ticks\": \"\"}, \"colorscale\": [[0.0, \"#0d0887\"], [0.1111111111111111, \"#46039f\"], [0.2222222222222222, \"#7201a8\"], [0.3333333333333333, \"#9c179e\"], [0.4444444444444444, \"#bd3786\"], [0.5555555555555556, \"#d8576b\"], [0.6666666666666666, \"#ed7953\"], [0.7777777777777778, \"#fb9f3a\"], [0.8888888888888888, \"#fdca26\"], [1.0, \"#f0f921\"]], \"type\": \"surface\"}], \"table\": [{\"cells\": {\"fill\": {\"color\": \"#EBF0F8\"}, \"line\": {\"color\": \"white\"}}, \"header\": {\"fill\": {\"color\": \"#C8D4E3\"}, \"line\": {\"color\": \"white\"}}, \"type\": \"table\"}]}, \"layout\": {\"annotationdefaults\": {\"arrowcolor\": \"#2a3f5f\", \"arrowhead\": 0, \"arrowwidth\": 1}, \"coloraxis\": {\"colorbar\": {\"outlinewidth\": 0, \"ticks\": \"\"}}, \"colorscale\": {\"diverging\": [[0, \"#8e0152\"], [0.1, \"#c51b7d\"], [0.2, \"#de77ae\"], [0.3, \"#f1b6da\"], [0.4, \"#fde0ef\"], [0.5, \"#f7f7f7\"], [0.6, \"#e6f5d0\"], [0.7, \"#b8e186\"], [0.8, \"#7fbc41\"], [0.9, \"#4d9221\"], [1, \"#276419\"]], \"sequential\": [[0.0, \"#0d0887\"], [0.1111111111111111, \"#46039f\"], [0.2222222222222222, \"#7201a8\"], [0.3333333333333333, \"#9c179e\"], [0.4444444444444444, \"#bd3786\"], [0.5555555555555556, \"#d8576b\"], [0.6666666666666666, \"#ed7953\"], [0.7777777777777778, \"#fb9f3a\"], [0.8888888888888888, \"#fdca26\"], [1.0, \"#f0f921\"]], \"sequentialminus\": [[0.0, \"#0d0887\"], [0.1111111111111111, \"#46039f\"], [0.2222222222222222, \"#7201a8\"], [0.3333333333333333, \"#9c179e\"], [0.4444444444444444, \"#bd3786\"], [0.5555555555555556, \"#d8576b\"], [0.6666666666666666, \"#ed7953\"], [0.7777777777777778, \"#fb9f3a\"], [0.8888888888888888, \"#fdca26\"], [1.0, \"#f0f921\"]]}, \"colorway\": [\"#636efa\", \"#EF553B\", \"#00cc96\", \"#ab63fa\", \"#FFA15A\", \"#19d3f3\", \"#FF6692\", \"#B6E880\", \"#FF97FF\", \"#FECB52\"], \"font\": {\"color\": \"#2a3f5f\"}, \"geo\": {\"bgcolor\": \"white\", \"lakecolor\": \"white\", \"landcolor\": \"#E5ECF6\", \"showlakes\": true, \"showland\": true, \"subunitcolor\": \"white\"}, \"hoverlabel\": {\"align\": \"left\"}, \"hovermode\": \"closest\", \"mapbox\": {\"style\": \"light\"}, \"paper_bgcolor\": \"white\", \"plot_bgcolor\": \"#E5ECF6\", \"polar\": {\"angularaxis\": {\"gridcolor\": \"white\", \"linecolor\": \"white\", \"ticks\": \"\"}, \"bgcolor\": \"#E5ECF6\", \"radialaxis\": {\"gridcolor\": \"white\", \"linecolor\": \"white\", \"ticks\": \"\"}}, \"scene\": {\"xaxis\": {\"backgroundcolor\": \"#E5ECF6\", \"gridcolor\": \"white\", \"gridwidth\": 2, \"linecolor\": \"white\", \"showbackground\": true, \"ticks\": \"\", \"zerolinecolor\": \"white\"}, \"yaxis\": {\"backgroundcolor\": \"#E5ECF6\", \"gridcolor\": \"white\", \"gridwidth\": 2, \"linecolor\": \"white\", \"showbackground\": true, \"ticks\": \"\", \"zerolinecolor\": \"white\"}, \"zaxis\": {\"backgroundcolor\": \"#E5ECF6\", \"gridcolor\": \"white\", \"gridwidth\": 2, \"linecolor\": \"white\", \"showbackground\": true, \"ticks\": \"\", \"zerolinecolor\": \"white\"}}, \"shapedefaults\": {\"line\": {\"color\": \"#2a3f5f\"}}, \"ternary\": {\"aaxis\": {\"gridcolor\": \"white\", \"linecolor\": \"white\", \"ticks\": \"\"}, \"baxis\": {\"gridcolor\": \"white\", \"linecolor\": \"white\", \"ticks\": \"\"}, \"bgcolor\": \"#E5ECF6\", \"caxis\": {\"gridcolor\": \"white\", \"linecolor\": \"white\", \"ticks\": \"\"}}, \"title\": {\"x\": 0.05}, \"xaxis\": {\"automargin\": true, \"gridcolor\": \"white\", \"linecolor\": \"white\", \"ticks\": \"\", \"title\": {\"standoff\": 15}, \"zerolinecolor\": \"white\", \"zerolinewidth\": 2}, \"yaxis\": {\"automargin\": true, \"gridcolor\": \"white\", \"linecolor\": \"white\", \"ticks\": \"\", \"title\": {\"standoff\": 15}, \"zerolinecolor\": \"white\", \"zerolinewidth\": 2}}}, \"title\": {\"text\": \"Brier score\", \"x\": 0.5}, \"xaxis\": {\"dtick\": 100, \"gridcolor\": \"rgb(245, 242, 240)\", \"linecolor\": \"black\", \"range\": [0, 1750], \"tickmode\": \"linear\", \"title\": {\"text\": \"Time (days)\"}}, \"yaxis\": {\"gridcolor\": \"rgb(245, 242, 240)\", \"linecolor\": \"black\", \"title\": {\"text\": \"Brier score\"}}},                        {\"responsive\": true}                    ).then(function(){\n",
       "                            \n",
       "var gd = document.getElementById('8af51600-845e-42d0-aec9-eaded43bc4ee');\n",
       "var x = new MutationObserver(function (mutations, observer) {{\n",
       "        var display = window.getComputedStyle(gd).display;\n",
       "        if (!display || display === 'none') {{\n",
       "            console.log([gd, 'removed!']);\n",
       "            Plotly.purge(gd);\n",
       "            observer.disconnect();\n",
       "        }}\n",
       "}});\n",
       "\n",
       "// Listen for the removal of the full notebook cells\n",
       "var notebookContainer = gd.closest('#notebook-container');\n",
       "if (notebookContainer) {{\n",
       "    x.observe(notebookContainer, {childList: true});\n",
       "}}\n",
       "\n",
       "// Listen for the clearing of the current output cell\n",
       "var outputEl = gd.closest('.output');\n",
       "if (outputEl) {{\n",
       "    x.observe(outputEl, {childList: true});\n",
       "}}\n",
       "\n",
       "                        })                };                });            </script>        </div>"
      ]
     },
     "metadata": {},
     "output_type": "display_data"
    }
   ],
   "source": [
    "fig_brier"
   ]
  },
  {
   "cell_type": "markdown",
   "metadata": {},
   "source": [
    "# Average survival curves"
   ]
  },
  {
   "cell_type": "code",
   "execution_count": 45,
   "metadata": {},
   "outputs": [],
   "source": [
    "group_x = []\n",
    "group_y = []\n",
    "for i in range(10):\n",
    "    idx = targets == i\n",
    "    group_df = predictions.loc[:, idx].mean(axis=1).rename(i)\n",
    "    group_x.append(list(group_df.index))\n",
    "    group_y.append(group_df.values)"
   ]
  },
  {
   "cell_type": "code",
   "execution_count": 46,
   "metadata": {},
   "outputs": [],
   "source": [
    "colors = ['rgb(166,206,227)','rgb(31,120,180)','rgb(178,223,138)','rgb(51,160,44)','rgb(251,154,153)','rgb(227,26,28)','rgb(253,191,111)','rgb(255,127,0)','rgb(202,178,214)','rgb(106,61,154)']\n",
    "traces = []\n",
    "for i in range(10):\n",
    "    trace = go.Scatter(x=group_x[i], y=group_y[i], mode='lines', line_shape='hv', name='group {}'.format(i), line_color=colors[i], line_width=1.5)\n",
    "    traces.append(trace)\n",
    "    \n",
    "layout = go.Layout(\n",
    "#     title='Average survival curves per group', \n",
    "#     title_x=0.5, \n",
    "    xaxis_title='Time (days)', \n",
    "    yaxis_title='S(t | x)', \n",
    "    plot_bgcolor='rgb(252, 253, 255)', \n",
    "    xaxis_gridcolor='rgb(245, 242, 240)',\n",
    "    yaxis_gridcolor='rgb(245, 242, 240)',\n",
    "    yaxis_linecolor=\"black\",\n",
    "    xaxis_linecolor=\"black\",\n",
    "    xaxis_range=(0, 1800),\n",
    "    xaxis_tickmode = 'linear',\n",
    "    xaxis_dtick = 100,\n",
    "    yaxis_range=(0, 1),\n",
    "    yaxis_tickmode = 'linear',\n",
    "    yaxis_dtick = 0.1,\n",
    "    showlegend=True,\n",
    "    legend_yanchor=\"top\",\n",
    "    legend_y = 0.99,\n",
    "    legend_xanchor=\"right\",\n",
    "    legend_x=0.99,\n",
    "    width=500,height=500, autosize=False)\n",
    "fig = go.Figure(traces, layout=layout)"
   ]
  },
  {
   "cell_type": "code",
   "execution_count": 47,
   "metadata": {},
   "outputs": [
    {
     "data": {
      "application/vnd.plotly.v1+json": {
       "config": {
        "plotlyServerURL": "https://plot.ly"
       },
       "data": [
        {
         "line": {
          "color": "rgb(166,206,227)",
          "shape": "hv",
          "width": 1.5
         },
         "mode": "lines",
         "name": "group 0",
         "type": "scatter",
         "x": [
          0,
          66,
          141,
          208,
          292,
          363,
          449,
          592,
          829,
          1785
         ],
         "y": [
          0.9983423352241516,
          0.8867344260215759,
          0.7714228630065918,
          0.6567605137825012,
          0.5434800386428833,
          0.4610420763492584,
          0.38458168506622314,
          0.2649426758289337,
          0.18521566689014435,
          0.004109539557248354
         ]
        },
        {
         "line": {
          "color": "rgb(31,120,180)",
          "shape": "hv",
          "width": 1.5
         },
         "mode": "lines",
         "name": "group 1",
         "type": "scatter",
         "x": [
          0,
          66,
          141,
          208,
          292,
          363,
          449,
          592,
          829,
          1785
         ],
         "y": [
          0.9974650144577026,
          0.7921689748764038,
          0.6848330497741699,
          0.5772663354873657,
          0.44299235939979553,
          0.35099488496780396,
          0.28932029008865356,
          0.1718108355998993,
          0.10589269548654556,
          0.003371787490323186
         ]
        },
        {
         "line": {
          "color": "rgb(178,223,138)",
          "shape": "hv",
          "width": 1.5
         },
         "mode": "lines",
         "name": "group 2",
         "type": "scatter",
         "x": [
          0,
          66,
          141,
          208,
          292,
          363,
          449,
          592,
          829,
          1785
         ],
         "y": [
          0.9980913400650024,
          0.8136533498764038,
          0.7137612700462341,
          0.6145731806755066,
          0.49543580412864685,
          0.4140858054161072,
          0.35056057572364807,
          0.22896762192249298,
          0.16503871977329254,
          0.003947158344089985
         ]
        },
        {
         "line": {
          "color": "rgb(51,160,44)",
          "shape": "hv",
          "width": 1.5
         },
         "mode": "lines",
         "name": "group 3",
         "type": "scatter",
         "x": [
          0,
          66,
          141,
          208,
          292,
          363,
          449,
          592,
          829,
          1785
         ],
         "y": [
          0.997970461845398,
          0.8383874297142029,
          0.7355649471282959,
          0.6386164426803589,
          0.5068850517272949,
          0.4206662178039551,
          0.3510434627532959,
          0.22745449841022491,
          0.14934442937374115,
          0.003954411018639803
         ]
        },
        {
         "line": {
          "color": "rgb(251,154,153)",
          "shape": "hv",
          "width": 1.5
         },
         "mode": "lines",
         "name": "group 4",
         "type": "scatter",
         "x": [
          0,
          66,
          141,
          208,
          292,
          363,
          449,
          592,
          829,
          1785
         ],
         "y": [
          0.9983264207839966,
          0.8716793060302734,
          0.7885949015617371,
          0.7052661776542664,
          0.6154484748840332,
          0.5174255967140198,
          0.4328787922859192,
          0.28739434480667114,
          0.1865939348936081,
          0.00391143374145031
         ]
        },
        {
         "line": {
          "color": "rgb(227,26,28)",
          "shape": "hv",
          "width": 1.5
         },
         "mode": "lines",
         "name": "group 5",
         "type": "scatter",
         "x": [
          0,
          66,
          141,
          208,
          292,
          363,
          449,
          592,
          829,
          1785
         ],
         "y": [
          0.9991726279258728,
          0.9229733943939209,
          0.8646398782730103,
          0.7998394966125488,
          0.7190790176391602,
          0.6175755262374878,
          0.5243289470672607,
          0.3170599639415741,
          0.21741831302642822,
          0.0024180340114980936
         ]
        },
        {
         "line": {
          "color": "rgb(253,191,111)",
          "shape": "hv",
          "width": 1.5
         },
         "mode": "lines",
         "name": "group 6",
         "type": "scatter",
         "x": [
          0,
          66,
          141,
          208,
          292,
          363,
          449,
          592,
          829,
          1785
         ],
         "y": [
          0.9987836480140686,
          0.9018945693969727,
          0.8350826501846313,
          0.7619777321815491,
          0.6681429743766785,
          0.561963677406311,
          0.4744149148464203,
          0.2991321384906769,
          0.1870194524526596,
          0.00390922324731946
         ]
        },
        {
         "line": {
          "color": "rgb(255,127,0)",
          "shape": "hv",
          "width": 1.5
         },
         "mode": "lines",
         "name": "group 7",
         "type": "scatter",
         "x": [
          0,
          66,
          141,
          208,
          292,
          363,
          449,
          592,
          829,
          1785
         ],
         "y": [
          0.9990164637565613,
          0.9471644163131714,
          0.9014593958854675,
          0.8364145755767822,
          0.7753639221191406,
          0.6826589703559875,
          0.5864928364753723,
          0.4228859543800354,
          0.27694541215896606,
          0.002857457147911191
         ]
        },
        {
         "line": {
          "color": "rgb(202,178,214)",
          "shape": "hv",
          "width": 1.5
         },
         "mode": "lines",
         "name": "group 8",
         "type": "scatter",
         "x": [
          0,
          66,
          141,
          208,
          292,
          363,
          449,
          592,
          829,
          1785
         ],
         "y": [
          0.9989035129547119,
          0.8985682129859924,
          0.8312675952911377,
          0.7684186697006226,
          0.6941638588905334,
          0.5932209491729736,
          0.5043483972549438,
          0.32652679085731506,
          0.21693754196166992,
          0.0032641359139233828
         ]
        },
        {
         "line": {
          "color": "rgb(106,61,154)",
          "shape": "hv",
          "width": 1.5
         },
         "mode": "lines",
         "name": "group 9",
         "type": "scatter",
         "x": [
          0,
          66,
          141,
          208,
          292,
          363,
          449,
          592,
          829,
          1785
         ],
         "y": [
          0.9988542795181274,
          0.895749032497406,
          0.8249192833900452,
          0.7464290261268616,
          0.6622538566589355,
          0.5684441328048706,
          0.47534090280532837,
          0.309603750705719,
          0.22485075891017914,
          0.0036135942209511995
         ]
        }
       ],
       "layout": {
        "autosize": false,
        "height": 500,
        "legend": {
         "x": 0.99,
         "xanchor": "right",
         "y": 0.99,
         "yanchor": "top"
        },
        "plot_bgcolor": "rgb(252, 253, 255)",
        "showlegend": true,
        "template": {
         "data": {
          "bar": [
           {
            "error_x": {
             "color": "#2a3f5f"
            },
            "error_y": {
             "color": "#2a3f5f"
            },
            "marker": {
             "line": {
              "color": "#E5ECF6",
              "width": 0.5
             }
            },
            "type": "bar"
           }
          ],
          "barpolar": [
           {
            "marker": {
             "line": {
              "color": "#E5ECF6",
              "width": 0.5
             }
            },
            "type": "barpolar"
           }
          ],
          "carpet": [
           {
            "aaxis": {
             "endlinecolor": "#2a3f5f",
             "gridcolor": "white",
             "linecolor": "white",
             "minorgridcolor": "white",
             "startlinecolor": "#2a3f5f"
            },
            "baxis": {
             "endlinecolor": "#2a3f5f",
             "gridcolor": "white",
             "linecolor": "white",
             "minorgridcolor": "white",
             "startlinecolor": "#2a3f5f"
            },
            "type": "carpet"
           }
          ],
          "choropleth": [
           {
            "colorbar": {
             "outlinewidth": 0,
             "ticks": ""
            },
            "type": "choropleth"
           }
          ],
          "contour": [
           {
            "colorbar": {
             "outlinewidth": 0,
             "ticks": ""
            },
            "colorscale": [
             [
              0,
              "#0d0887"
             ],
             [
              0.1111111111111111,
              "#46039f"
             ],
             [
              0.2222222222222222,
              "#7201a8"
             ],
             [
              0.3333333333333333,
              "#9c179e"
             ],
             [
              0.4444444444444444,
              "#bd3786"
             ],
             [
              0.5555555555555556,
              "#d8576b"
             ],
             [
              0.6666666666666666,
              "#ed7953"
             ],
             [
              0.7777777777777778,
              "#fb9f3a"
             ],
             [
              0.8888888888888888,
              "#fdca26"
             ],
             [
              1,
              "#f0f921"
             ]
            ],
            "type": "contour"
           }
          ],
          "contourcarpet": [
           {
            "colorbar": {
             "outlinewidth": 0,
             "ticks": ""
            },
            "type": "contourcarpet"
           }
          ],
          "heatmap": [
           {
            "colorbar": {
             "outlinewidth": 0,
             "ticks": ""
            },
            "colorscale": [
             [
              0,
              "#0d0887"
             ],
             [
              0.1111111111111111,
              "#46039f"
             ],
             [
              0.2222222222222222,
              "#7201a8"
             ],
             [
              0.3333333333333333,
              "#9c179e"
             ],
             [
              0.4444444444444444,
              "#bd3786"
             ],
             [
              0.5555555555555556,
              "#d8576b"
             ],
             [
              0.6666666666666666,
              "#ed7953"
             ],
             [
              0.7777777777777778,
              "#fb9f3a"
             ],
             [
              0.8888888888888888,
              "#fdca26"
             ],
             [
              1,
              "#f0f921"
             ]
            ],
            "type": "heatmap"
           }
          ],
          "heatmapgl": [
           {
            "colorbar": {
             "outlinewidth": 0,
             "ticks": ""
            },
            "colorscale": [
             [
              0,
              "#0d0887"
             ],
             [
              0.1111111111111111,
              "#46039f"
             ],
             [
              0.2222222222222222,
              "#7201a8"
             ],
             [
              0.3333333333333333,
              "#9c179e"
             ],
             [
              0.4444444444444444,
              "#bd3786"
             ],
             [
              0.5555555555555556,
              "#d8576b"
             ],
             [
              0.6666666666666666,
              "#ed7953"
             ],
             [
              0.7777777777777778,
              "#fb9f3a"
             ],
             [
              0.8888888888888888,
              "#fdca26"
             ],
             [
              1,
              "#f0f921"
             ]
            ],
            "type": "heatmapgl"
           }
          ],
          "histogram": [
           {
            "marker": {
             "colorbar": {
              "outlinewidth": 0,
              "ticks": ""
             }
            },
            "type": "histogram"
           }
          ],
          "histogram2d": [
           {
            "colorbar": {
             "outlinewidth": 0,
             "ticks": ""
            },
            "colorscale": [
             [
              0,
              "#0d0887"
             ],
             [
              0.1111111111111111,
              "#46039f"
             ],
             [
              0.2222222222222222,
              "#7201a8"
             ],
             [
              0.3333333333333333,
              "#9c179e"
             ],
             [
              0.4444444444444444,
              "#bd3786"
             ],
             [
              0.5555555555555556,
              "#d8576b"
             ],
             [
              0.6666666666666666,
              "#ed7953"
             ],
             [
              0.7777777777777778,
              "#fb9f3a"
             ],
             [
              0.8888888888888888,
              "#fdca26"
             ],
             [
              1,
              "#f0f921"
             ]
            ],
            "type": "histogram2d"
           }
          ],
          "histogram2dcontour": [
           {
            "colorbar": {
             "outlinewidth": 0,
             "ticks": ""
            },
            "colorscale": [
             [
              0,
              "#0d0887"
             ],
             [
              0.1111111111111111,
              "#46039f"
             ],
             [
              0.2222222222222222,
              "#7201a8"
             ],
             [
              0.3333333333333333,
              "#9c179e"
             ],
             [
              0.4444444444444444,
              "#bd3786"
             ],
             [
              0.5555555555555556,
              "#d8576b"
             ],
             [
              0.6666666666666666,
              "#ed7953"
             ],
             [
              0.7777777777777778,
              "#fb9f3a"
             ],
             [
              0.8888888888888888,
              "#fdca26"
             ],
             [
              1,
              "#f0f921"
             ]
            ],
            "type": "histogram2dcontour"
           }
          ],
          "mesh3d": [
           {
            "colorbar": {
             "outlinewidth": 0,
             "ticks": ""
            },
            "type": "mesh3d"
           }
          ],
          "parcoords": [
           {
            "line": {
             "colorbar": {
              "outlinewidth": 0,
              "ticks": ""
             }
            },
            "type": "parcoords"
           }
          ],
          "pie": [
           {
            "automargin": true,
            "type": "pie"
           }
          ],
          "scatter": [
           {
            "marker": {
             "colorbar": {
              "outlinewidth": 0,
              "ticks": ""
             }
            },
            "type": "scatter"
           }
          ],
          "scatter3d": [
           {
            "line": {
             "colorbar": {
              "outlinewidth": 0,
              "ticks": ""
             }
            },
            "marker": {
             "colorbar": {
              "outlinewidth": 0,
              "ticks": ""
             }
            },
            "type": "scatter3d"
           }
          ],
          "scattercarpet": [
           {
            "marker": {
             "colorbar": {
              "outlinewidth": 0,
              "ticks": ""
             }
            },
            "type": "scattercarpet"
           }
          ],
          "scattergeo": [
           {
            "marker": {
             "colorbar": {
              "outlinewidth": 0,
              "ticks": ""
             }
            },
            "type": "scattergeo"
           }
          ],
          "scattergl": [
           {
            "marker": {
             "colorbar": {
              "outlinewidth": 0,
              "ticks": ""
             }
            },
            "type": "scattergl"
           }
          ],
          "scattermapbox": [
           {
            "marker": {
             "colorbar": {
              "outlinewidth": 0,
              "ticks": ""
             }
            },
            "type": "scattermapbox"
           }
          ],
          "scatterpolar": [
           {
            "marker": {
             "colorbar": {
              "outlinewidth": 0,
              "ticks": ""
             }
            },
            "type": "scatterpolar"
           }
          ],
          "scatterpolargl": [
           {
            "marker": {
             "colorbar": {
              "outlinewidth": 0,
              "ticks": ""
             }
            },
            "type": "scatterpolargl"
           }
          ],
          "scatterternary": [
           {
            "marker": {
             "colorbar": {
              "outlinewidth": 0,
              "ticks": ""
             }
            },
            "type": "scatterternary"
           }
          ],
          "surface": [
           {
            "colorbar": {
             "outlinewidth": 0,
             "ticks": ""
            },
            "colorscale": [
             [
              0,
              "#0d0887"
             ],
             [
              0.1111111111111111,
              "#46039f"
             ],
             [
              0.2222222222222222,
              "#7201a8"
             ],
             [
              0.3333333333333333,
              "#9c179e"
             ],
             [
              0.4444444444444444,
              "#bd3786"
             ],
             [
              0.5555555555555556,
              "#d8576b"
             ],
             [
              0.6666666666666666,
              "#ed7953"
             ],
             [
              0.7777777777777778,
              "#fb9f3a"
             ],
             [
              0.8888888888888888,
              "#fdca26"
             ],
             [
              1,
              "#f0f921"
             ]
            ],
            "type": "surface"
           }
          ],
          "table": [
           {
            "cells": {
             "fill": {
              "color": "#EBF0F8"
             },
             "line": {
              "color": "white"
             }
            },
            "header": {
             "fill": {
              "color": "#C8D4E3"
             },
             "line": {
              "color": "white"
             }
            },
            "type": "table"
           }
          ]
         },
         "layout": {
          "annotationdefaults": {
           "arrowcolor": "#2a3f5f",
           "arrowhead": 0,
           "arrowwidth": 1
          },
          "coloraxis": {
           "colorbar": {
            "outlinewidth": 0,
            "ticks": ""
           }
          },
          "colorscale": {
           "diverging": [
            [
             0,
             "#8e0152"
            ],
            [
             0.1,
             "#c51b7d"
            ],
            [
             0.2,
             "#de77ae"
            ],
            [
             0.3,
             "#f1b6da"
            ],
            [
             0.4,
             "#fde0ef"
            ],
            [
             0.5,
             "#f7f7f7"
            ],
            [
             0.6,
             "#e6f5d0"
            ],
            [
             0.7,
             "#b8e186"
            ],
            [
             0.8,
             "#7fbc41"
            ],
            [
             0.9,
             "#4d9221"
            ],
            [
             1,
             "#276419"
            ]
           ],
           "sequential": [
            [
             0,
             "#0d0887"
            ],
            [
             0.1111111111111111,
             "#46039f"
            ],
            [
             0.2222222222222222,
             "#7201a8"
            ],
            [
             0.3333333333333333,
             "#9c179e"
            ],
            [
             0.4444444444444444,
             "#bd3786"
            ],
            [
             0.5555555555555556,
             "#d8576b"
            ],
            [
             0.6666666666666666,
             "#ed7953"
            ],
            [
             0.7777777777777778,
             "#fb9f3a"
            ],
            [
             0.8888888888888888,
             "#fdca26"
            ],
            [
             1,
             "#f0f921"
            ]
           ],
           "sequentialminus": [
            [
             0,
             "#0d0887"
            ],
            [
             0.1111111111111111,
             "#46039f"
            ],
            [
             0.2222222222222222,
             "#7201a8"
            ],
            [
             0.3333333333333333,
             "#9c179e"
            ],
            [
             0.4444444444444444,
             "#bd3786"
            ],
            [
             0.5555555555555556,
             "#d8576b"
            ],
            [
             0.6666666666666666,
             "#ed7953"
            ],
            [
             0.7777777777777778,
             "#fb9f3a"
            ],
            [
             0.8888888888888888,
             "#fdca26"
            ],
            [
             1,
             "#f0f921"
            ]
           ]
          },
          "colorway": [
           "#636efa",
           "#EF553B",
           "#00cc96",
           "#ab63fa",
           "#FFA15A",
           "#19d3f3",
           "#FF6692",
           "#B6E880",
           "#FF97FF",
           "#FECB52"
          ],
          "font": {
           "color": "#2a3f5f"
          },
          "geo": {
           "bgcolor": "white",
           "lakecolor": "white",
           "landcolor": "#E5ECF6",
           "showlakes": true,
           "showland": true,
           "subunitcolor": "white"
          },
          "hoverlabel": {
           "align": "left"
          },
          "hovermode": "closest",
          "mapbox": {
           "style": "light"
          },
          "paper_bgcolor": "white",
          "plot_bgcolor": "#E5ECF6",
          "polar": {
           "angularaxis": {
            "gridcolor": "white",
            "linecolor": "white",
            "ticks": ""
           },
           "bgcolor": "#E5ECF6",
           "radialaxis": {
            "gridcolor": "white",
            "linecolor": "white",
            "ticks": ""
           }
          },
          "scene": {
           "xaxis": {
            "backgroundcolor": "#E5ECF6",
            "gridcolor": "white",
            "gridwidth": 2,
            "linecolor": "white",
            "showbackground": true,
            "ticks": "",
            "zerolinecolor": "white"
           },
           "yaxis": {
            "backgroundcolor": "#E5ECF6",
            "gridcolor": "white",
            "gridwidth": 2,
            "linecolor": "white",
            "showbackground": true,
            "ticks": "",
            "zerolinecolor": "white"
           },
           "zaxis": {
            "backgroundcolor": "#E5ECF6",
            "gridcolor": "white",
            "gridwidth": 2,
            "linecolor": "white",
            "showbackground": true,
            "ticks": "",
            "zerolinecolor": "white"
           }
          },
          "shapedefaults": {
           "line": {
            "color": "#2a3f5f"
           }
          },
          "ternary": {
           "aaxis": {
            "gridcolor": "white",
            "linecolor": "white",
            "ticks": ""
           },
           "baxis": {
            "gridcolor": "white",
            "linecolor": "white",
            "ticks": ""
           },
           "bgcolor": "#E5ECF6",
           "caxis": {
            "gridcolor": "white",
            "linecolor": "white",
            "ticks": ""
           }
          },
          "title": {
           "x": 0.05
          },
          "xaxis": {
           "automargin": true,
           "gridcolor": "white",
           "linecolor": "white",
           "ticks": "",
           "title": {
            "standoff": 15
           },
           "zerolinecolor": "white",
           "zerolinewidth": 2
          },
          "yaxis": {
           "automargin": true,
           "gridcolor": "white",
           "linecolor": "white",
           "ticks": "",
           "title": {
            "standoff": 15
           },
           "zerolinecolor": "white",
           "zerolinewidth": 2
          }
         }
        },
        "width": 500,
        "xaxis": {
         "dtick": 100,
         "gridcolor": "rgb(245, 242, 240)",
         "linecolor": "black",
         "range": [
          0,
          1800
         ],
         "tickmode": "linear",
         "title": {
          "text": "Time (days)"
         },
         "type": "linear"
        },
        "yaxis": {
         "dtick": 0.1,
         "gridcolor": "rgb(245, 242, 240)",
         "linecolor": "black",
         "range": [
          0,
          1
         ],
         "tickmode": "linear",
         "title": {
          "text": "S(t | x)"
         },
         "type": "linear"
        }
       }
      },
      "image/png": "[encoded data removed]",
      "text/html": [
       "<div>                            <div id=\"82cd385d-134b-4925-b234-17fd88f17e2e\" class=\"plotly-graph-div\" style=\"height:500px; width:500px;\"></div>            <script type=\"text/javascript\">                require([\"plotly\"], function(Plotly) {                    window.PLOTLYENV=window.PLOTLYENV || {};                                    if (document.getElementById(\"82cd385d-134b-4925-b234-17fd88f17e2e\")) {                    Plotly.newPlot(                        \"82cd385d-134b-4925-b234-17fd88f17e2e\",                        [{\"line\": {\"color\": \"rgb(166,206,227)\", \"shape\": \"hv\", \"width\": 1.5}, \"mode\": \"lines\", \"name\": \"group 0\", \"type\": \"scatter\", \"x\": [0.0, 66.0, 141.0, 208.0, 292.0, 363.0, 449.0, 592.0, 829.0, 1785.0], \"y\": [0.9983423352241516, 0.8867344260215759, 0.7714228630065918, 0.6567605137825012, 0.5434800386428833, 0.4610420763492584, 0.38458168506622314, 0.2649426758289337, 0.18521566689014435, 0.004109539557248354]}, {\"line\": {\"color\": \"rgb(31,120,180)\", \"shape\": \"hv\", \"width\": 1.5}, \"mode\": \"lines\", \"name\": \"group 1\", \"type\": \"scatter\", \"x\": [0.0, 66.0, 141.0, 208.0, 292.0, 363.0, 449.0, 592.0, 829.0, 1785.0], \"y\": [0.9974650144577026, 0.7921689748764038, 0.6848330497741699, 0.5772663354873657, 0.44299235939979553, 0.35099488496780396, 0.28932029008865356, 0.1718108355998993, 0.10589269548654556, 0.003371787490323186]}, {\"line\": {\"color\": \"rgb(178,223,138)\", \"shape\": \"hv\", \"width\": 1.5}, \"mode\": \"lines\", \"name\": \"group 2\", \"type\": \"scatter\", \"x\": [0.0, 66.0, 141.0, 208.0, 292.0, 363.0, 449.0, 592.0, 829.0, 1785.0], \"y\": [0.9980913400650024, 0.8136533498764038, 0.7137612700462341, 0.6145731806755066, 0.49543580412864685, 0.4140858054161072, 0.35056057572364807, 0.22896762192249298, 0.16503871977329254, 0.003947158344089985]}, {\"line\": {\"color\": \"rgb(51,160,44)\", \"shape\": \"hv\", \"width\": 1.5}, \"mode\": \"lines\", \"name\": \"group 3\", \"type\": \"scatter\", \"x\": [0.0, 66.0, 141.0, 208.0, 292.0, 363.0, 449.0, 592.0, 829.0, 1785.0], \"y\": [0.997970461845398, 0.8383874297142029, 0.7355649471282959, 0.6386164426803589, 0.5068850517272949, 0.4206662178039551, 0.3510434627532959, 0.22745449841022491, 0.14934442937374115, 0.003954411018639803]}, {\"line\": {\"color\": \"rgb(251,154,153)\", \"shape\": \"hv\", \"width\": 1.5}, \"mode\": \"lines\", \"name\": \"group 4\", \"type\": \"scatter\", \"x\": [0.0, 66.0, 141.0, 208.0, 292.0, 363.0, 449.0, 592.0, 829.0, 1785.0], \"y\": [0.9983264207839966, 0.8716793060302734, 0.7885949015617371, 0.7052661776542664, 0.6154484748840332, 0.5174255967140198, 0.4328787922859192, 0.28739434480667114, 0.1865939348936081, 0.00391143374145031]}, {\"line\": {\"color\": \"rgb(227,26,28)\", \"shape\": \"hv\", \"width\": 1.5}, \"mode\": \"lines\", \"name\": \"group 5\", \"type\": \"scatter\", \"x\": [0.0, 66.0, 141.0, 208.0, 292.0, 363.0, 449.0, 592.0, 829.0, 1785.0], \"y\": [0.9991726279258728, 0.9229733943939209, 0.8646398782730103, 0.7998394966125488, 0.7190790176391602, 0.6175755262374878, 0.5243289470672607, 0.3170599639415741, 0.21741831302642822, 0.0024180340114980936]}, {\"line\": {\"color\": \"rgb(253,191,111)\", \"shape\": \"hv\", \"width\": 1.5}, \"mode\": \"lines\", \"name\": \"group 6\", \"type\": \"scatter\", \"x\": [0.0, 66.0, 141.0, 208.0, 292.0, 363.0, 449.0, 592.0, 829.0, 1785.0], \"y\": [0.9987836480140686, 0.9018945693969727, 0.8350826501846313, 0.7619777321815491, 0.6681429743766785, 0.561963677406311, 0.4744149148464203, 0.2991321384906769, 0.1870194524526596, 0.00390922324731946]}, {\"line\": {\"color\": \"rgb(255,127,0)\", \"shape\": \"hv\", \"width\": 1.5}, \"mode\": \"lines\", \"name\": \"group 7\", \"type\": \"scatter\", \"x\": [0.0, 66.0, 141.0, 208.0, 292.0, 363.0, 449.0, 592.0, 829.0, 1785.0], \"y\": [0.9990164637565613, 0.9471644163131714, 0.9014593958854675, 0.8364145755767822, 0.7753639221191406, 0.6826589703559875, 0.5864928364753723, 0.4228859543800354, 0.27694541215896606, 0.002857457147911191]}, {\"line\": {\"color\": \"rgb(202,178,214)\", \"shape\": \"hv\", \"width\": 1.5}, \"mode\": \"lines\", \"name\": \"group 8\", \"type\": \"scatter\", \"x\": [0.0, 66.0, 141.0, 208.0, 292.0, 363.0, 449.0, 592.0, 829.0, 1785.0], \"y\": [0.9989035129547119, 0.8985682129859924, 0.8312675952911377, 0.7684186697006226, 0.6941638588905334, 0.5932209491729736, 0.5043483972549438, 0.32652679085731506, 0.21693754196166992, 0.0032641359139233828]}, {\"line\": {\"color\": \"rgb(106,61,154)\", \"shape\": \"hv\", \"width\": 1.5}, \"mode\": \"lines\", \"name\": \"group 9\", \"type\": \"scatter\", \"x\": [0.0, 66.0, 141.0, 208.0, 292.0, 363.0, 449.0, 592.0, 829.0, 1785.0], \"y\": [0.9988542795181274, 0.895749032497406, 0.8249192833900452, 0.7464290261268616, 0.6622538566589355, 0.5684441328048706, 0.47534090280532837, 0.309603750705719, 0.22485075891017914, 0.0036135942209511995]}],                        {\"autosize\": false, \"height\": 500, \"legend\": {\"x\": 0.99, \"xanchor\": \"right\", \"y\": 0.99, \"yanchor\": \"top\"}, \"plot_bgcolor\": \"rgb(252, 253, 255)\", \"showlegend\": true, \"template\": {\"data\": {\"bar\": [{\"error_x\": {\"color\": \"#2a3f5f\"}, \"error_y\": {\"color\": \"#2a3f5f\"}, \"marker\": {\"line\": {\"color\": \"#E5ECF6\", \"width\": 0.5}}, \"type\": \"bar\"}], \"barpolar\": [{\"marker\": {\"line\": {\"color\": \"#E5ECF6\", \"width\": 0.5}}, \"type\": \"barpolar\"}], \"carpet\": [{\"aaxis\": {\"endlinecolor\": \"#2a3f5f\", \"gridcolor\": \"white\", \"linecolor\": \"white\", \"minorgridcolor\": \"white\", \"startlinecolor\": \"#2a3f5f\"}, \"baxis\": {\"endlinecolor\": \"#2a3f5f\", \"gridcolor\": \"white\", \"linecolor\": \"white\", \"minorgridcolor\": \"white\", \"startlinecolor\": \"#2a3f5f\"}, \"type\": \"carpet\"}], \"choropleth\": [{\"colorbar\": {\"outlinewidth\": 0, \"ticks\": \"\"}, \"type\": \"choropleth\"}], \"contour\": [{\"colorbar\": {\"outlinewidth\": 0, \"ticks\": \"\"}, \"colorscale\": [[0.0, \"#0d0887\"], [0.1111111111111111, \"#46039f\"], [0.2222222222222222, \"#7201a8\"], [0.3333333333333333, \"#9c179e\"], [0.4444444444444444, \"#bd3786\"], [0.5555555555555556, \"#d8576b\"], [0.6666666666666666, \"#ed7953\"], [0.7777777777777778, \"#fb9f3a\"], [0.8888888888888888, \"#fdca26\"], [1.0, \"#f0f921\"]], \"type\": \"contour\"}], \"contourcarpet\": [{\"colorbar\": {\"outlinewidth\": 0, \"ticks\": \"\"}, \"type\": \"contourcarpet\"}], \"heatmap\": [{\"colorbar\": {\"outlinewidth\": 0, \"ticks\": \"\"}, \"colorscale\": [[0.0, \"#0d0887\"], [0.1111111111111111, \"#46039f\"], [0.2222222222222222, \"#7201a8\"], [0.3333333333333333, \"#9c179e\"], [0.4444444444444444, \"#bd3786\"], [0.5555555555555556, \"#d8576b\"], [0.6666666666666666, \"#ed7953\"], [0.7777777777777778, \"#fb9f3a\"], [0.8888888888888888, \"#fdca26\"], [1.0, \"#f0f921\"]], \"type\": \"heatmap\"}], \"heatmapgl\": [{\"colorbar\": {\"outlinewidth\": 0, \"ticks\": \"\"}, \"colorscale\": [[0.0, \"#0d0887\"], [0.1111111111111111, \"#46039f\"], [0.2222222222222222, \"#7201a8\"], [0.3333333333333333, \"#9c179e\"], [0.4444444444444444, \"#bd3786\"], [0.5555555555555556, \"#d8576b\"], [0.6666666666666666, \"#ed7953\"], [0.7777777777777778, \"#fb9f3a\"], [0.8888888888888888, \"#fdca26\"], [1.0, \"#f0f921\"]], \"type\": \"heatmapgl\"}], \"histogram\": [{\"marker\": {\"colorbar\": {\"outlinewidth\": 0, \"ticks\": \"\"}}, \"type\": \"histogram\"}], \"histogram2d\": [{\"colorbar\": {\"outlinewidth\": 0, \"ticks\": \"\"}, \"colorscale\": [[0.0, \"#0d0887\"], [0.1111111111111111, \"#46039f\"], [0.2222222222222222, \"#7201a8\"], [0.3333333333333333, \"#9c179e\"], [0.4444444444444444, \"#bd3786\"], [0.5555555555555556, \"#d8576b\"], [0.6666666666666666, \"#ed7953\"], [0.7777777777777778, \"#fb9f3a\"], [0.8888888888888888, \"#fdca26\"], [1.0, \"#f0f921\"]], \"type\": \"histogram2d\"}], \"histogram2dcontour\": [{\"colorbar\": {\"outlinewidth\": 0, \"ticks\": \"\"}, \"colorscale\": [[0.0, \"#0d0887\"], [0.1111111111111111, \"#46039f\"], [0.2222222222222222, \"#7201a8\"], [0.3333333333333333, \"#9c179e\"], [0.4444444444444444, \"#bd3786\"], [0.5555555555555556, \"#d8576b\"], [0.6666666666666666, \"#ed7953\"], [0.7777777777777778, \"#fb9f3a\"], [0.8888888888888888, \"#fdca26\"], [1.0, \"#f0f921\"]], \"type\": \"histogram2dcontour\"}], \"mesh3d\": [{\"colorbar\": {\"outlinewidth\": 0, \"ticks\": \"\"}, \"type\": \"mesh3d\"}], \"parcoords\": [{\"line\": {\"colorbar\": {\"outlinewidth\": 0, \"ticks\": \"\"}}, \"type\": \"parcoords\"}], \"pie\": [{\"automargin\": true, \"type\": \"pie\"}], \"scatter\": [{\"marker\": {\"colorbar\": {\"outlinewidth\": 0, \"ticks\": \"\"}}, \"type\": \"scatter\"}], \"scatter3d\": [{\"line\": {\"colorbar\": {\"outlinewidth\": 0, \"ticks\": \"\"}}, \"marker\": {\"colorbar\": {\"outlinewidth\": 0, \"ticks\": \"\"}}, \"type\": \"scatter3d\"}], \"scattercarpet\": [{\"marker\": {\"colorbar\": {\"outlinewidth\": 0, \"ticks\": \"\"}}, \"type\": \"scattercarpet\"}], \"scattergeo\": [{\"marker\": {\"colorbar\": {\"outlinewidth\": 0, \"ticks\": \"\"}}, \"type\": \"scattergeo\"}], \"scattergl\": [{\"marker\": {\"colorbar\": {\"outlinewidth\": 0, \"ticks\": \"\"}}, \"type\": \"scattergl\"}], \"scattermapbox\": [{\"marker\": {\"colorbar\": {\"outlinewidth\": 0, \"ticks\": \"\"}}, \"type\": \"scattermapbox\"}], \"scatterpolar\": [{\"marker\": {\"colorbar\": {\"outlinewidth\": 0, \"ticks\": \"\"}}, \"type\": \"scatterpolar\"}], \"scatterpolargl\": [{\"marker\": {\"colorbar\": {\"outlinewidth\": 0, \"ticks\": \"\"}}, \"type\": \"scatterpolargl\"}], \"scatterternary\": [{\"marker\": {\"colorbar\": {\"outlinewidth\": 0, \"ticks\": \"\"}}, \"type\": \"scatterternary\"}], \"surface\": [{\"colorbar\": {\"outlinewidth\": 0, \"ticks\": \"\"}, \"colorscale\": [[0.0, \"#0d0887\"], [0.1111111111111111, \"#46039f\"], [0.2222222222222222, \"#7201a8\"], [0.3333333333333333, \"#9c179e\"], [0.4444444444444444, \"#bd3786\"], [0.5555555555555556, \"#d8576b\"], [0.6666666666666666, \"#ed7953\"], [0.7777777777777778, \"#fb9f3a\"], [0.8888888888888888, \"#fdca26\"], [1.0, \"#f0f921\"]], \"type\": \"surface\"}], \"table\": [{\"cells\": {\"fill\": {\"color\": \"#EBF0F8\"}, \"line\": {\"color\": \"white\"}}, \"header\": {\"fill\": {\"color\": \"#C8D4E3\"}, \"line\": {\"color\": \"white\"}}, \"type\": \"table\"}]}, \"layout\": {\"annotationdefaults\": {\"arrowcolor\": \"#2a3f5f\", \"arrowhead\": 0, \"arrowwidth\": 1}, \"coloraxis\": {\"colorbar\": {\"outlinewidth\": 0, \"ticks\": \"\"}}, \"colorscale\": {\"diverging\": [[0, \"#8e0152\"], [0.1, \"#c51b7d\"], [0.2, \"#de77ae\"], [0.3, \"#f1b6da\"], [0.4, \"#fde0ef\"], [0.5, \"#f7f7f7\"], [0.6, \"#e6f5d0\"], [0.7, \"#b8e186\"], [0.8, \"#7fbc41\"], [0.9, \"#4d9221\"], [1, \"#276419\"]], \"sequential\": [[0.0, \"#0d0887\"], [0.1111111111111111, \"#46039f\"], [0.2222222222222222, \"#7201a8\"], [0.3333333333333333, \"#9c179e\"], [0.4444444444444444, \"#bd3786\"], [0.5555555555555556, \"#d8576b\"], [0.6666666666666666, \"#ed7953\"], [0.7777777777777778, \"#fb9f3a\"], [0.8888888888888888, \"#fdca26\"], [1.0, \"#f0f921\"]], \"sequentialminus\": [[0.0, \"#0d0887\"], [0.1111111111111111, \"#46039f\"], [0.2222222222222222, \"#7201a8\"], [0.3333333333333333, \"#9c179e\"], [0.4444444444444444, \"#bd3786\"], [0.5555555555555556, \"#d8576b\"], [0.6666666666666666, \"#ed7953\"], [0.7777777777777778, \"#fb9f3a\"], [0.8888888888888888, \"#fdca26\"], [1.0, \"#f0f921\"]]}, \"colorway\": [\"#636efa\", \"#EF553B\", \"#00cc96\", \"#ab63fa\", \"#FFA15A\", \"#19d3f3\", \"#FF6692\", \"#B6E880\", \"#FF97FF\", \"#FECB52\"], \"font\": {\"color\": \"#2a3f5f\"}, \"geo\": {\"bgcolor\": \"white\", \"lakecolor\": \"white\", \"landcolor\": \"#E5ECF6\", \"showlakes\": true, \"showland\": true, \"subunitcolor\": \"white\"}, \"hoverlabel\": {\"align\": \"left\"}, \"hovermode\": \"closest\", \"mapbox\": {\"style\": \"light\"}, \"paper_bgcolor\": \"white\", \"plot_bgcolor\": \"#E5ECF6\", \"polar\": {\"angularaxis\": {\"gridcolor\": \"white\", \"linecolor\": \"white\", \"ticks\": \"\"}, \"bgcolor\": \"#E5ECF6\", \"radialaxis\": {\"gridcolor\": \"white\", \"linecolor\": \"white\", \"ticks\": \"\"}}, \"scene\": {\"xaxis\": {\"backgroundcolor\": \"#E5ECF6\", \"gridcolor\": \"white\", \"gridwidth\": 2, \"linecolor\": \"white\", \"showbackground\": true, \"ticks\": \"\", \"zerolinecolor\": \"white\"}, \"yaxis\": {\"backgroundcolor\": \"#E5ECF6\", \"gridcolor\": \"white\", \"gridwidth\": 2, \"linecolor\": \"white\", \"showbackground\": true, \"ticks\": \"\", \"zerolinecolor\": \"white\"}, \"zaxis\": {\"backgroundcolor\": \"#E5ECF6\", \"gridcolor\": \"white\", \"gridwidth\": 2, \"linecolor\": \"white\", \"showbackground\": true, \"ticks\": \"\", \"zerolinecolor\": \"white\"}}, \"shapedefaults\": {\"line\": {\"color\": \"#2a3f5f\"}}, \"ternary\": {\"aaxis\": {\"gridcolor\": \"white\", \"linecolor\": \"white\", \"ticks\": \"\"}, \"baxis\": {\"gridcolor\": \"white\", \"linecolor\": \"white\", \"ticks\": \"\"}, \"bgcolor\": \"#E5ECF6\", \"caxis\": {\"gridcolor\": \"white\", \"linecolor\": \"white\", \"ticks\": \"\"}}, \"title\": {\"x\": 0.05}, \"xaxis\": {\"automargin\": true, \"gridcolor\": \"white\", \"linecolor\": \"white\", \"ticks\": \"\", \"title\": {\"standoff\": 15}, \"zerolinecolor\": \"white\", \"zerolinewidth\": 2}, \"yaxis\": {\"automargin\": true, \"gridcolor\": \"white\", \"linecolor\": \"white\", \"ticks\": \"\", \"title\": {\"standoff\": 15}, \"zerolinecolor\": \"white\", \"zerolinewidth\": 2}}}, \"width\": 500, \"xaxis\": {\"dtick\": 100, \"gridcolor\": \"rgb(245, 242, 240)\", \"linecolor\": \"black\", \"range\": [0, 1800], \"tickmode\": \"linear\", \"title\": {\"text\": \"Time (days)\"}}, \"yaxis\": {\"dtick\": 0.1, \"gridcolor\": \"rgb(245, 242, 240)\", \"linecolor\": \"black\", \"range\": [0, 1], \"tickmode\": \"linear\", \"title\": {\"text\": \"S(t | x)\"}}},                        {\"responsive\": true}                    ).then(function(){\n",
       "                            \n",
       "var gd = document.getElementById('82cd385d-134b-4925-b234-17fd88f17e2e');\n",
       "var x = new MutationObserver(function (mutations, observer) {{\n",
       "        var display = window.getComputedStyle(gd).display;\n",
       "        if (!display || display === 'none') {{\n",
       "            console.log([gd, 'removed!']);\n",
       "            Plotly.purge(gd);\n",
       "            observer.disconnect();\n",
       "        }}\n",
       "}});\n",
       "\n",
       "// Listen for the removal of the full notebook cells\n",
       "var notebookContainer = gd.closest('#notebook-container');\n",
       "if (notebookContainer) {{\n",
       "    x.observe(notebookContainer, {childList: true});\n",
       "}}\n",
       "\n",
       "// Listen for the clearing of the current output cell\n",
       "var outputEl = gd.closest('.output');\n",
       "if (outputEl) {{\n",
       "    x.observe(outputEl, {childList: true});\n",
       "}}\n",
       "\n",
       "                        })                };                });            </script>        </div>"
      ]
     },
     "metadata": {},
     "output_type": "display_data"
    }
   ],
   "source": [
    "fig"
   ]
  },
  {
   "cell_type": "code",
   "execution_count": 24,
   "metadata": {},
   "outputs": [
    {
     "data": {
      "text/html": [
       "<div>\n",
       "<style scoped>\n",
       "    .dataframe tbody tr th:only-of-type {\n",
       "        vertical-align: middle;\n",
       "    }\n",
       "\n",
       "    .dataframe tbody tr th {\n",
       "        vertical-align: top;\n",
       "    }\n",
       "\n",
       "    .dataframe thead th {\n",
       "        text-align: right;\n",
       "    }\n",
       "</style>\n",
       "<table border=\"1\" class=\"dataframe\">\n",
       "  <thead>\n",
       "    <tr style=\"text-align: right;\">\n",
       "      <th></th>\n",
       "      <th>train_loss</th>\n",
       "      <th>val_loss</th>\n",
       "    </tr>\n",
       "  </thead>\n",
       "  <tbody>\n",
       "    <tr>\n",
       "      <th>0</th>\n",
       "      <td>2.457190</td>\n",
       "      <td>3.246403</td>\n",
       "    </tr>\n",
       "    <tr>\n",
       "      <th>1</th>\n",
       "      <td>1.982539</td>\n",
       "      <td>2.411965</td>\n",
       "    </tr>\n",
       "    <tr>\n",
       "      <th>2</th>\n",
       "      <td>1.941003</td>\n",
       "      <td>1.977106</td>\n",
       "    </tr>\n",
       "    <tr>\n",
       "      <th>3</th>\n",
       "      <td>1.976833</td>\n",
       "      <td>1.996196</td>\n",
       "    </tr>\n",
       "    <tr>\n",
       "      <th>4</th>\n",
       "      <td>1.923453</td>\n",
       "      <td>2.091071</td>\n",
       "    </tr>\n",
       "    <tr>\n",
       "      <th>5</th>\n",
       "      <td>1.871715</td>\n",
       "      <td>2.048830</td>\n",
       "    </tr>\n",
       "    <tr>\n",
       "      <th>6</th>\n",
       "      <td>1.879027</td>\n",
       "      <td>2.038847</td>\n",
       "    </tr>\n",
       "    <tr>\n",
       "      <th>7</th>\n",
       "      <td>1.858074</td>\n",
       "      <td>2.023517</td>\n",
       "    </tr>\n",
       "  </tbody>\n",
       "</table>\n",
       "</div>"
      ],
      "text/plain": [
       "   train_loss  val_loss\n",
       "0    2.457190  3.246403\n",
       "1    1.982539  2.411965\n",
       "2    1.941003  1.977106\n",
       "3    1.976833  1.996196\n",
       "4    1.923453  2.091071\n",
       "5    1.871715  2.048830\n",
       "6    1.879027  2.038847\n",
       "7    1.858074  2.023517"
      ]
     },
     "execution_count": 24,
     "metadata": {},
     "output_type": "execute_result"
    }
   ],
   "source": [
    "log.to_pandas()"
   ]
  }
 ],
 "metadata": {
  "kernelspec": {
   "display_name": "Python 3",
   "language": "python",
   "name": "python3"
  },
  "language_info": {
   "codemirror_mode": {
    "name": "ipython",
    "version": 3
   },
   "file_extension": ".py",
   "mimetype": "text/x-python",
   "name": "python",
   "nbconvert_exporter": "python",
   "pygments_lexer": "ipython3",
   "version": "3.7.6"
  }
 },
 "nbformat": 4,
 "nbformat_minor": 4
}
